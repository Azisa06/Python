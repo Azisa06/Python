{
  "nbformat": 4,
  "nbformat_minor": 0,
  "metadata": {
    "colab": {
      "provenance": [],
      "include_colab_link": true
    },
    "kernelspec": {
      "name": "python3",
      "display_name": "Python 3"
    }
  },
  "cells": [
    {
      "cell_type": "markdown",
      "metadata": {
        "id": "view-in-github",
        "colab_type": "text"
      },
      "source": [
        "<a href=\"https://colab.research.google.com/github/Azisa06/Python/blob/main/Isabella_Thomazini_232_LP_Funcao_ss_n.ipynb\" target=\"_parent\"><img src=\"https://colab.research.google.com/assets/colab-badge.svg\" alt=\"Open In Colab\"/></a>"
      ]
    },
    {
      "cell_type": "markdown",
      "source": [
        "### 1.0 (Função sem retorno sem parâmetro) Faça um programa contendo uma função/método que leia um número e o multiplique por 2. Apresente o resultado. EXEMPLO."
      ],
      "metadata": {
        "id": "M5n5-Zgkjfq_"
      }
    },
    {
      "cell_type": "code",
      "source": [
        "def multiplicar(): # definição da função\n",
        "    numero = int(input('Digite um número: '))\n",
        "    resultado = numero * 2\n",
        "    print('O resultado da multiplicação é', resultado)\n",
        "\n",
        "multiplicar()"
      ],
      "metadata": {
        "id": "xPwnHKnifEU5",
        "colab": {
          "base_uri": "https://localhost:8080/"
        },
        "outputId": "1f19e862-2dfc-4072-d4d3-69555c9e3a99"
      },
      "execution_count": null,
      "outputs": [
        {
          "output_type": "stream",
          "name": "stdout",
          "text": [
            "Digite um número: 5\n",
            "O resultado da multiplicação é 10\n"
          ]
        }
      ]
    },
    {
      "cell_type": "code",
      "source": [
        "def multiplicar(): # definição da função\n",
        "    numero = int(input('Digite um número: '))\n",
        "    resultado = numero * 2\n",
        "    print('O resultado da multiplicação é', resultado)\n",
        "\n",
        "def main():\n",
        "    multiplicar()\n",
        "\n",
        "main() # É uma boa prática implementar a função main"
      ],
      "metadata": {
        "id": "RrpM-SW6fluC"
      },
      "execution_count": null,
      "outputs": []
    },
    {
      "cell_type": "markdown",
      "metadata": {
        "id": "skN-Wz61xZzi"
      },
      "source": [
        "### 1.1 (Função sem retorno sem parâmetro) Faça um programa contendo uma função/método que apresente o valor 1 se o número digitado for positivo e 0 se for negativo."
      ]
    },
    {
      "cell_type": "code",
      "source": [
        "def digitar():\n",
        "    numero = int(input(\"Digite um número: \"))\n",
        "    if numero > 0:\n",
        "        print(\"1\")\n",
        "    else:\n",
        "        print(\"0\")\n",
        "\n",
        "def main():\n",
        "    digitar()\n",
        "\n",
        "main()"
      ],
      "metadata": {
        "id": "MDtE7mKPyXqE",
        "colab": {
          "base_uri": "https://localhost:8080/"
        },
        "outputId": "11d055a5-6e33-4055-95bf-506facc513f1"
      },
      "execution_count": null,
      "outputs": [
        {
          "output_type": "stream",
          "name": "stdout",
          "text": [
            "Digite um número: -10\n",
            "0\n"
          ]
        }
      ]
    },
    {
      "cell_type": "markdown",
      "metadata": {
        "id": "0jPoba3-yLnG"
      },
      "source": [
        "### 2. (Função sem retorno sem parâmetro) Faça uma função/método que leia dois valores positivos e apresente a soma dos N números existentes entre eles (inclusive).\n",
        "    Exemplo:\n",
        "        a = 2\n",
        "        b = 8\n",
        "        2 + 3 + 4 + 5 + 6 + 7 + 8\n",
        "        soma = 35"
      ]
    },
    {
      "cell_type": "code",
      "metadata": {
        "id": "UHD2oMlJyLzc",
        "colab": {
          "base_uri": "https://localhost:8080/"
        },
        "outputId": "d38032b3-7d00-4241-d08d-9a99ee02f51a"
      },
      "source": [
        "def soma():\n",
        "    a = int(input(\"Digite o primeiro número: \"))\n",
        "    b = int(input(\"Digite o segundo número: \"))\n",
        "    calculo = 0\n",
        "    for i in range(a, b+1):\n",
        "        calculo += i\n",
        "    print(\"A soma dos números é: \", calculo)\n",
        "\n",
        "def main():\n",
        "    soma()\n",
        "\n",
        "main()"
      ],
      "execution_count": null,
      "outputs": [
        {
          "output_type": "stream",
          "name": "stdout",
          "text": [
            "Digite o primeiro número: 2\n",
            "Digite o segundo número: 8\n",
            "A soma dos números é:  35\n"
          ]
        }
      ]
    },
    {
      "cell_type": "markdown",
      "metadata": {
        "id": "HAz_eYfhzg06"
      },
      "source": [
        "### 3. (Função sem retorno sem parâmetro) Faça uma função/método que receba três números inteiros *a*, *b*, *c* que sejam divisíveis por ***a***. Os valores *b* e *c* representam o intervalo da estrutura de repetição. Apresente a quantidade e os números divisíveis. Não pode usar vetor e função pronta da linguagem Python.\n",
        "    Exemplo:\n",
        "        a = 5\n",
        "        b = 1\n",
        "        c = 10\n",
        "        1 % a\n",
        "        2 % a\n",
        "        3 % a\n",
        "        4 % a\n",
        "        5 % a este valor é divisível\n",
        "        6 % a\n",
        "        7\n",
        "        8\n",
        "        9\n",
        "        10 % a este valor é divisível\n",
        "        qtde = 2\n"
      ]
    },
    {
      "cell_type": "code",
      "metadata": {
        "id": "Cg-NIjInzfmU",
        "colab": {
          "base_uri": "https://localhost:8080/"
        },
        "outputId": "340da56d-4c84-43e5-9ab9-76ff6a01fe15"
      },
      "source": [
        "def div_a():\n",
        "    a = int(input(\"Digite o valor de A: \"))\n",
        "    b = int(input(\"Digite o valor de B: \"))\n",
        "    c = int(input(\"Digite o valor de C: \"))\n",
        "    divisiveis = 0\n",
        "    for i in range(b, c+1):\n",
        "        if i % a == 0:\n",
        "            divisiveis += 1\n",
        "            print(\"O número\", i, \"é divisível por\", a)\n",
        "    print(divisiveis, \"números são divisíveis por\", a)\n",
        "\n",
        "def main():\n",
        "    div_a()\n",
        "\n",
        "main()"
      ],
      "execution_count": null,
      "outputs": [
        {
          "output_type": "stream",
          "name": "stdout",
          "text": [
            "Digite o valor de A: 5\n",
            "Digite o valor de B: 1\n",
            "Digite o valor de C: 10\n",
            "O número 5 é divisível por 5\n",
            "O número 10 é divisível por 5\n",
            "2 números são divisíveis por 5\n"
          ]
        }
      ]
    },
    {
      "cell_type": "markdown",
      "source": [],
      "metadata": {
        "id": "pXev2L1kiwS0"
      }
    },
    {
      "cell_type": "markdown",
      "metadata": {
        "id": "_aPd4c1b3OjS"
      },
      "source": [
        "### 4. (Função sem retorno sem parâmetro) Faça uma função/método que leia um único valor representado em segundos, converta-o e apresente o resultado em horas, minutos e segundos.\n",
        "    h = segundos / 3600\n",
        "    r = resto(segundos / 3600)\n",
        "    m = r / 60\n",
        "    s = resto(r / 60)\n",
        "    Observação 1: resto de uma divisão em Python %.\n",
        "    Observação 2: a hora, o minuto e o segundo devem ser apresentados como números inteiros."
      ]
    },
    {
      "cell_type": "code",
      "metadata": {
        "id": "Q6LPIy_LCQuO",
        "colab": {
          "base_uri": "https://localhost:8080/"
        },
        "outputId": "5d4533b2-ae34-4b2e-ef0f-8f17a97a9d53"
      },
      "source": [
        "def calculo():\n",
        "    seg = int(input(\"Digite o valor em segundos: \"))\n",
        "    hora = seg // 3600\n",
        "    rest = seg % 3600\n",
        "    min = rest // 60\n",
        "    seg = rest % 60\n",
        "    print(f'{hora} hora(s), {min} minuto(s) e {seg} segundo(s)')\n",
        "\n",
        "def main():\n",
        "    calculo()\n",
        "\n",
        "main()"
      ],
      "execution_count": null,
      "outputs": [
        {
          "output_type": "stream",
          "name": "stdout",
          "text": [
            "Digite o valor em segundos: 3600\n",
            "1 hora(s), 0 minuto(s) e 0 segundo(s)\n"
          ]
        }
      ]
    },
    {
      "cell_type": "markdown",
      "metadata": {
        "id": "JgYwP3n1CQ_U"
      },
      "source": [
        "### 5. (Função sem retorno sem parâmetro) Faça uma função/método que receba o preço antigo e atual de um produto, determine o percentual de acréscimo entre esses valores e apresente-o.\n",
        "    r = (100 * preco_novo - 100 * preco_antigo) / preco_antigo"
      ]
    },
    {
      "cell_type": "code",
      "metadata": {
        "id": "fb6TwQ_yh_To",
        "colab": {
          "base_uri": "https://localhost:8080/"
        },
        "outputId": "a46f8350-51f6-48ef-f32b-10d46fbbf91d"
      },
      "source": [
        "def percent():\n",
        "    antigo = float(input(\"Digite o antigo valor do produto: \"))\n",
        "    novo = float(input(\"Digite o novo valor do produto: \"))\n",
        "    aumento = (100 * novo - 100 * antigo) / antigo\n",
        "    print(f\"O percentual de aumento foi de {aumento}%\")\n",
        "\n",
        "def main():\n",
        "    percent()\n",
        "\n",
        "main()"
      ],
      "execution_count": null,
      "outputs": [
        {
          "output_type": "stream",
          "name": "stdout",
          "text": [
            "Digite o antigo valor do produto: 100\n",
            "Digite o novo valor do produto: 120\n",
            "O percentual de aumento foi de 20.0%\n"
          ]
        }
      ]
    },
    {
      "cell_type": "markdown",
      "metadata": {
        "id": "fZNXRUrrh_g9"
      },
      "source": [
        " ### 6. (Função sem retorno sem parâmetro) Faça uma função/método que leia um valor inteiro entre 1 e 9 e mostre a seguinte tabela de **multiplicação**\n",
        "Neste exemplo foi escolhido o número 9.\n",
        "\n",
        "    1    \n",
        "    2     4\n",
        "    3     6     9\n",
        "    4     8    12    16\n",
        "    5    10    15    20    25\n",
        "    6    12    18    24    30    36\n",
        "    7    14    21    28    35    42    49\n",
        "    8    16    24    32    40    48    56    64   \n",
        "    9    18    27    36    45    54    63    72    81\n",
        "    for i = 1 até n\n",
        "       for j = 1 até i\n",
        "       \n",
        "    Observação: configure o print para não pular linha, use o parâmetro end."
      ]
    },
    {
      "cell_type": "code",
      "metadata": {
        "id": "qA3MK3i1lJ-B",
        "colab": {
          "base_uri": "https://localhost:8080/"
        },
        "outputId": "0c260fd9-d21f-470c-9388-4ce24badd005"
      },
      "source": [
        "# Digite seu código aqui.\n",
        "# Para ter a mesma forma de apresentação use assim o print(r, end = '\\t')\n",
        "def tabela_de_multiplicacao():\n",
        "    n = int(input(\"Digite um valor inteiro entre 1 e 9: \"))\n",
        "    if n < 1 and n > 9:\n",
        "        print(\"Valor inválido\")\n",
        "    else:\n",
        "        for i in range(1, n + 1):\n",
        "            for j in range(1, i + 1):\n",
        "                resultado = i * j\n",
        "                print(resultado, end=\"\\t\")\n",
        "            print()\n",
        "\n",
        "def main():\n",
        "    tabela_de_multiplicacao()\n",
        "\n",
        "main()"
      ],
      "execution_count": null,
      "outputs": [
        {
          "output_type": "stream",
          "name": "stdout",
          "text": [
            "Digite um valor inteiro entre 1 e 9: 6\n",
            "1\t\n",
            "2\t4\t\n",
            "3\t6\t9\t\n",
            "4\t8\t12\t16\t\n",
            "5\t10\t15\t20\t25\t\n",
            "6\t12\t18\t24\t30\t36\t\n"
          ]
        }
      ]
    },
    {
      "cell_type": "markdown",
      "metadata": {
        "id": "qC3ghcOalLBi"
      },
      "source": [
        "### 7. (Função sem retorno sem parâmetro) Faça uma função/método que leia três notas de um aluno e uma letra, se a letra for igual a *A*, deverá calcular a média aritimética das notas dos alunos, se for *P*, deverá calcular a média ponderada, com pesos 5, 3 e 2. A média deve ser mostrada ao final.\n",
        "N1, N2 e N3 são notas.\n",
        "\n",
        "P1, P2 e P3 são pesos.\n",
        "\n",
        "Média ponderada = (N1 * P1 + N2 * P2 + N3 * P3 ) / (P1 + P2 + P3)"
      ]
    },
    {
      "cell_type": "code",
      "metadata": {
        "id": "73QPAAO0q2Wo",
        "colab": {
          "base_uri": "https://localhost:8080/"
        },
        "outputId": "02576dd7-428c-4411-e5f5-a7f5c23676ab"
      },
      "source": [
        "def notas():\n",
        "    n1 = float(input(\"Informe a primeira nota: \"))\n",
        "    n2 = float(input(\"Informe a segunda nota: \"))\n",
        "    n3 = float(input(\"Informe a terceira nota: \"))\n",
        "    letra = input(\"Informe a letra (em maiúsculo): \")\n",
        "\n",
        "    if letra == \"A\":\n",
        "        media_aritmetica = (n1 + n2 + n3) / 3\n",
        "        print(\"A média aritmética é: \", media_aritmetica)\n",
        "    elif letra == \"P\":\n",
        "        media_ponderada = (n1 * 5 + n2 * 3 + n3 * 2) / 10\n",
        "        print(\"A média ponderada é: \", media_ponderada)\n",
        "\n",
        "def main():\n",
        "    notas()\n",
        "\n",
        "main()"
      ],
      "execution_count": null,
      "outputs": [
        {
          "output_type": "stream",
          "name": "stdout",
          "text": [
            "Informe a primeira nota: 7\n",
            "Informe a segunda nota: 8\n",
            "Informe a terceira nota: 9\n",
            "Informe a letra (em maiúsculo): P\n",
            "A média ponderada é:  7.7\n"
          ]
        }
      ]
    },
    {
      "cell_type": "markdown",
      "metadata": {
        "id": "Go_7xqNQq2oY"
      },
      "source": [
        "### 8. (Função sem retorno sem parâmetro) Faça uma função/método que leia uma hora de início e de término de um jogo, ambas divididas em dois valores distintos: hora e minuto. Deverá ser apresentado a duração expressa em minutos, considerando que o tempo máximo de duração de um jogo é de 24 horas e que ele pode começar em um dia e terminar no outro.\n",
        "    se m_f < m_i\n",
        "        m_f = m_f + 60\n",
        "        h_f = h_f - 1\n",
        "    se h_f < h_i\n",
        "        h_f = h_f + 24\n",
        "    tot_m = m_f - m_i\n",
        "    tot_h = h_f - h_i\n",
        "    total = tot_h * 60 + tot_m"
      ]
    },
    {
      "cell_type": "code",
      "metadata": {
        "id": "BgfVTL9-0WQi",
        "colab": {
          "base_uri": "https://localhost:8080/"
        },
        "outputId": "5cce3032-c767-4e00-aa24-933a06e395d1"
      },
      "source": [
        "def jogo():\n",
        "    h_i = int(input(\"Digite a hora inicial do jogo: \"))\n",
        "    m_i = int(input(\"Digite o minuto inicial do jogo: \"))\n",
        "    h_f = int(input(\"Digite a hora final do jogo: \"))\n",
        "    m_f = int(input(\"Digite o minuto final do jogo: \"))\n",
        "\n",
        "    if m_f < m_i:\n",
        "        m_f = m_f + 60\n",
        "        h_f = h_f - 1\n",
        "    elif h_f < h_i:\n",
        "        h_f = h_f + 24\n",
        "\n",
        "    tot_m = m_f - m_i\n",
        "    tot_h = h_f - h_i\n",
        "    total = tot_h * 60 + tot_m\n",
        "\n",
        "    print(\"A duração do jogo em minutos é: \", total)\n",
        "\n",
        "def main():\n",
        "    jogo()\n",
        "\n",
        "main()"
      ],
      "execution_count": null,
      "outputs": [
        {
          "output_type": "stream",
          "name": "stdout",
          "text": [
            "Digite a hora inicial do jogo: 3\n",
            "Digite o minuto inicial do jogo: 30\n",
            "Digite a hora final do jogo: 5\n",
            "Digite o minuto final do jogo: 30\n",
            "A duração do jogo em minutos é:  120\n"
          ]
        }
      ]
    },
    {
      "cell_type": "markdown",
      "metadata": {
        "id": "IGOQmdAe0myM"
      },
      "source": [
        "### 9. (Função sem retorno sem parâmetro) Faça uma função/método que leia cinco valores inteiros, determine e mostre o maior e o menor deles. Não pode usar vetor e função pronta da linguagem Python."
      ]
    },
    {
      "cell_type": "code",
      "source": [
        "def numeros():\n",
        "    for i in range(3):\n",
        "        n = int(input(\"Digite um valor inteiro: \"))\n",
        "        if i == 0:\n",
        "            maior = n\n",
        "            menor = n\n",
        "        elif n > maior:\n",
        "            maior = n\n",
        "        elif n < menor:\n",
        "            menor = n\n",
        "    print(f\"O maior número é {maior} e o menor é {menor}\")\n",
        "\n",
        "def main():\n",
        "    numeros()\n",
        "\n",
        "main()"
      ],
      "metadata": {
        "colab": {
          "base_uri": "https://localhost:8080/"
        },
        "id": "pkwLIq03WrTS",
        "outputId": "4135715f-6133-4824-e1bc-574fd01402c8"
      },
      "execution_count": null,
      "outputs": [
        {
          "output_type": "stream",
          "name": "stdout",
          "text": [
            "Digite um valor inteiro: 5\n",
            "Digite um valor inteiro: 8\n",
            "Digite um valor inteiro: 99\n",
            "O maior número é 99 e o menor é 5\n"
          ]
        }
      ]
    },
    {
      "cell_type": "markdown",
      "metadata": {
        "id": "W2PqWZm20v6M"
      },
      "source": [
        "### 10. (Função sem retorno sem parâmetro) Faça uma função/método que leia um valor inteiro e positivo N e mostre o valor de S, obtido pelo seguinte cálculo:\n",
        "###S = 1  +  1/1!  +  1/2!  +  1/3!  + ... +  1/N!\n",
        "\n",
        "Observvação: Não pode usar vetor e função pronta da linguagem Python."
      ]
    },
    {
      "cell_type": "code",
      "metadata": {
        "id": "U9eTKxuz1c7S"
      },
      "source": [
        "# Digite seu código aqui.\n",
        "# S = 1\n",
        "# S = 1 + 1 + 1/2! + 1/3 + 1/4!\n",
        "# S = 1 + 1 + 0.5 + 0.16 + 0.041\n",
        "# S = 2.66 + 0.041\n",
        "# 3! = 3 * 2 * 1 = 6\n",
        "# 4! = 1 * 2 * 3 * 4 = 24    1/4!   1/24  = 0.041\n",
        "\n",
        "# N = int(input('Informe o valor de N termos: '))"
      ],
      "execution_count": null,
      "outputs": []
    },
    {
      "cell_type": "code",
      "source": [
        "def conta():\n",
        "    N = int(input(\"Digite um valor inteiro: \"))\n",
        "    if N > 0:\n",
        "        s = 1\n",
        "        for i in range(1, N+1):\n",
        "            fat = 1\n",
        "            for k in range(1, i+1):\n",
        "                fat *= k\n",
        "            s += 1 / fat\n",
        "        print(f\"O valor de S é {s:.2f}\")\n",
        "\n",
        "def main():\n",
        "    conta()\n",
        "\n",
        "main()"
      ],
      "metadata": {
        "id": "xklMNHc74y4H",
        "colab": {
          "base_uri": "https://localhost:8080/"
        },
        "outputId": "7d8f7ff2-77de-44a7-bcfe-5c55fe0a1007"
      },
      "execution_count": null,
      "outputs": [
        {
          "output_type": "stream",
          "name": "stdout",
          "text": [
            "Digite um valor inteiro: 4\n",
            "O valor de S é 2.71\n"
          ]
        }
      ]
    }
  ]
}