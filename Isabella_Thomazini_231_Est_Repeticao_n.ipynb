{
  "nbformat": 4,
  "nbformat_minor": 0,
  "metadata": {
    "colab": {
      "provenance": [],
      "include_colab_link": true
    },
    "kernelspec": {
      "name": "python3",
      "display_name": "Python 3"
    }
  },
  "cells": [
    {
      "cell_type": "markdown",
      "metadata": {
        "id": "view-in-github",
        "colab_type": "text"
      },
      "source": [
        "<a href=\"https://colab.research.google.com/github/Azisa06/Python/blob/main/Isabella_Thomazini_231_Est_Repeticao_n.ipynb\" target=\"_parent\"><img src=\"https://colab.research.google.com/assets/colab-badge.svg\" alt=\"Open In Colab\"/></a>"
      ]
    },
    {
      "cell_type": "markdown",
      "metadata": {
        "id": "TWJjhvldsGq1"
      },
      "source": [
        "#ESTRUTURA DE REPETIÇÃO\n",
        "##Todos estes algoritmos/programas podem ser implementados com o comando **while** ou **for**. Para estudar, implemente cada exercício com as **duas** estruturas de repetição."
      ]
    },
    {
      "cell_type": "markdown",
      "metadata": {
        "id": "ra2ortoj88ct"
      },
      "source": [
        "###1. Faça um algoritmo  que mostre 10 vezes a frase “Bem vindo a Fatec!”. Pode implementar com o comando while ou for."
      ]
    },
    {
      "cell_type": "code",
      "metadata": {
        "id": "w87cAtUi9P5j",
        "colab": {
          "base_uri": "https://localhost:8080/"
        },
        "outputId": "dfe9fbbe-35ab-49ea-c143-e57e3fe765ad"
      },
      "source": [
        "print('Exemplo do while.............\\n\\n')\n",
        "# 1º passo - inicialização\n",
        "contador = 1\n",
        "# 2º passo - condição/critério de parada\n",
        "while contador <= 10:\n",
        "    print(contador, 'Bem vindo a Fatec!')\n",
        "    contador = contador + 1 # 3º passo - incremento\n",
        "print(\"\\n\\nFim\")"
      ],
      "execution_count": null,
      "outputs": [
        {
          "output_type": "stream",
          "name": "stdout",
          "text": [
            "Exemplo do while.............\n",
            "\n",
            "\n",
            "1 Bem vindo a Fatec!\n",
            "2 Bem vindo a Fatec!\n",
            "3 Bem vindo a Fatec!\n",
            "4 Bem vindo a Fatec!\n",
            "5 Bem vindo a Fatec!\n",
            "6 Bem vindo a Fatec!\n",
            "7 Bem vindo a Fatec!\n",
            "8 Bem vindo a Fatec!\n",
            "9 Bem vindo a Fatec!\n",
            "10 Bem vindo a Fatec!\n",
            "\n",
            "\n",
            "Fim\n"
          ]
        }
      ]
    },
    {
      "cell_type": "code",
      "source": [
        "print('\\n\\nExemplo do for.............\\n')\n",
        "# 1º passo - inicialização, 2º passo - condição/critério de parada\n",
        "# e 3º passo - incremento, numa única linha no for\n",
        "for contador in range(10):\n",
        "    print(contador,'Bem vindo a Fatec!')"
      ],
      "metadata": {
        "id": "AfLjZS3G1d3l",
        "colab": {
          "base_uri": "https://localhost:8080/"
        },
        "outputId": "d950a44b-cbaf-4b2a-cc63-a4dcda5565c3"
      },
      "execution_count": null,
      "outputs": [
        {
          "output_type": "stream",
          "name": "stdout",
          "text": [
            "\n",
            "\n",
            "Exemplo do for.............\n",
            "\n",
            "0 Bem vindo a Fatec!\n",
            "1 Bem vindo a Fatec!\n",
            "2 Bem vindo a Fatec!\n",
            "3 Bem vindo a Fatec!\n",
            "4 Bem vindo a Fatec!\n",
            "5 Bem vindo a Fatec!\n",
            "6 Bem vindo a Fatec!\n",
            "7 Bem vindo a Fatec!\n",
            "8 Bem vindo a Fatec!\n",
            "9 Bem vindo a Fatec!\n"
          ]
        }
      ]
    },
    {
      "cell_type": "markdown",
      "metadata": {
        "id": "Tz26_Q_09QzZ"
      },
      "source": [
        "###2. Faça um algoritmo que mostre o cumprimento ‘Olá ‘ para o nome de alguém (4 pessoas). Exemplo ‘Olá Mariana’. Pode implementar com o comando while ou for.\n",
        ""
      ]
    },
    {
      "cell_type": "code",
      "metadata": {
        "id": "EK8e5Oxn9eFX",
        "colab": {
          "base_uri": "https://localhost:8080/"
        },
        "outputId": "fcbfee11-8762-4669-e1cf-110962ab4836"
      },
      "source": [
        "pessoas = 0\n",
        "while pessoas < 4:\n",
        "    nome = input(\"Digite o nome: \")\n",
        "    print(\"Olá\", nome)\n",
        "    pessoas += 1\n",
        "print(\"\\n\\nFim\")"
      ],
      "execution_count": null,
      "outputs": [
        {
          "output_type": "stream",
          "name": "stdout",
          "text": [
            "Digite o nome: Isabella\n",
            "Olá Isabella\n",
            "Digite o nome: Isabelle\n",
            "Olá Isabelle\n",
            "Digite o nome: Juliana\n",
            "Olá Juliana\n",
            "Digite o nome: Kamilly\n",
            "Olá Kamilly\n",
            "\n",
            "\n",
            "Fim\n"
          ]
        }
      ]
    },
    {
      "cell_type": "code",
      "source": [
        "for pessoas in range (4):\n",
        "    nome = input(\"Digite o nome: \")\n",
        "    print(\"Olá\", nome)\n",
        "print(\"\\n\\nFim\")"
      ],
      "metadata": {
        "colab": {
          "base_uri": "https://localhost:8080/"
        },
        "id": "BAeE5zVtiujZ",
        "outputId": "7eba52c8-25c1-45b5-d16c-48001fdaa2be"
      },
      "execution_count": null,
      "outputs": [
        {
          "output_type": "stream",
          "name": "stdout",
          "text": [
            "Digite o nome: Lua\n",
            "Olá Lua\n",
            "Digite o nome: Luana\n",
            "Olá Luana\n",
            "Digite o nome: Lenara\n",
            "Olá Lenara\n",
            "Digite o nome: Leandra\n",
            "Olá Leandra\n",
            "\n",
            "\n",
            "Fim\n"
          ]
        }
      ]
    },
    {
      "cell_type": "markdown",
      "metadata": {
        "id": "-tIGmOam9eaB"
      },
      "source": [
        "###3. Faça um algoritmo que mostre os valores de 0 a 15. Pode implementar com o comando while ou for.\n"
      ]
    },
    {
      "cell_type": "code",
      "metadata": {
        "id": "PVFy9VEE9jy9",
        "colab": {
          "base_uri": "https://localhost:8080/"
        },
        "outputId": "7af3c9e5-20e7-427f-a4ef-ad2ca8ef22b4"
      },
      "source": [
        "numero = 0\n",
        "while numero <= 15:\n",
        "    print(numero)\n",
        "    numero += 1\n",
        "print(\"\\n\\nFim\")"
      ],
      "execution_count": null,
      "outputs": [
        {
          "output_type": "stream",
          "name": "stdout",
          "text": [
            "0\n",
            "1\n",
            "2\n",
            "3\n",
            "4\n",
            "5\n",
            "6\n",
            "7\n",
            "8\n",
            "9\n",
            "10\n",
            "11\n",
            "12\n",
            "13\n",
            "14\n",
            "15\n",
            "\n",
            "\n",
            "Fim\n"
          ]
        }
      ]
    },
    {
      "cell_type": "code",
      "source": [
        "for numero in range (16):\n",
        "    print(numero)\n",
        "print(\"\\n\\nFim\")"
      ],
      "metadata": {
        "colab": {
          "base_uri": "https://localhost:8080/"
        },
        "id": "WPCR1vZxjaKk",
        "outputId": "419e5e89-2411-4cf6-a106-854a214ef053"
      },
      "execution_count": null,
      "outputs": [
        {
          "output_type": "stream",
          "name": "stdout",
          "text": [
            "0\n",
            "1\n",
            "2\n",
            "3\n",
            "4\n",
            "5\n",
            "6\n",
            "7\n",
            "8\n",
            "9\n",
            "10\n",
            "11\n",
            "12\n",
            "13\n",
            "14\n",
            "15\n",
            "\n",
            "\n",
            "Fim\n"
          ]
        }
      ]
    },
    {
      "cell_type": "markdown",
      "metadata": {
        "id": "n2GgpaGP9j-A"
      },
      "source": [
        "###4. Faça um algoritmo que mostre os valores de 3 a 20. Pode implementar com o comando while ou for.\n"
      ]
    },
    {
      "cell_type": "code",
      "metadata": {
        "id": "lqitidIO9rOm",
        "colab": {
          "base_uri": "https://localhost:8080/"
        },
        "outputId": "b0d30571-f3d8-445f-8b19-3ceab135d7fa"
      },
      "source": [
        "for numero in range (3, 21):\n",
        "    print(numero)\n",
        "print(\"\\n\\nFim\")\n"
      ],
      "execution_count": null,
      "outputs": [
        {
          "output_type": "stream",
          "name": "stdout",
          "text": [
            "3\n",
            "4\n",
            "5\n",
            "6\n",
            "7\n",
            "8\n",
            "9\n",
            "10\n",
            "11\n",
            "12\n",
            "13\n",
            "14\n",
            "15\n",
            "16\n",
            "17\n",
            "18\n",
            "19\n",
            "20\n",
            "\n",
            "\n",
            "Fim\n"
          ]
        }
      ]
    },
    {
      "cell_type": "code",
      "source": [
        "numero = 3\n",
        "while numero <= 21:\n",
        "    print(numero)\n",
        "    numero += 1"
      ],
      "metadata": {
        "colab": {
          "base_uri": "https://localhost:8080/"
        },
        "id": "_v_8zd1GjzlV",
        "outputId": "e48e3130-d303-4774-e1d2-01bbbd69155c"
      },
      "execution_count": null,
      "outputs": [
        {
          "output_type": "stream",
          "name": "stdout",
          "text": [
            "3\n",
            "4\n",
            "5\n",
            "6\n",
            "7\n",
            "8\n",
            "9\n",
            "10\n",
            "11\n",
            "12\n",
            "13\n",
            "14\n",
            "15\n",
            "16\n",
            "17\n",
            "18\n",
            "19\n",
            "20\n",
            "21\n"
          ]
        }
      ]
    },
    {
      "cell_type": "markdown",
      "metadata": {
        "id": "C8RRCFc_9sTL"
      },
      "source": [
        "###5. Faça um algoritmo que calcule e mostre a tabuada do 5. Pode implementar com o comando while ou for.\n"
      ]
    },
    {
      "cell_type": "code",
      "metadata": {
        "id": "4QBLg1ka91dV",
        "colab": {
          "base_uri": "https://localhost:8080/"
        },
        "outputId": "eed53d0c-fd58-43a1-c2cb-9db3c0f51cc8"
      },
      "source": [
        "numero = 1\n",
        "while numero <= 10:\n",
        "    resultado = 5 * numero\n",
        "    print(\"5 x\", numero,\"=\", resultado)\n",
        "    numero = numero + 1"
      ],
      "execution_count": null,
      "outputs": [
        {
          "output_type": "stream",
          "name": "stdout",
          "text": [
            "5 x 1 = 5\n",
            "5 x 2 = 10\n",
            "5 x 3 = 15\n",
            "5 x 4 = 20\n",
            "5 x 5 = 25\n",
            "5 x 6 = 30\n",
            "5 x 7 = 35\n",
            "5 x 8 = 40\n",
            "5 x 9 = 45\n",
            "5 x 10 = 50\n"
          ]
        }
      ]
    },
    {
      "cell_type": "code",
      "source": [
        "for numero in range (11):\n",
        "    resultado = 5 * numero\n",
        "    print(\"5 x\", numero, resultado)"
      ],
      "metadata": {
        "colab": {
          "base_uri": "https://localhost:8080/"
        },
        "id": "ClFVl-xynyH0",
        "outputId": "8ed2457a-d249-4eb7-fec8-89e12903302b"
      },
      "execution_count": null,
      "outputs": [
        {
          "output_type": "stream",
          "name": "stdout",
          "text": [
            "5 x 0 0\n",
            "5 x 1 5\n",
            "5 x 2 10\n",
            "5 x 3 15\n",
            "5 x 4 20\n",
            "5 x 5 25\n",
            "5 x 6 30\n",
            "5 x 7 35\n",
            "5 x 8 40\n",
            "5 x 9 45\n",
            "5 x 10 50\n"
          ]
        }
      ]
    },
    {
      "cell_type": "markdown",
      "metadata": {
        "id": "nJv5jBoq91tW"
      },
      "source": [
        "###6. Faça um algoritmo que receba a idade de 10 pessoas, calcule e exiba a quantidade de pessoas maiores de idade, sendo que a maioridade é obtida após completar 18 anos. Pode implementar com o comando while ou for.\n"
      ]
    },
    {
      "cell_type": "code",
      "metadata": {
        "id": "FXOsNMt_96QH",
        "colab": {
          "base_uri": "https://localhost:8080/"
        },
        "outputId": "dc1922ef-6c6e-4496-c234-e3e59fe1d648"
      },
      "source": [
        "quantidade = 1\n",
        "contador = 0\n",
        "while quantidade <= 10:\n",
        "    idade = int(input(\"Digite a idade: \"))\n",
        "    quantidade += 1\n",
        "    if idade >= 18:\n",
        "        contador += 1\n",
        "print(contador, \"pessoas são maiores de idade.\")"
      ],
      "execution_count": null,
      "outputs": [
        {
          "output_type": "stream",
          "name": "stdout",
          "text": [
            "Digite a idade: 20\n",
            "Digite a idade: 10\n",
            "Digite a idade: 22\n",
            "Digite a idade: 11\n",
            "Digite a idade: 15\n",
            "Digite a idade: 18\n",
            "Digite a idade: 30\n",
            "Digite a idade: 40\n",
            "Digite a idade: 12\n",
            "Digite a idade: 18\n",
            "6 são maiores de idade.\n"
          ]
        }
      ]
    },
    {
      "cell_type": "code",
      "source": [
        "contador = 0\n",
        "for quantidade in range (10):\n",
        "    idade = int(input(\"Digite a idade: \"))\n",
        "    if idade >= 18:\n",
        "        contador += 1\n",
        "print(contador, \"pessoas são maiores de idade.\")"
      ],
      "metadata": {
        "colab": {
          "base_uri": "https://localhost:8080/"
        },
        "id": "XdnRQvUKINzs",
        "outputId": "e08f9afc-e203-4f61-f5d3-d68996f6fff4"
      },
      "execution_count": null,
      "outputs": [
        {
          "output_type": "stream",
          "name": "stdout",
          "text": [
            "Digite a idade: 30\n",
            "Digite a idade: 44\n",
            "Digite a idade: 20\n",
            "Digite a idade: 18\n",
            "Digite a idade: 10\n",
            "Digite a idade: 15\n",
            "Digite a idade: 17\n",
            "Digite a idade: 21\n",
            "Digite a idade: 22\n",
            "Digite a idade: 9\n",
            "Digite a idade: 13\n",
            "6 pessoas são maiores de idade.\n"
          ]
        }
      ]
    },
    {
      "cell_type": "markdown",
      "metadata": {
        "id": "g5RA7KN896ep"
      },
      "source": [
        "###7. Escreva um algoritmo que receba 23 números, calcule e exiba a quantidade de números pares e impares. Pode implementar com o comando while ou for.\n"
      ]
    },
    {
      "cell_type": "code",
      "metadata": {
        "id": "JBnJiugI9_Q1",
        "colab": {
          "base_uri": "https://localhost:8080/"
        },
        "outputId": "4b397808-5539-4807-a03a-dbb3d24bc762"
      },
      "source": [
        "quantidade = 0\n",
        "pares = 0\n",
        "impares = 0\n",
        "while quantidade <= 22:\n",
        "    numero = float(input(\"Digite um número: \"))\n",
        "    quantidade += 1\n",
        "    if numero % 2 == 0:\n",
        "        pares += 1\n",
        "    elif numero % 2 != 0:\n",
        "        impares += 1\n",
        "print(pares, \"números são pares e\", impares, \"são ímpares.\")"
      ],
      "execution_count": null,
      "outputs": [
        {
          "output_type": "stream",
          "name": "stdout",
          "text": [
            "Digite um número: 6\n",
            "Digite um número: 16\n",
            "Digite um número: 26\n",
            "Digite um número: 36\n",
            "Digite um número: 46\n",
            "Digite um número: 56\n",
            "6 números são pares e 0 são ímpares.\n"
          ]
        }
      ]
    },
    {
      "cell_type": "code",
      "source": [
        "pares = 0\n",
        "impares = 0\n",
        "for quantidade in range (23):\n",
        "    numero = float(input(\"DIgite um número: \"))\n",
        "    if numero % 2 == 0:\n",
        "        pares += 1\n",
        "    elif numero % 2 != 0:\n",
        "        impares += 1\n",
        "print(pares, \"números são pares e\", impares, \"são ímpares.\")"
      ],
      "metadata": {
        "colab": {
          "base_uri": "https://localhost:8080/"
        },
        "id": "ycc4aWtfLIkD",
        "outputId": "a89d2d04-e208-40a9-b422-702d4f12700f"
      },
      "execution_count": null,
      "outputs": [
        {
          "output_type": "stream",
          "name": "stdout",
          "text": [
            "DIgite um número: 9\n",
            "DIgite um número: 19\n",
            "DIgite um número: 29\n",
            "DIgite um número: 39\n",
            "DIgite um número: 49\n",
            "0 números são pares e 5 são ímpares.\n"
          ]
        }
      ]
    },
    {
      "cell_type": "markdown",
      "metadata": {
        "id": "DVuRwa6J9_in"
      },
      "source": [
        "###8. Faça um algoritmo que calcule e exiba o salário reajustado de dez funcionários de acordo com a seguinte regra (pode implementar com o comando while ou for):\n",
        "## Salário até 300, reajuste de 50%;\n",
        "\n",
        "##Salários maiores que 300, reajuste de 30%.\n",
        "\n",
        "\n"
      ]
    },
    {
      "cell_type": "code",
      "metadata": {
        "id": "GnYXpwwH-Drd",
        "colab": {
          "base_uri": "https://localhost:8080/"
        },
        "outputId": "b612e42d-5004-4436-bc1c-ff433294bb24"
      },
      "source": [
        "funcionarios = 1\n",
        "while funcionarios <= 10:\n",
        "    salario = float(input(\"Digite seu salário: \"))\n",
        "    funcionarios += 1\n",
        "    if salario <= 300:\n",
        "        reajuste1 = salario * 1.5\n",
        "        print(f\"O novo salário será R${reajuste1:.2f}\")\n",
        "    elif salario > 300:\n",
        "        reajuste2 = salario * 1.3\n",
        "        print(f\"O novo salário será R${reajuste2:.2f}\")"
      ],
      "execution_count": null,
      "outputs": [
        {
          "output_type": "stream",
          "name": "stdout",
          "text": [
            "Digite seu salário: 300\n",
            "O novo salário será R$450.00\n",
            "Digite seu salário: 400\n",
            "O novo salário será R$520.00\n",
            "Digite seu salário: 100\n",
            "O novo salário será R$150.00\n"
          ]
        }
      ]
    },
    {
      "cell_type": "code",
      "source": [
        "for funcionarios in range (10):\n",
        "    salario = float(input(\"Digite seu salário: \"))\n",
        "    if salario <= 300:\n",
        "        reajuste1 = salario * 1.5\n",
        "        print(f\"O novo salário será R${reajuste1:.2f}\")\n",
        "    elif salario > 300:\n",
        "        reajuste2 = salario * 1.3\n",
        "        print(f\"O novo salário será R${reajuste2:.2f}\")"
      ],
      "metadata": {
        "colab": {
          "base_uri": "https://localhost:8080/"
        },
        "id": "HgntSyAYQcVp",
        "outputId": "deee6f6a-177c-4c1c-9bb1-a7cd2c296d22"
      },
      "execution_count": null,
      "outputs": [
        {
          "output_type": "stream",
          "name": "stdout",
          "text": [
            "Digite seu salário: 1000\n",
            "O novo salário será R$1300.00\n",
            "Digite seu salário: 200\n",
            "O novo salário será R$300.00\n",
            "Digite seu salário: 100\n",
            "O novo salário será R$150.00\n",
            "Digite seu salário: 250\n",
            "O novo salário será R$375.00\n"
          ]
        }
      ]
    },
    {
      "cell_type": "markdown",
      "metadata": {
        "id": "WWEunLW8-D2h"
      },
      "source": [
        "\n",
        "###9. Faça um algoritmo que conheça 4 preços de produtos, some-os e mostre o resultado. Pode implementar com o comando while ou for.\n"
      ]
    },
    {
      "cell_type": "code",
      "metadata": {
        "id": "N9cUIxJk-HLg",
        "colab": {
          "base_uri": "https://localhost:8080/"
        },
        "outputId": "30891316-85ff-4414-ea57-6ee485cbf028"
      },
      "source": [
        "produtos = 1\n",
        "soma = 0\n",
        "while produtos <= 4:\n",
        "    preco = float(input(\"Digite o preço do produto: \"))\n",
        "    soma += preco\n",
        "    produtos += 1\n",
        "print(f\"O preço desses 4 produtos é R${soma:.2f}\")\n"
      ],
      "execution_count": null,
      "outputs": [
        {
          "output_type": "stream",
          "name": "stdout",
          "text": [
            "Digite o preço do produto: 20\n",
            "Digite o preço do produto: 21\n",
            "Digite o preço do produto: 8\n",
            "Digite o preço do produto: 3\n",
            "O preço desses 4 produtos é R$52.00\n"
          ]
        }
      ]
    },
    {
      "cell_type": "code",
      "source": [
        "soma = 0\n",
        "for produtos in range (4):\n",
        "    preco = float(input(\"Digite o preço do produto: \"))\n",
        "    soma += preco\n",
        "print(f\"O preço desses 4 produtos é R${soma:.2f}\")"
      ],
      "metadata": {
        "colab": {
          "base_uri": "https://localhost:8080/"
        },
        "id": "MQzvZDqSUOTZ",
        "outputId": "d4928b22-4196-455e-8089-7f42f5573e25"
      },
      "execution_count": null,
      "outputs": [
        {
          "output_type": "stream",
          "name": "stdout",
          "text": [
            "Digite o preço do produto: 3.5\n",
            "Digite o preço do produto: 8.5\n",
            "Digite o preço do produto: 2\n",
            "Digite o preço do produto: 20\n",
            "O preço desses 4 produtos é R$34.00\n"
          ]
        }
      ]
    },
    {
      "cell_type": "markdown",
      "metadata": {
        "id": "rf_lUW8J-HbR"
      },
      "source": [
        "###10. Faça um algoritmo que calcule e informe a média de idades de 5 alunos. Pode implementar com o comando while ou for."
      ]
    },
    {
      "cell_type": "code",
      "metadata": {
        "id": "kIGzHgii-Teb",
        "colab": {
          "base_uri": "https://localhost:8080/"
        },
        "outputId": "6358a52b-48fd-4aa5-9425-8f76e6202ebf"
      },
      "source": [
        "alunos = 1\n",
        "soma_idade = 0\n",
        "while alunos <= 5:\n",
        "    idade = int(input(\"Digite sua idade: \"))\n",
        "    alunos += 1\n",
        "    soma_idade += idade\n",
        "media = soma_idade / 5\n",
        "print(\"A média das idades é\", media)"
      ],
      "execution_count": null,
      "outputs": [
        {
          "output_type": "stream",
          "name": "stdout",
          "text": [
            "Digite sua idade: 21\n",
            "Digite sua idade: 26\n",
            "Digite sua idade: 22\n",
            "Digite sua idade: 30\n",
            "Digite sua idade: 18\n",
            "A média das idades é 23.4\n"
          ]
        }
      ]
    },
    {
      "cell_type": "code",
      "source": [
        "soma_idade = 0\n",
        "for alunos in range (5):\n",
        "    idade = int(input(\"Digite sua idade: \"))\n",
        "    soma_idade += idade\n",
        "media = soma_idade / 5\n",
        "print(\"A média das idades é\", media)"
      ],
      "metadata": {
        "colab": {
          "base_uri": "https://localhost:8080/"
        },
        "id": "jiRNLXMDYmmE",
        "outputId": "f8fa67ef-669e-4141-8d8c-dc8a922887af"
      },
      "execution_count": null,
      "outputs": [
        {
          "output_type": "stream",
          "name": "stdout",
          "text": [
            "Digite sua idade: 22\n",
            "Digite sua idade: 3\n",
            "Digite sua idade: 5\n",
            "Digite sua idade: 44\n",
            "Digite sua idade: 20\n",
            "A média das idades é 18.8\n"
          ]
        }
      ]
    },
    {
      "cell_type": "markdown",
      "metadata": {
        "id": "cTQOtgv8-TqZ"
      },
      "source": [
        "###11. Faça um algoritmo que conheça 4 preços de produtos, calcule e mostre a média aritmética dos preços. Pode implementar com o comando while ou for.\n"
      ]
    },
    {
      "cell_type": "code",
      "metadata": {
        "id": "1jGiDIq--XfE",
        "colab": {
          "base_uri": "https://localhost:8080/"
        },
        "outputId": "d3df4b33-9e7e-40a2-d7b7-208be8530230"
      },
      "source": [
        "produtos = 1\n",
        "soma_precos = 0\n",
        "while produtos <= 4:\n",
        "    preco = float(input(\"Digite o preço do produto: \"))\n",
        "    produtos += 1\n",
        "    soma_precos += preco\n",
        "media = soma_precos / 4\n",
        "print(\"A média dos preços é R$\", media)"
      ],
      "execution_count": null,
      "outputs": [
        {
          "output_type": "stream",
          "name": "stdout",
          "text": [
            "Digite o preço do produto: 3\n",
            "Digite o preço do produto: 4.5\n",
            "Digite o preço do produto: 7.5\n",
            "Digite o preço do produto: 10\n",
            "A média dos preços é R$ 6.25\n"
          ]
        }
      ]
    },
    {
      "cell_type": "code",
      "source": [
        "soma_precos = 0\n",
        "for produtos in range (4):\n",
        "    preco = float(input(\"Digite o preço do produto: \"))\n",
        "    soma_precos += preco\n",
        "media = soma_precos / 4\n",
        "print(\"A média dos preços é R$\", media)"
      ],
      "metadata": {
        "colab": {
          "base_uri": "https://localhost:8080/"
        },
        "id": "SkFxMWAaXPr1",
        "outputId": "3abe12c1-f3c2-42cc-eeae-0d283236c4b9"
      },
      "execution_count": null,
      "outputs": [
        {
          "output_type": "stream",
          "name": "stdout",
          "text": [
            "Digite o preço do produto: 4\n",
            "Digite o preço do produto: 20\n",
            "Digite o preço do produto: 100\n",
            "Digite o preço do produto: 3\n",
            "A média dos preços é R$ 31.75\n"
          ]
        }
      ]
    },
    {
      "cell_type": "markdown",
      "source": [
        "###12. Faça um programa que receba a idade e a altura de 20 pessoas. Calcule e exiba a média das alturas das pessoas com mais de 20 anos.\n",
        "\n",
        "\n"
      ],
      "metadata": {
        "id": "q2aJm6ktRIKX"
      }
    },
    {
      "cell_type": "code",
      "source": [
        "soma = 0\n",
        "maiores = 0\n",
        "pessoas = 1\n",
        "while pessoas <= 20:\n",
        "    altura = float(input(\"Digite sua altura: \"))\n",
        "    idade = int(input(\"Digite a sua idade: \"))\n",
        "    pessoas += 1\n",
        "    if idade >= 20:\n",
        "        maiores += 1\n",
        "        soma += altura\n",
        "        media = soma / maiores\n",
        "print(f\"A média da altura das pessoas maiores de 20 anos é {media:.2f}\")\n",
        ""
      ],
      "metadata": {
        "id": "BrL7c0SiReMX",
        "colab": {
          "base_uri": "https://localhost:8080/"
        },
        "outputId": "ab5ea488-8b6a-4673-b655-4cd35b9676a4"
      },
      "execution_count": null,
      "outputs": [
        {
          "output_type": "stream",
          "name": "stdout",
          "text": [
            "Digite sua altura: 1.80\n",
            "Digite a sua idade: 30\n",
            "Digite sua altura: 1.90\n",
            "Digite a sua idade: 18\n",
            "Digite sua altura: 1.70\n",
            "Digite a sua idade: 21\n",
            "Digite sua altura: 1.60\n",
            "Digite a sua idade: 15\n",
            "A média da altura das pessoas maiores de 20 anos é 1.75\n"
          ]
        }
      ]
    },
    {
      "cell_type": "code",
      "source": [
        "soma = 0\n",
        "maiores = 0\n",
        "for pessoas in range (20):\n",
        "    idade = int(input(\"Digite sua idade: \"))\n",
        "    altura = float(input(\"Digite sua altura: \"))\n",
        "    if idade >= 20:\n",
        "        maiores += 1\n",
        "        soma += altura\n",
        "        media = soma / maiores\n",
        "print(f\"A média da altura dos maiores de 20 anos é {media:.2f}\")"
      ],
      "metadata": {
        "colab": {
          "base_uri": "https://localhost:8080/"
        },
        "id": "G2zt5pd-dq9-",
        "outputId": "0f1f3191-d145-4c2a-f3f9-ceab56a32704"
      },
      "execution_count": null,
      "outputs": [
        {
          "output_type": "stream",
          "name": "stdout",
          "text": [
            "Digite sua idade: 21\n",
            "Digite sua altura: 1.73\n",
            "Digite sua idade: 30\n",
            "Digite sua altura: 1.60\n",
            "Digite sua idade: 15\n",
            "Digite sua altura: 1.50\n",
            "A média da altura dos maiores de 20 anos é 1.67\n"
          ]
        }
      ]
    },
    {
      "cell_type": "markdown",
      "metadata": {
        "id": "aI4IjOYw-XwG"
      },
      "source": [
        "###13. Faça um algoritmo que leia o preço de 20 TV, determine e apresente a média dos preços que possuem valor maior que R$ 1000. Pode implementar com o comando while ou for."
      ]
    },
    {
      "cell_type": "code",
      "source": [
        "tv = 1\n",
        "soma = 0\n",
        "maiores = 0\n",
        "while tv <= 20:\n",
        "    preco = float(input(\"Digite o preço da TV: \"))\n",
        "    tv += 1\n",
        "    if preco >= 1000:\n",
        "        maiores += 1\n",
        "        soma += preco\n",
        "        media = soma / maiores\n",
        "print(f\"A média das TVs com valor maior que R$ 1000 reais é R$\", media)"
      ],
      "metadata": {
        "id": "0YxUWj8KQriq",
        "colab": {
          "base_uri": "https://localhost:8080/"
        },
        "outputId": "18d3b198-e502-431c-aef4-e086de241e69"
      },
      "execution_count": null,
      "outputs": [
        {
          "output_type": "stream",
          "name": "stdout",
          "text": [
            "Digite o preço da TV: 1000\n",
            "Digite o preço da TV: 2000\n",
            "Digite o preço da TV: 5000\n",
            "Digite o preço da TV: 999\n",
            "Digite o preço da TV: 10000\n",
            "A média das TVs com valor maior que R$ 1000 reais é  4500.0\n"
          ]
        }
      ]
    },
    {
      "cell_type": "markdown",
      "source": [
        "###14. Faça um programa que receba a altura e nome  de 5 pessoas. Encontre e apresente a altura da pessoa mais alta e da mais baixa e seus respectivos nomes."
      ],
      "metadata": {
        "id": "AvMp2ZGF5sBk"
      }
    },
    {
      "cell_type": "code",
      "source": [
        "pessoas = 1\n",
        "while pessoas <= 5:\n",
        "    altura = float(input(\"Digite sua altura: \"))\n",
        "    nome = input(\"Digite seu nome: \")\n",
        "    if pessoas == 0:\n",
        "        alto = altura\n",
        "        nome_alto = nome\n",
        "        baixo = altura\n",
        "        nome_baixo = nome\n",
        "    if altura > alto:\n",
        "        alto = altura\n",
        "        nome_alto = nome\n",
        "    if altura < baixo:\n",
        "        baixo = altura\n",
        "        nome_baixo = nome\n",
        "    pessoas += 1\n",
        "print(f\"Alto = {alto:.2f}\", \"metros, nome=\", nome_alto)\n",
        "print(f\"Baixo = {baixo:.2f}\", \"metros, nome=\", nome_baixo)"
      ],
      "metadata": {
        "id": "HUkicD3g6CX4",
        "colab": {
          "base_uri": "https://localhost:8080/"
        },
        "outputId": "6739670c-85dc-4e11-8eb3-a9fec1e409da"
      },
      "execution_count": null,
      "outputs": [
        {
          "output_type": "stream",
          "name": "stdout",
          "text": [
            "Digite sua altura: 1.90\n",
            "Digite seu nome: Isabelle\n",
            "Digite sua altura: 1.75\n",
            "Digite seu nome: Kamilly\n",
            "Digite sua altura: 1.70\n",
            "Digite seu nome: Juliana\n",
            "Digite sua altura: 1.60\n",
            "Digite seu nome: Isabella\n",
            "Alto = 1.9 metros, nome= Isabelle\n",
            "Baixo = 1.6 metros, nome= Isabella\n"
          ]
        }
      ]
    },
    {
      "cell_type": "code",
      "source": [
        "for pessoas in range (5):\n",
        "    altura = float(input(\"Digite sua altura: \"))\n",
        "    nome = input(\"Digite seu nome: \")\n",
        "    if pessoas == 0:\n",
        "        alto = altura\n",
        "        nome_alto = nome\n",
        "        baixo = altura\n",
        "        nome_baixo = nome\n",
        "    if altura > alto:\n",
        "        alto = altura\n",
        "        nome_alto = nome\n",
        "    if altura < baixo:\n",
        "        baixo = altura\n",
        "        nome_baixo = nome\n",
        "print(f\"Alto = {alto:.2f}\", \"metros, nome=\", nome_alto)\n",
        "print(f\"Baixo = {baixo:.2f}\", \"metros, nome=\", nome_baixo)"
      ],
      "metadata": {
        "colab": {
          "base_uri": "https://localhost:8080/"
        },
        "id": "QUG4_SUclek0",
        "outputId": "c4bec172-080b-4a5a-bcbd-98b5a567817d"
      },
      "execution_count": null,
      "outputs": [
        {
          "output_type": "stream",
          "name": "stdout",
          "text": [
            "Digite sua altura: 1.90\n",
            "Digite seu nome: Isabella\n",
            "Digite sua altura: 1.60\n",
            "Digite seu nome: Juliana\n",
            "Digite sua altura: 1.80\n",
            "Digite seu nome: Isabelle\n",
            "Digite sua altura: 1.70\n",
            "Digite seu nome: Kamilly\n",
            "Alto = 1.90 metros, nome= Isabella\n",
            "Baixo = 1.60 metros, nome= Juliana\n"
          ]
        }
      ]
    },
    {
      "cell_type": "markdown",
      "source": [
        "###15. Faça um programa que receba dez valores inteiros, encontre e apresente o maior e o menor valor.\n",
        "\n"
      ],
      "metadata": {
        "id": "8KWL51p-6Ckk"
      }
    },
    {
      "cell_type": "code",
      "source": [
        "valores = 1\n",
        "while valores <= 10:\n",
        "    numero = int(input(\"Digite um valor inteiro: \"))\n",
        "    if valores == 1:\n",
        "        maior = numero\n",
        "        menor = numero\n",
        "    if numero > maior:\n",
        "        maior = numero\n",
        "    if numero < menor:\n",
        "        menor = numero\n",
        "    valores += 1\n",
        "print(\"O maior valor é:\", maior, \"e o menor valor é:\", menor)"
      ],
      "metadata": {
        "id": "D48xIbyn6aDH",
        "colab": {
          "base_uri": "https://localhost:8080/"
        },
        "outputId": "c84faf54-40b6-4633-ec4f-2d6db92c7f11"
      },
      "execution_count": null,
      "outputs": [
        {
          "output_type": "stream",
          "name": "stdout",
          "text": [
            "Digite um valor inteiro: 10\n",
            "Digite um valor inteiro: 20\n",
            "Digite um valor inteiro: 30\n",
            "Digite um valor inteiro: 40\n",
            "O maior valor é: 40 e o menor valor é: 10\n"
          ]
        }
      ]
    },
    {
      "cell_type": "code",
      "source": [
        "for valores in range (10):\n",
        "    numero = int(input(\"Digite um valor inteiro: \"))\n",
        "    if valores == 0:\n",
        "        maior = numero\n",
        "        menor = numero\n",
        "    if numero > maior:\n",
        "        maior = numero\n",
        "    if numero < menor:\n",
        "        menor = numero\n",
        "print(\"O maior valor é:\", maior, \"e o menor valor é:\", menor)"
      ],
      "metadata": {
        "id": "zpNjG2vBn9ot",
        "colab": {
          "base_uri": "https://localhost:8080/"
        },
        "outputId": "88bac5b3-5b23-4d3b-b028-f2fc69fc15a1"
      },
      "execution_count": null,
      "outputs": [
        {
          "output_type": "stream",
          "name": "stdout",
          "text": [
            "Digite um valor inteiro: 10\n",
            "Digite um valor inteiro: 4\n",
            "Digite um valor inteiro: 55\n",
            "Digite um valor inteiro: 67\n",
            "O maior valor é: 67 e o menor valor é: 4\n"
          ]
        }
      ]
    },
    {
      "cell_type": "markdown",
      "source": [
        "###16. Os alunos do primeiro módulo farão a P1 da disciplina de Algoritmo. Crie um algoritmo que leia as 40 notas e RAs, encontre e apresente a maior, a menor e os respectivos RAs desses alunos."
      ],
      "metadata": {
        "id": "7ykHS3fC6e1z"
      }
    },
    {
      "cell_type": "code",
      "source": [
        "p1s = 1\n",
        "while p1s <= 40:\n",
        "    nota = float(input(\"Digite a nota: \"))\n",
        "    ra = int(input(\"Digite o RA: \"))\n",
        "    if p1s == 1:\n",
        "        maior = nota\n",
        "        ra_maior = ra\n",
        "        menor = nota\n",
        "        ra_menor = ra\n",
        "    if nota > maior:\n",
        "        maior = nota\n",
        "        ra_maior = ra\n",
        "    if nota < menor:\n",
        "        menor = nota\n",
        "        ra_menor = ra\n",
        "    p1s += 1\n",
        "print(\"A maior nota é:\", maior)\n",
        "print(\"Ra do aluno com maior nota:\", ra_maior)\n",
        "print(\"A menor nota é:\", menor)\n",
        "print(\"Ra do aluno com menor nota:\", ra_menor)"
      ],
      "metadata": {
        "id": "yU4vMIRs7BPK",
        "colab": {
          "base_uri": "https://localhost:8080/"
        },
        "outputId": "4d9ea9d1-890f-420f-9599-5d9290ccdf3e"
      },
      "execution_count": null,
      "outputs": [
        {
          "output_type": "stream",
          "name": "stdout",
          "text": [
            "Digite a nota: 10\n",
            "Digite o RA: 23950687\n",
            "Digite a nota: 8\n",
            "Digite o RA: 239406826\n",
            "Digite a nota: 7\n",
            "Digite o RA: 490483782759\n",
            "Digite a nota: 4\n",
            "Digite o RA: 957364859\n",
            "A maior nota é: 10.0\n",
            "Ra do aluno com maior nota: 23950687\n",
            "A menor nota é: 4.0\n",
            "Ra do aluno com menor nota, 957364859\n"
          ]
        }
      ]
    },
    {
      "cell_type": "code",
      "source": [
        "for p1s in range (40):\n",
        "    nota = float(input(\"Digite a nota: \"))\n",
        "    ra = int(input(\"Digite o RA: \"))\n",
        "    if p1s == 1:\n",
        "        maior = nota\n",
        "        ra_maior = ra\n",
        "        menor = nota\n",
        "        ra_menor = ra\n",
        "    if nota > maior:\n",
        "        maior = nota\n",
        "        ra_maior = ra\n",
        "    if nota < menor:\n",
        "        menor = nota\n",
        "        ra_menor = ra\n",
        "print(\"A maior nota é:\", maior)\n",
        "print(\"Ra do aluno com maior nota:\", ra_maior)\n",
        "print(\"A menor nota é:\", menor)\n",
        "print(\"Ra do aluno com menor nota:\", ra_menor)"
      ],
      "metadata": {
        "colab": {
          "base_uri": "https://localhost:8080/"
        },
        "id": "bniCrvS9csyZ",
        "outputId": "91afb736-1cea-42d2-922e-765e74c3d3c3"
      },
      "execution_count": null,
      "outputs": [
        {
          "output_type": "stream",
          "name": "stdout",
          "text": [
            "Digite a nota: 9\n",
            "Digite o RA: 751254363\n",
            "Digite a nota: 8\n",
            "Digite o RA: 475543585\n",
            "Digite a nota: 4\n",
            "Digite o RA: 545432515876\n",
            "Digite a nota: 9.5\n",
            "Digite o RA: 89213654987\n",
            "A maior nota é: 9.5\n",
            "Ra do aluno com maior nota: 89213654987\n",
            "A menor nota é: 4.0\n",
            "Ra do aluno com menor nota: 545432515876\n"
          ]
        }
      ]
    },
    {
      "cell_type": "markdown",
      "source": [
        "###17. Faça um programa que calcule e apresente as tabuadas do 3 ao 7. Este exercício utiliza DUAS estruturas de repetição."
      ],
      "metadata": {
        "id": "wJ0MVHDlQrNb"
      }
    },
    {
      "cell_type": "code",
      "source": [
        "for tabuada in range (3, 8):\n",
        "    for contador in range (1, 11):\n",
        "        print(tabuada, \"x\", contador, \"=\", tabuada * contador)\n",
        "    print()"
      ],
      "metadata": {
        "id": "0ZBwoW881MU7",
        "colab": {
          "base_uri": "https://localhost:8080/"
        },
        "outputId": "6f21977e-7289-48c0-dcee-c102696fe795"
      },
      "execution_count": null,
      "outputs": [
        {
          "output_type": "stream",
          "name": "stdout",
          "text": [
            "3 x 1 = 3\n",
            "3 x 2 = 6\n",
            "3 x 3 = 9\n",
            "3 x 4 = 12\n",
            "3 x 5 = 15\n",
            "3 x 6 = 18\n",
            "3 x 7 = 21\n",
            "3 x 8 = 24\n",
            "3 x 9 = 27\n",
            "3 x 10 = 30\n",
            "\n",
            "4 x 1 = 4\n",
            "4 x 2 = 8\n",
            "4 x 3 = 12\n",
            "4 x 4 = 16\n",
            "4 x 5 = 20\n",
            "4 x 6 = 24\n",
            "4 x 7 = 28\n",
            "4 x 8 = 32\n",
            "4 x 9 = 36\n",
            "4 x 10 = 40\n",
            "\n",
            "5 x 1 = 5\n",
            "5 x 2 = 10\n",
            "5 x 3 = 15\n",
            "5 x 4 = 20\n",
            "5 x 5 = 25\n",
            "5 x 6 = 30\n",
            "5 x 7 = 35\n",
            "5 x 8 = 40\n",
            "5 x 9 = 45\n",
            "5 x 10 = 50\n",
            "\n",
            "6 x 1 = 6\n",
            "6 x 2 = 12\n",
            "6 x 3 = 18\n",
            "6 x 4 = 24\n",
            "6 x 5 = 30\n",
            "6 x 6 = 36\n",
            "6 x 7 = 42\n",
            "6 x 8 = 48\n",
            "6 x 9 = 54\n",
            "6 x 10 = 60\n",
            "\n",
            "7 x 1 = 7\n",
            "7 x 2 = 14\n",
            "7 x 3 = 21\n",
            "7 x 4 = 28\n",
            "7 x 5 = 35\n",
            "7 x 6 = 42\n",
            "7 x 7 = 49\n",
            "7 x 8 = 56\n",
            "7 x 9 = 63\n",
            "7 x 10 = 70\n",
            "\n"
          ]
        }
      ]
    },
    {
      "cell_type": "markdown",
      "source": [
        "###18. Faça um programa para o curso de ADS (6 módulos), cada sala tem 30 alunos, calcule e apresente os seguintes itens:\n",
        "*  Quantidade de homens e mulheres de cada módulo;\n",
        "*  Média de idades de cada módulo;\n",
        "*  Quantidade de homens e mulheres do curso todo;\n",
        "*  Média de idades do curso todo.\n",
        "\n",
        "Observação: este exercício utiliza DUAS estruturas de repetição."
      ],
      "metadata": {
        "id": "wu3gKhw_P-t2"
      }
    },
    {
      "cell_type": "code",
      "source": [
        "for modulo in range(1,7):\n",
        "    print(modulo,'º módulo','.'*50)\n",
        "    # contar genero feminino = 0\n",
        "    for alunos in range(1,3):\n",
        "        # digitar os dados dos alunos\n",
        "        genero = input('Cadastre o gênero M/F: ')\n",
        "        if genero == 'F' or genero == 'f':\n",
        "            # contar genero feminino\n",
        "        #...\n",
        "    # mostrar resultados de cada módulo\n",
        "    # acumular valores para o curso\n",
        "# mostrar resultados do curso"
      ],
      "metadata": {
        "id": "lBhG5qbYQJaS",
        "colab": {
          "base_uri": "https://localhost:8080/"
        },
        "outputId": "297654cc-2bed-4f7b-b351-7c4d471b0af1"
      },
      "execution_count": null,
      "outputs": [
        {
          "output_type": "stream",
          "name": "stdout",
          "text": [
            "1 º módulo ..................................................\n",
            "\n",
            "\n",
            "\n",
            "2 º módulo ..................................................\n",
            "\n",
            "\n",
            "\n",
            "3 º módulo ..................................................\n",
            "\n",
            "\n",
            "\n",
            "4 º módulo ..................................................\n",
            "\n",
            "\n",
            "\n",
            "5 º módulo ..................................................\n",
            "\n",
            "\n",
            "\n",
            "6 º módulo ..................................................\n",
            "\n",
            "\n",
            "\n"
          ]
        }
      ]
    },
    {
      "cell_type": "code",
      "source": [
        "mulheres_curso = 0\n",
        "homens_curso = 0\n",
        "idade_curso = 0\n",
        "for modulo in range (1, 7):\n",
        "    print(modulo,'º módulo','.'*50)\n",
        "    mulheres_modulo = 0\n",
        "    homens_modulo = 0\n",
        "    idade_modulo = 0\n",
        "    for alunos in range (2):\n",
        "        genero = input(\"Digite o gênero: \")\n",
        "        idade = int(input(\"Digite a idade: \"))\n",
        "        if genero == \"F\" or genero == \"f\":\n",
        "            mulheres_modulo += 1\n",
        "            mulheres_curso += 1\n",
        "            idade_modulo += idade\n",
        "            idade_curso += idade\n",
        "        else:\n",
        "            homens_modulo += 1\n",
        "            homens_curso += 1\n",
        "            idade_modulo += idade\n",
        "            idade_curso += idade\n",
        "        media = (idade_modulo / (mulheres_modulo + homens_modulo))\n",
        "    print(\"A quantidade de homens no módulo\", modulo, \"é:\", homens_modulo)\n",
        "    print(\"A quantidade de mulheres no módulo\", modulo, \"é:\", mulheres_modulo)\n",
        "    print(\"A média de idades no módulo\", modulo, \"é:\", media)\n",
        "media_idade_curso = (idade_curso / (homens_curso + mulheres_curso))\n",
        "print(\"A quantidade de homens no curso é:\", homens_curso)\n",
        "print(\"A quantidade de mulheres no curso é:\", mulheres_curso)\n",
        "print(\"A média das idades no curso é:\", media_idade_curso)"
      ],
      "metadata": {
        "colab": {
          "base_uri": "https://localhost:8080/"
        },
        "id": "4rGalCwyenqN",
        "outputId": "cff21853-a1da-4aec-ce52-a44370e44859"
      },
      "execution_count": null,
      "outputs": [
        {
          "output_type": "stream",
          "name": "stdout",
          "text": [
            "1 º módulo ..................................................\n",
            "Digite o gênero: m\n",
            "Digite a idade: 22\n",
            "Digite o gênero: f\n",
            "Digite a idade: 18\n",
            "A quantidade de homens no módulo 1 é: 1\n",
            "A quantidade de mulheres no módulo 1 é: 1\n",
            "A média de idades no módulo 1 é: 20.0\n",
            "2 º módulo ..................................................\n",
            "Digite o gênero: f\n",
            "Digite a idade: 23\n",
            "Digite o gênero: f\n",
            "Digite a idade: 25\n",
            "A quantidade de homens no módulo 2 é: 0\n",
            "A quantidade de mulheres no módulo 2 é: 2\n",
            "A média de idades no módulo 2 é: 24.0\n",
            "3 º módulo ..................................................\n",
            "Digite o gênero: m\n",
            "Digite a idade: 30\n",
            "Digite o gênero: m\n",
            "Digite a idade: 25\n",
            "A quantidade de homens no módulo 3 é: 2\n",
            "A quantidade de mulheres no módulo 3 é: 0\n",
            "A média de idades no módulo 3 é: 27.5\n",
            "4 º módulo ..................................................\n",
            "Digite o gênero: m\n",
            "Digite a idade: 26\n",
            "Digite o gênero: m\n",
            "Digite a idade: 28\n",
            "A quantidade de homens no módulo 4 é: 2\n",
            "A quantidade de mulheres no módulo 4 é: 0\n",
            "A média de idades no módulo 4 é: 27.0\n",
            "5 º módulo ..................................................\n",
            "Digite o gênero: m\n",
            "Digite a idade: 27\n",
            "Digite o gênero: f\n",
            "Digite a idade: 20\n",
            "A quantidade de homens no módulo 5 é: 1\n",
            "A quantidade de mulheres no módulo 5 é: 1\n",
            "A média de idades no módulo 5 é: 23.5\n",
            "6 º módulo ..................................................\n",
            "Digite o gênero: m\n",
            "Digite a idade: 30\n",
            "Digite o gênero: m\n",
            "Digite a idade: 32\n",
            "A quantidade de homens no módulo 6 é: 2\n",
            "A quantidade de mulheres no módulo 6 é: 0\n",
            "A média de idades no módulo 6 é: 31.0\n",
            "A quantidade de homens no curso é: 8\n",
            "A quantidade de mulheres no curso é: 4\n",
            "A média das idades no curso é: 25.5\n"
          ]
        }
      ]
    }
  ]
}