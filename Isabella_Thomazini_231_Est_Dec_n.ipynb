{
  "nbformat": 4,
  "nbformat_minor": 0,
  "metadata": {
    "colab": {
      "provenance": [],
      "include_colab_link": true
    },
    "kernelspec": {
      "name": "python3",
      "display_name": "Python 3"
    }
  },
  "cells": [
    {
      "cell_type": "markdown",
      "metadata": {
        "id": "view-in-github",
        "colab_type": "text"
      },
      "source": [
        "<a href=\"https://colab.research.google.com/github/Azisa06/Python/blob/main/Isabella_Thomazini_231_Est_Dec_n.ipynb\" target=\"_parent\"><img src=\"https://colab.research.google.com/assets/colab-badge.svg\" alt=\"Open In Colab\"/></a>"
      ]
    },
    {
      "cell_type": "markdown",
      "metadata": {
        "id": "I3ayCEJnHhtv"
      },
      "source": [
        "#Lista de exercícios de ESTRUTURA de DECISÃO\n",
        "#Fazer do 1 ao 20, o restante fica para estudos"
      ]
    },
    {
      "cell_type": "markdown",
      "metadata": {
        "id": "E64RcqHIMXAS"
      },
      "source": [
        "### 1.a) Faça um algoritmo que calcule e exiba o salário reajustado de um funcionário de acordo com a seguinte regra: Salário até 500, reajuste de 50%."
      ]
    },
    {
      "cell_type": "code",
      "metadata": {
        "id": "iepDUOyzHFPt",
        "colab": {
          "base_uri": "https://localhost:8080/"
        },
        "outputId": "b3f39829-8490-43ea-e3be-5e9ea43e5715"
      },
      "source": [
        "salario = float(input(\"Digite o salário: \"))\n",
        "if salario <= 500:\n",
        "    novo = salario * 1.5\n",
        "    print(f\"Novo salário {novo: .2f} reais\")"
      ],
      "execution_count": null,
      "outputs": [
        {
          "output_type": "stream",
          "name": "stdout",
          "text": [
            "Digite o salário: 500\n",
            "Novo salário  750.00 reais\n"
          ]
        }
      ]
    },
    {
      "cell_type": "markdown",
      "metadata": {
        "id": "OYoL34dGG0XC"
      },
      "source": [
        "###1.b) Faça um algoritmo que calcule e exiba o salário reajustado de um funcionário de acordo com a seguinte regra: Salário até 500, reajuste de 50%; Salários maiores que 500, reajuste de 30%."
      ]
    },
    {
      "cell_type": "code",
      "metadata": {
        "id": "uLE2w6-aMadI",
        "colab": {
          "base_uri": "https://localhost:8080/"
        },
        "outputId": "513e7cdc-d60d-4c74-f6d5-62461987ea11"
      },
      "source": [
        "salario = float(input(\"digite o salário: \"))\n",
        "if salario <= 500:\n",
        "    reajuste1 = salario * 1.5\n",
        "    print(f\"Salário reajustado para R$ {reajuste1: .2f}\")\n",
        "else:\n",
        "    reajuste2 = salario * 1.3\n",
        "    print(f\"Salário reajustado para R$ {reajuste2: .2f}\")"
      ],
      "execution_count": null,
      "outputs": [
        {
          "output_type": "stream",
          "name": "stdout",
          "text": [
            "digite o salário:1000\n",
            "Salário reajustado para R$  1300.00\n"
          ]
        }
      ]
    },
    {
      "cell_type": "markdown",
      "source": [
        "###1.c) Faça um algoritmo que calcule e exiba o salário reajustado de um funcionário de acordo com a seguinte regra: Salário até 500, reajuste de 50%; Salários maiores que 500 e até 1000, reajuste de 30%; Salários acima de 1000, reajuste de 10%."
      ],
      "metadata": {
        "id": "FP7AFG4hidmr"
      }
    },
    {
      "cell_type": "code",
      "source": [
        "salario = float(input(\"Digite o salário: \"))\n",
        "if salario <= 500:\n",
        "    reajuste1 = salario * 1.5\n",
        "    print(\"Salário reajustado para R$\", reajuste1)\n",
        "elif (salario >500) and (salario <= 1000):\n",
        "    reajuste2 = salario * 1.3\n",
        "    print(\"Salário reajustado para R$\", reajuste2)\n",
        "else:\n",
        "    reajuste3 = salario * 1.1\n",
        "    print(\"Salário reajustado para R$\", reajuste3)"
      ],
      "metadata": {
        "id": "JslC5_aniusE",
        "colab": {
          "base_uri": "https://localhost:8080/"
        },
        "outputId": "362c013e-ceb9-42c9-e23b-2f537260910e"
      },
      "execution_count": null,
      "outputs": [
        {
          "output_type": "stream",
          "name": "stdout",
          "text": [
            "Digite o salário: 1100\n",
            "Salário reajustado para R$ 1210.0\n"
          ]
        }
      ]
    },
    {
      "cell_type": "markdown",
      "metadata": {
        "id": "inPGbmBaMe3R"
      },
      "source": [
        "###2. Faça um algoritmo que leia o nome e a idade de uma pessoa, verifique se a idade de uma pessoa é menor ou maior de idade. Considera-se maior de idade uma pessoa com 18 anos ou mais. Como saída o algoritmo deve informar o nome e a idade da pessoa e depois uma mensagem se ela é ou não maior de idade.\n"
      ]
    },
    {
      "cell_type": "code",
      "metadata": {
        "id": "XxrUc9yWND8a",
        "colab": {
          "base_uri": "https://localhost:8080/"
        },
        "outputId": "fd1ae417-705b-47c7-d3c4-ae0e3fd31a6e"
      },
      "source": [
        "nome = str(input(\"Digite seu nome: \"))\n",
        "idade = int(input(\"Digite sua idade: \"))\n",
        "if idade >= 18:\n",
        "    print(nome, \"tem\", idade, \"anos e é maior de idade.\")\n",
        "else:\n",
        "    print(nome, \"tem\", idade, \"anos e é menor de idade.\")"
      ],
      "execution_count": null,
      "outputs": [
        {
          "output_type": "stream",
          "name": "stdout",
          "text": [
            "Digite seu nome: Isabella\n",
            "Digite sua idade: 15\n",
            "Isabella tem 15 anos e é menor de idade.\n"
          ]
        }
      ]
    },
    {
      "cell_type": "markdown",
      "source": [
        "###3.a) Faça um algoritmo que leia duas notas de um aluno, calcule a média e verifique, apresentando, se está aprovado ou reprovado."
      ],
      "metadata": {
        "id": "m6_s-6CeXRgm"
      }
    },
    {
      "cell_type": "code",
      "source": [
        "nota1 = float(input(\"Digite a primeira nota: \"))\n",
        "nota2 = float(input(\"Digite a segunda nota: \"))\n",
        "media = (nota1 + nota2) / 2\n",
        "if media < 6.0:\n",
        "   print(\"Média = \", media)\n",
        "   print(\"Aluno reprovado\")\n",
        "else:\n",
        "    print(\"Média = \", media)\n",
        "    print(\"Aluno aprovado.\")"
      ],
      "metadata": {
        "id": "zHYYE1H3X1Ug",
        "colab": {
          "base_uri": "https://localhost:8080/"
        },
        "outputId": "e3fe383a-b9ed-4068-cd57-86d8c9c693f0"
      },
      "execution_count": null,
      "outputs": [
        {
          "output_type": "stream",
          "name": "stdout",
          "text": [
            "Digite a primeira nota: 8\n",
            "Digite a segunda nota: 9\n",
            "Média =  8.5\n",
            "Aluno aprovado.\n"
          ]
        }
      ]
    },
    {
      "cell_type": "markdown",
      "source": [
        "###3.b) Faça um algoritmo que calcule e apresente o que foi requerido no exercício 3.a) e também avalie a condição de aprovar/reprovar, apenas quando o aluno tem frequencia acima de 75%, este valor deve ser lido."
      ],
      "metadata": {
        "id": "FDxDc_2RX7vf"
      }
    },
    {
      "cell_type": "code",
      "source": [
        "nota1 = float(input(\"Digite a primeira nota: \"))\n",
        "nota2 = float(input(\"Digite a segunda nota: \"))\n",
        "frequencia = float(input(\"Digite a frequência: \"))\n",
        "media = (nota1 + nota2) / 2\n",
        "if (media < 6.0 and frequencia < 75) or (media < 6.0 and frequencia >= 75) or (media >= 6.0 and frequencia < 75):\n",
        "    print(\"Média = \", media)\n",
        "    print(\"Aluno reprovado.\")\n",
        "else:\n",
        "    print(\"Média = \", media)\n",
        "    print(\"Aluno aprovado.\")\n"
      ],
      "metadata": {
        "id": "IUOPeeExYide",
        "colab": {
          "base_uri": "https://localhost:8080/"
        },
        "outputId": "4b1825ed-f13d-4ae4-f066-3a6e253975a0"
      },
      "execution_count": null,
      "outputs": [
        {
          "output_type": "stream",
          "name": "stdout",
          "text": [
            "Digite a primeira nota: 8\n",
            "Digite a segunda nota: 9\n",
            "Digite a frequência: 80\n",
            "Média =  8.5\n",
            "Aluno aprovado.\n"
          ]
        }
      ]
    },
    {
      "cell_type": "markdown",
      "source": [
        "###4. Faça um algoritmo que leia o gênero de uma pessoa. Se for digitado M ou F, apresentar 'Gênero válido!'. Caso contrário, 'Gênero inválido!'."
      ],
      "metadata": {
        "id": "zi3sycu6Y8hH"
      }
    },
    {
      "cell_type": "code",
      "source": [
        "genero = str(input(\"Digite seu gênero:\"))\n",
        "if genero == 'm' or genero == 'f':\n",
        "    print(\"Gênero válido!\")\n",
        "else:\n",
        "    print(\"Gênero inválido!\")\n"
      ],
      "metadata": {
        "id": "Aa7k7IoAY89K",
        "colab": {
          "base_uri": "https://localhost:8080/"
        },
        "outputId": "86c5f2f1-562d-4aa6-b75b-853276b9a7bc"
      },
      "execution_count": null,
      "outputs": [
        {
          "output_type": "stream",
          "name": "stdout",
          "text": [
            "Digite seu gênero:g\n",
            "Gênero inválido!\n"
          ]
        }
      ]
    },
    {
      "cell_type": "markdown",
      "metadata": {
        "id": "mWl0IWlJNEtA"
      },
      "source": [
        "###5. Tendo como dados de entrada a altura e o gênero (M/F) de uma pessoa (M-masculino ou F-feminino), construa um algoritmo que calcule seu peso ideal, utilizando as seguintes fórmulas:\n",
        "masculino: (72.7 * altura) - 58;\n",
        "\n",
        "feminino: (62.1 * altura) - 44.7\n",
        "\n"
      ]
    },
    {
      "cell_type": "code",
      "source": [
        "altura = float(input(\"Digite a altura: \"))\n",
        "genero = str(input(\"Digite o genero (M/F): \"))\n",
        "\n",
        "if genero == 'M'or genero == \"m\":\n",
        "    peso_ideal_m = (72.7 * altura) - 58\n",
        "    print(f\"Peso ideal:  {peso_ideal_m: .2f}\")\n",
        "else:\n",
        "    peso_ideal_f = (62.1 * altura) - 44.7\n",
        "    print(f\"Peso ideal: {peso_ideal_f: .2f}\")"
      ],
      "metadata": {
        "id": "iEeypQ0n7f_S",
        "colab": {
          "base_uri": "https://localhost:8080/"
        },
        "outputId": "56706f3d-a1a9-4ec9-8b73-50bd7f0156c8"
      },
      "execution_count": null,
      "outputs": [
        {
          "output_type": "stream",
          "name": "stdout",
          "text": [
            "Digite a altura: 1.73\n",
            "Digite o genero (M/F): m\n",
            "Peso ideal:   67.77\n"
          ]
        }
      ]
    },
    {
      "cell_type": "markdown",
      "source": [
        "###6. Faça um algoritmo que leia dois números inteiros e mostre o resultado da **diferença** do maior valor pelo menor."
      ],
      "metadata": {
        "id": "7QnlOyxxaAZc"
      }
    },
    {
      "cell_type": "code",
      "source": [
        "n1 = int(input(\"Digite o primeiro número:\"))\n",
        "n2 = int(input(\"Digite o segundo número:\"))\n",
        "\n",
        "if n1 > n2:\n",
        "    dif1 = n1 - n2\n",
        "    print(\"A diferença entre\", n1, \"e\", n2, \"é\", dif1)\n",
        "else:\n",
        "    dif2 = n2 - n1\n",
        "    print(\"A diferença entre\", n2, \"e\", n1, \"é\", dif2)"
      ],
      "metadata": {
        "id": "8Eu5pLm5Z-Y7",
        "colab": {
          "base_uri": "https://localhost:8080/"
        },
        "outputId": "27fa6daf-2780-491d-d3cb-b146112bead0"
      },
      "execution_count": null,
      "outputs": [
        {
          "output_type": "stream",
          "name": "stdout",
          "text": [
            "Digite o primeiro número:70\n",
            "Digite o segundo número:4\n",
            "A diferença entre 70 e 4 é 66\n"
          ]
        }
      ]
    },
    {
      "cell_type": "markdown",
      "source": [
        "###7. Uma faculdade faz o pagamento de seus professores por hora/aula. Faça um algoritmo que receba o nível e a quantidade de hora/aula, calcule e exiba o salário de um professor e a frase a seguira tabela abaixo:\n",
        "Professor Nível 1 - 11,00 reais por hora/aula, salário: ...\n",
        "\n",
        "Professor Nível 2 - 15,00 reais por hora/aula, salário: ...\n",
        "\n",
        "Professor Nível 3 - 19,00 reais por hora/aula, salário: ..."
      ],
      "metadata": {
        "id": "VupgaQwwagfI"
      }
    },
    {
      "cell_type": "code",
      "metadata": {
        "id": "Q8ZKZyGLNxFf",
        "colab": {
          "base_uri": "https://localhost:8080/"
        },
        "outputId": "5b282917-99d7-4852-8ac5-922211cc227e"
      },
      "source": [
        "nivel = int(input(\"Digite o nível:\"))\n",
        "quantidade = float(input(\"Digite a quatidade de hora/aula:\"))\n",
        "\n",
        "if nivel == 1:\n",
        "    salario1 = 11 * quantidade\n",
        "    print(f\"Salário = {salario1: .2f}\")\n",
        "elif nivel == 2:\n",
        "    salario2 = 15 * quantidade\n",
        "    print(f\"Salário = {salario2: .2f}\")\n",
        "else:\n",
        "    salario3 = 19 * quantidade\n",
        "    print(f\"Salário = {salario3: .2f}\")"
      ],
      "execution_count": null,
      "outputs": [
        {
          "name": "stdout",
          "output_type": "stream",
          "text": [
            "Digite o nível:1\n",
            "Digite a quatidade de hora/aula:5\n"
          ]
        }
      ]
    },
    {
      "cell_type": "markdown",
      "metadata": {
        "id": "ZG-AZwwLN4Vf"
      },
      "source": [
        "###8. Faça um algoritmo que leia um número inteiro e mostre uma mensagem indicando se este número é par ou ímpar e se é positivo ou negativo.\n"
      ]
    },
    {
      "cell_type": "code",
      "metadata": {
        "id": "t4jNff-_N9xR",
        "colab": {
          "base_uri": "https://localhost:8080/"
        },
        "outputId": "53f1cc4c-36b0-473c-f4dc-1671e320f932"
      },
      "source": [
        "numero = int(input(\"Digite um número inteiro: \"))\n",
        "\n",
        "if numero % 2 == 0:\n",
        "    print(\"Este número é par.\")\n",
        "elif numero % 2 != 0:\n",
        "    print(\"Este número é ímpar.\")\n",
        "\n",
        "if numero >= 0:\n",
        "            print(\"Este número é positivo.\")\n",
        "elif numero < 0:\n",
        "            print(\"Este número é negativo.\")"
      ],
      "execution_count": null,
      "outputs": [
        {
          "output_type": "stream",
          "name": "stdout",
          "text": [
            "Digite um número inteiro: 6\n",
            "Este número é par.\n",
            "Este número é positivo.\n"
          ]
        }
      ]
    },
    {
      "cell_type": "markdown",
      "source": [
        "###9. Num determinado Estado, para transferências de veículos, o DETRAN cobra uma taxa de 1% para carros fabricados antes de 1990 e uma taxa de 1.5% para os fabricados de 1990 em diante, taxa esta incidindo sobre o valor de tabela do carro. Faça um algoritmo que leia o ano e o preço do carro, calcule e apresente o imposto a ser pago."
      ],
      "metadata": {
        "id": "4CVm6Oa5eNTp"
      }
    },
    {
      "cell_type": "code",
      "source": [
        "ano_carro = int(input(\"Digite o ano do carro: \"))\n",
        "preco = float(input(\"Digite o preço do carro: \"))\n",
        "if ano_carro < 1990:\n",
        "    imposto1 = preco * 0.01\n",
        "    print(\"O imposto a ser pago é R$\", imposto1)\n",
        "else:\n",
        "    imposto2 = preco * 0.015\n",
        "    print(\"O imposto a ser pago é R$\", imposto2)"
      ],
      "metadata": {
        "id": "ys1x7SuegHK1",
        "colab": {
          "base_uri": "https://localhost:8080/"
        },
        "outputId": "a5318f46-9170-4627-c6ac-629badfa1549"
      },
      "execution_count": null,
      "outputs": [
        {
          "output_type": "stream",
          "name": "stdout",
          "text": [
            "Digite o ano do carro: 2023\n",
            "Digite o preço do carro: 100000\n",
            "O imposto a ser pago é R$ 1500.0\n"
          ]
        }
      ]
    },
    {
      "cell_type": "markdown",
      "metadata": {
        "id": "tFR9qp3gN999"
      },
      "source": [
        "###10. Elabore um algoritmo que informando a idade de um nadador o mesmo terá condições de classificar em uma das seguintes categorias:\n",
        "infantil = 5 - 10 anos;\n",
        "\n",
        "juvenil = 11-17 anos;\n",
        "\n",
        "adulto = maiores de 18 anos.\n",
        "\n"
      ]
    },
    {
      "cell_type": "code",
      "metadata": {
        "id": "ECh55bXTOUN3",
        "colab": {
          "base_uri": "https://localhost:8080/"
        },
        "outputId": "901f541c-8787-4b57-e42e-963c7e20c5d6"
      },
      "source": [
        "idade = int(input(\"Informe a idade:\"))\n",
        "if idade >= 5 and idade <= 10:\n",
        "    print(\"Nadador infantil.\")\n",
        "elif idade >= 11 and idade <= 17:\n",
        "    print(\"Nadador juvenil.\")\n",
        "elif idade >= 18:\n",
        "    print(\"Nadador adulto.\")\n"
      ],
      "execution_count": null,
      "outputs": [
        {
          "output_type": "stream",
          "name": "stdout",
          "text": [
            "Informe a idade:21\n",
            "Nadador adulto.\n"
          ]
        }
      ]
    },
    {
      "cell_type": "markdown",
      "metadata": {
        "id": "pWT4E1FfOUkH"
      },
      "source": [
        "###11. Um banco concederá um crédito especial aos seus clientes, variável com o saldo médio no último ano. Faça um algoritmo que leia o saldo médio de um cliente e calcule o valor do crédito de acordo com a tabela a seguir. Mostre uma mensagem informando o saldo médio e o valor do crédito.\n",
        "        Saldo médio\n",
        "        * de 0 a 200 nenhum crédito\n",
        "        * de 201 a  400 20% do valor do saldo médio\n",
        "        * de 401 a  600 30% do valor do saldo médio\n",
        "        * acima de 601 40% do valor do saldo médio\n"
      ]
    },
    {
      "cell_type": "code",
      "metadata": {
        "id": "bjndIJmMP2--",
        "colab": {
          "base_uri": "https://localhost:8080/"
        },
        "outputId": "31fae416-3e35-44dd-aa44-3d442151f654"
      },
      "source": [
        "saldo = float(input(\"Digite seu saldo médio: \"))\n",
        "if saldo >= 0 and saldo <= 200:\n",
        "    print(\"Cliente com saldo médio de \", saldo, \"não recebe crédito \")\n",
        "elif saldo >= 201 and saldo <= 400:\n",
        "    credito1 = saldo * 0.2\n",
        "    print(\"Cliente com saldo médio de R$\", saldo, \"recebe crédito de R$\", credito1)\n",
        "elif saldo >= 401 and saldo <= 600:\n",
        "    credito2 = saldo * 0.3\n",
        "    print(\"Cliente com saldo médio de R$\", saldo, \"recebe crédito de R$\", credito2)\n",
        "else:\n",
        "    credito3 = saldo * 0.4\n",
        "    print(\"Cliente com saldo médio de R$\", saldo, \"recebe crédito de R$\", credito3)"
      ],
      "execution_count": null,
      "outputs": [
        {
          "output_type": "stream",
          "name": "stdout",
          "text": [
            "Digite seu saldo médio: 1000\n",
            "Cliente com saldo médio de R$ 1000.0 recebe crédito de R$ 400.0\n"
          ]
        }
      ]
    },
    {
      "cell_type": "markdown",
      "metadata": {
        "id": "4NQ1BgrnQCJ4"
      },
      "source": [
        "###12. A Organização Mundial de Saúde usa a seguinte tabela para determinar a condição de um adulto, para isso desenvolva um algoritmo para calcular o Índice de Massa Corporal (IMC) e apresenta-lo, dado pela fórmula:\n",
        "    IMC = peso / (altura)2   (o número 2 significa, elevado ao quadrado)\n",
        "\n",
        "CONDIÇÃO |  IMC em adultos |\n",
        " ---|---\n",
        "Abaixo do peso  |\tAbaixo de 18.5  |\n",
        "No peso normal\t|\tEntre 18.5 e 25|\n",
        "Acima do peso\t|\tEntre 25.1 e 30|\n",
        "Obeso\t\t    |\tAcima de 30|"
      ]
    },
    {
      "cell_type": "code",
      "metadata": {
        "id": "s7C4mls6TT90",
        "colab": {
          "base_uri": "https://localhost:8080/"
        },
        "outputId": "2b9595c9-2939-4581-86b8-4bfeb60d230a"
      },
      "source": [
        "peso = float(input(\"Digite seu peso: \"))\n",
        "altura = float(input(\"Digite sua altura: \"))\n",
        "imc = peso / (altura)**2\n",
        "\n",
        "if imc < 18.5:\n",
        "    print(\"Abaixo do peso.\")\n",
        "elif imc >= 18.5 and imc <= 25:\n",
        "    print(\"No peso normal.\")\n",
        "elif imc >= 25.1 and imc <= 30:\n",
        "    print(\"Acima do peso.\")\n",
        "else:\n",
        "    print(\"Obeso.\")"
      ],
      "execution_count": null,
      "outputs": [
        {
          "output_type": "stream",
          "name": "stdout",
          "text": [
            "Digite seu peso: 90\n",
            "Digite sua altura: 1.73\n",
            "Obeso.\n"
          ]
        }
      ]
    },
    {
      "cell_type": "markdown",
      "metadata": {
        "id": "-Lj_vtkDwhfJ"
      },
      "source": [
        "###13. A nota final de um estudante é calculada a partir de três notas atribuídas, respectivamente, a um trabalho de laboratório, a uma avaliação semestral e a um exame final. A média das três notas mencionadas obedece aos pesos a seguir:\n",
        "\n",
        " NOTA |  PESO |\n",
        " ---|---\n",
        "Trabalho de laboratório  |   2   |\n",
        "Avaliação semestral      |   3   |\n",
        "Exame final              |   5   |\n",
        "\n",
        "### Faça um programa que receba as três notas, calcule e mostre a média ponderada e o conceito que segue a tabela\n",
        "\n",
        "MÉDIA PONDERADA    | CONCEITO|\n",
        "---|---\n",
        "8,0 <= média <= 10  |    A\n",
        "7,0 <= média < 8,0  |    B\n",
        "6,0 <= média < 7,0  |    C\n",
        "5,0 <= média < 6,0  |    D\n",
        " 0,0 <= média < 5,0  |    E\n",
        "       \n",
        "media_ponderada = (nota_traballho * 2 + avaliacao_semestral * 3 + exame_final * 5) / 10\n",
        "\n"
      ]
    },
    {
      "cell_type": "code",
      "metadata": {
        "id": "fhlh7OxNwDhl",
        "colab": {
          "base_uri": "https://localhost:8080/"
        },
        "outputId": "cc17e98b-71fb-4f93-d007-c2e0e765f7ea"
      },
      "source": [
        "trabalho = float(input(\"Digite a nota do trabalho laboratórial: \"))\n",
        "avaliacao = float (input(\"Digite a nota da avaliação semestral: \"))\n",
        "exame = float(input(\"Digite a nota do exame: \"))\n",
        "media = (trabalho * 2 + avaliacao * 3 + exame * 5) / 10\n",
        "\n",
        "if media <= 10 and media >= 8:\n",
        "    conceito1 = 'A'\n",
        "    print(\"Aluno com média\", media, \"e conceito \", conceito1)\n",
        "elif media < 8 and media >= 7:\n",
        "    conceito2 = 'B'\n",
        "    print(\"Aluno com média\", media, \"e conceito \", conceito2)\n",
        "elif media < 7 and media >= 6:\n",
        "    conceito3 = 'C'\n",
        "    print(\"Aluno com média\", media, \"e conceito \", conceito3)\n",
        "elif media < 6 and media >= 5:\n",
        "    conceito4 = 'D'\n",
        "    print(\"Aluno com média\", media, \"e conceito \", conceito4)\n",
        "else:\n",
        "    conceito5 = 'E'\n",
        "    print(\"Aluno com média\", media, \"e conceito \", conceito5)\n"
      ],
      "execution_count": null,
      "outputs": [
        {
          "output_type": "stream",
          "name": "stdout",
          "text": [
            "Digite a nota do trabalho laboratórial: 6\n",
            "Digite a nota da avaliação semestral: 6\n",
            "Digite a nota do exame: 6\n",
            "Aluno com média 6.0 e conceito  C\n"
          ]
        }
      ]
    },
    {
      "cell_type": "markdown",
      "metadata": {
        "id": "PAaDySD4wkK_"
      },
      "source": [
        "### 14. Faça um programa que receba três notas de um aluno, calcule e mostre a média aritmética e a mensagem constante na tabela a seguir. Aos alunos que ficaram para exame, calcule e mostre a nota que deverão tirar para serem aprovados, considerando que a média exigida é 6,0.\n",
        "\n",
        "MÉDIA ARITMÉTICA | MENSAGEM\n",
        "    ---|---\n",
        "    0 <= média < 3 |Reprovado\n",
        "    3 <= média < 6|Exame\n",
        "    6 <= média <= 10|Aprovado\n",
        "\n",
        "```\n",
        "SE media >= 3 E media < 6\n",
        "    ESCREVA “Exame”\n",
        "    nota_exame = 12 - media\n",
        "    ESCREVA “Você deve tirar a nota”, nota_exame, “para ser aprovado.”\n"
      ]
    },
    {
      "cell_type": "code",
      "metadata": {
        "id": "y1Wfq8tzwm06",
        "colab": {
          "base_uri": "https://localhost:8080/"
        },
        "outputId": "6be2fb07-f4f4-42de-d48a-e465f8b6a7b3"
      },
      "source": [
        "nota1 = float(input(\"Digite a primeira nota: \"))\n",
        "nota2 = float(input(\"Digite a segunda nota: \"))\n",
        "nota3 = float(input(\"Digite a terceira nota: \"))\n",
        "media = (nota1 + nota2 + nota3) / 3\n",
        "\n",
        "if media >= 0 and media < 3:\n",
        "    print(\"Reprovado\")\n",
        "elif media >= 3 and media < 6:\n",
        "    print(\"Exame\")\n",
        "    nota_exame = 12 - media\n",
        "    print(f\"Você precisa tirar a nota {nota_exame:.1f} para ser aprovado\")\n",
        "else:\n",
        "    print(\"Aprovado\")"
      ],
      "execution_count": null,
      "outputs": [
        {
          "output_type": "stream",
          "name": "stdout",
          "text": [
            "Digite a primeira nota: 6\n",
            "Digite a segunda nota: 5\n",
            "Digite a terceira nota: 5\n",
            "Exame\n",
            "Você precisa tirar a nota 6.7 para ser aprovado\n"
          ]
        }
      ]
    },
    {
      "cell_type": "markdown",
      "metadata": {
        "id": "7O0Mqmidwm-j"
      },
      "source": [
        "### 15. Faça um programa que receba dois números e mostre o maior.\n"
      ]
    },
    {
      "cell_type": "code",
      "metadata": {
        "id": "HcTiyc7GwpKM",
        "colab": {
          "base_uri": "https://localhost:8080/"
        },
        "outputId": "b4f9fa95-5a57-46d6-d3c1-0731055d51b1"
      },
      "source": [
        "n1 = float(input(\"Digite o primeiro número: \"))\n",
        "n2 = float(input(\"Digite o segundo número: \"))\n",
        "\n",
        "if n1 > n2:\n",
        "    print(\"O maior número é\", n1)\n",
        "elif n2 > n1:\n",
        "    print(\"O maior número é:\", n2)"
      ],
      "execution_count": null,
      "outputs": [
        {
          "output_type": "stream",
          "name": "stdout",
          "text": [
            "Digite o primeiro número: 9\n",
            "Digite o segundo número: 4\n",
            "O maior número é 9.0\n"
          ]
        }
      ]
    },
    {
      "cell_type": "markdown",
      "metadata": {
        "id": "2_NBZeVXwpTd"
      },
      "source": [
        "### 16. Faça um programa que receba três números e mostre-os em ordem crescente. Suponha que o usuário digitará três números diferentes.\n",
        "\n",
        "```\n",
        "SE numero1 < numero2 E numero1 < numero3\n",
        "    SE numero2 < numero3\n",
        "        ESCREVA “A ordem crescente é: “,numero1,“-”,numero2,“-”,numero3\n",
        "    SENÃO\n",
        "        ESCREVA “A ordem crescente é: “,numero1,“-”,numero3,“-”,numero2\n",
        "SE numero2 < numero1 E numero2 < numero3\n",
        "    SE numero1 < numero3\n",
        "        ESCREVA “A ordem crescente é: “,numero2,“-”,numero1,“-”,numero3\n",
        "    SENÃO\n",
        "        ESCREVA “A ordem crescente é: “,numero2,“-”,numero3,“-”,numero1\n",
        "SE numero3 < numero1 E numero3 < num2\n",
        "    SE numero1 < numero2\n",
        "        ESCREVA “A ordem crescente é: “,numero3,“-”,numero1,“-”,numero2\n",
        "    SENÃO\n",
        "        ESCREVA “A ordem crescente é: “,numero3,“-”,numero2,“-”,numero1\n",
        "  ```"
      ]
    },
    {
      "cell_type": "code",
      "metadata": {
        "id": "Ek3oVh59wsJJ",
        "colab": {
          "base_uri": "https://localhost:8080/"
        },
        "outputId": "c5ef1078-87aa-4469-c0dc-e246b3b2f4c2"
      },
      "source": [
        "n1 = float(input(\"Digite o primeiro número: \"))\n",
        "n2 = float(input(\"Digite o segundo número: \"))\n",
        "n3 = float(input(\"Digite o terceiro número \"))\n",
        "\n",
        "if n1 < n2 and n1 < n3:\n",
        "    if n2 < n3:\n",
        "        print(\"A ordem crescente é\", n1, \"-\", n2, \"-\", n3)\n",
        "    else:\n",
        "        print(\"A ordem crescente é\", n1, \"-\", n3, \"-\", n2)\n",
        "if n2 < n1 and n2 < n3:\n",
        "    if n1 < n3:\n",
        "        print(\"A ordem crescente é\", n2, \"-\", n1, \"-\", n3)\n",
        "    else:\n",
        "        print(\"A ordem crescente é\", n2, \"-\", n3, \"-\", n1)\n",
        "if n3 < n1 and n3 < n2:\n",
        "    if n1 < n2:\n",
        "        print(\"A ordem crescente é\", n3, \"-\", n1, \"-\", n2)\n",
        "    else:\n",
        "        print(\"A ordem crescente é\", n3, \"-\", n2, \"-\", n1)\n"
      ],
      "execution_count": null,
      "outputs": [
        {
          "output_type": "stream",
          "name": "stdout",
          "text": [
            "Digite o primeiro número: 3\n",
            "Digite o segundo número: 2\n",
            "Digite o terceiro número 1\n",
            "A ordem crescente é 1.0 - 2.0 - 3.0\n"
          ]
        }
      ]
    },
    {
      "cell_type": "markdown",
      "metadata": {
        "id": "ZhHFeeuKwsS_"
      },
      "source": [
        "### 17. Faça um programa que receba três números obrigatoriamente em ordem crescente e um quarto número que não siga essa regra. Mostre, em seguida, os quatro números em ordem decrescente. Suponha que o usuário digitará quatro números diferentes.\n",
        "\n",
        "```code\n",
        "SE numero4 > numero3\n",
        "    ESCREVA “A ordem decrescente é: “,numero4,“-”,numero3,“-”,numero2,“-”,numero1\n",
        "SENÃO SE numero4 > numero2 E numero4 < numero3\n",
        "    ESCREVA “A ordem decrescente é: “,numero3,“-”,numero4,“-”,numero2,“-”,numero1\n",
        "SENÃO SE numero4 > numero1 E numero4 < numero2\n",
        "    ESCREVA “A ordem decrescente é: “,numero3,“-”,numero2,“-”,numero4, “-”,numero1\n",
        "SENÃO SE numero4 < numero1\n",
        "    ESCREVA “A ordem decrescente é: “,numero3,“-”,numero2,“-”,numero1,“-”,numero4\n",
        "```"
      ]
    },
    {
      "cell_type": "code",
      "metadata": {
        "id": "MXb2lDpTwukn",
        "colab": {
          "base_uri": "https://localhost:8080/"
        },
        "outputId": "50b00655-585b-4a7e-abe0-dacf7cba19ae"
      },
      "source": [
        "n1 = float(input(\"Digite o menor número: \"))\n",
        "n2 = float(input(\"Digite o número mediano: \"))\n",
        "n3 = float(input(\"Digite o maior número: \"))\n",
        "n4 = float(input(\"Digite outro número \"))\n",
        "if n4 > n3:\n",
        "    print(\"A ordem decrecente é: \", n4, \"-\", n3, \"-\", n2, \"-\", n1)\n",
        "elif n4 > n2 and n4 < n3:\n",
        "    print(\"A ordem decreacente é \", n3, \"-\", n4, \"-\", n2, \"-\", n1)\n",
        "elif n4 > n1 and n4 <  n2:\n",
        "    print(\"A ordem decrescente é \", n3, \"-\", n2, \"-\", n4, \"-\", n1)\n",
        "elif n4 < n1:\n",
        "    print(\"A ordem decrescente é \", n3, \"-\", n2, \"-\", n1, \"-\", n4)"
      ],
      "execution_count": null,
      "outputs": [
        {
          "output_type": "stream",
          "name": "stdout",
          "text": [
            "Digite o menor número: 5\n",
            "Digite o número mediano: 11\n",
            "Digite o maior número: 70\n",
            "Digite outro número 1\n",
            "A ordem decrescente é  70.0 - 11.0 - 5.0 - 1.0\n"
          ]
        }
      ]
    },
    {
      "cell_type": "markdown",
      "metadata": {
        "id": "U6uFBqEEwxTU"
      },
      "source": [
        "### 18. Faça um programa que receba quatro valores: I, A, B e C. Desses valores, I é inteiro e positivo, A, B e C são reais. Escreva os números A, B e C obedecendo à tabela a seguir.\n",
        "\n",
        "*Suponha que o valor digitado para I seja sempre um valor válido, ou seja, 1, 2 ou 3, e que os números digitados sejam diferentes um do outro.*\n",
        "\n",
        "  |VALOR DE I | FORMA A ESCREVER|\n",
        "  |---|---|\n",
        "  |1                  |A, B e C em ordem crescente.|\n",
        "  |2                  |A, B e C em ordem decrescente|\n",
        "  |3                  |O maior fica entre os outros dois números.|\n",
        "\n",
        "  ```code\n",
        "SE I == 1\n",
        "    SE A<B E A<C\n",
        "        SE B<C\n",
        "            ESCREVA “A ordem crescente dos números é:”,A,” -”,B,”-”,C\n",
        "        SENÃO\n",
        "            ESCREVA “A ordem crescente dos números é:”,A,” -”,C,”-”,B\n",
        "    SE B<A E B<C\n",
        "        SE A<C\n",
        "            ESCREVA “A ordem crescente dos números é:”,B,”-”,A,”-”,C\n",
        "        SENÃO\n",
        "            ESCREVA “A ordem crescente dos números é: “,B,”-”,C,”-”,A\n",
        "    SE C<A E C<B\n",
        "        SE A<B\n",
        "            ESCREVA “A ordem crescente dos números é: “,C,”-”,A,”-”,B\n",
        "        SENÃO\n",
        "            ESCREVA “A ordem crescente dos números é: “,C,”-”,B,”-”,A\n",
        "SE I == 2\n",
        "    SE A>B E A>C\n",
        "        SE B>C\n",
        "            ESCREVA “A ordem decrescente dos números é: “,A,” -”,B,”-”,C\n",
        "        SENÃO\n",
        "            ESCREVA “A ordem decrescente dos números é: “,A,” -”,C,”-”,B\n",
        "    SE B>A E B>C\n",
        "        SE A>C\n",
        "            ESCREVA “A ordem decrescente dos números é: “,B,” -”,A,”-”,C\n",
        "        SENÃO\n",
        "            ESCREVA “A ordem decrescente dos números é: “,B,” -”,C,”-”,A\n",
        "    SE C>A E C>B\n",
        "        SE A>B\n",
        "            ESCREVA “A ordem decrescente dos números é: “,C,” -”,A,”-”,B\n",
        "        SENÃO\n",
        "            ESCREVA “A ordem decrescente dos números é: “,C,” -”,B,”-”,A\n",
        "SE I == 3\n",
        "    SE A>B E A>C\n",
        "        ESCREVA “A ordem desejada é: “,B,”-”,A,”-”,C\n",
        "    SE B>A E B>C\n",
        "        ESCREVA “A ordem desejada é: “,A,”-”,B,”-”,C\n",
        "    SE C>A E C>B\n",
        "        ESCREVA “A ordem desejada é: “,A,”-”,C,”-”,B\n",
        "```"
      ]
    },
    {
      "cell_type": "code",
      "metadata": {
        "id": "xComTuz4w2uW",
        "colab": {
          "base_uri": "https://localhost:8080/"
        },
        "outputId": "f7f2ac61-7c8b-46f0-9706-dec1e5522942"
      },
      "source": [
        "A = float(input(\"digite o primeiro número: \"))\n",
        "B = float(input(\"Digite o segundo número: \"))\n",
        "C = float(input(\"Digite o terceiro número: \"))\n",
        "I = int(input(\"Digite um número inteiro de 1 á 3: \"))\n",
        "if I == 1:\n",
        "    if A < B and A < C:\n",
        "        if B < C:\n",
        "            print(\"A ordem crescente é: \", A, \"-\", B, \"-\", C)\n",
        "        else:\n",
        "            print(\"A ordem crescente é: \", A, \"-\", C, \"-\", B)\n",
        "    if B < A and B < C:\n",
        "        if A < C:\n",
        "            print(\"A ordem crescente é: \", B, \"-\", A, \"-\", C)\n",
        "        else:\n",
        "            print(\"A ordem crescente é: \", B, \"-\", C, \"-\", A)\n",
        "    if C < A and C < B:\n",
        "        if A < B:\n",
        "            print(\"A ordem crescente é: \", C, \"-\", A, \"-\", B)\n",
        "        else:\n",
        "            print(\"A ordem crescente é: \", C, \"-\", B, \"-\", A)\n",
        "elif I == 2:\n",
        "    if A > B and A > C:\n",
        "        if B > C:\n",
        "            print(\"A ordem decrescente é: \", A, \"-\", B, \"-\", C)\n",
        "        else:\n",
        "            print(\"A ordem decrescente é: \", A, \"-\", C, \"-\", B)\n",
        "    if B > A and B > C:\n",
        "        if A > C:\n",
        "            print(\"A ordem decrescente é: \", B, \"-\", A, \"-\", C)\n",
        "        else:\n",
        "            print(\"A ordem decrescente é: \", B, \"-\", C, \"-\", A)\n",
        "    if C > A and C > B:\n",
        "        if A > B:\n",
        "            print(\"A ordem decrescente é: \", C, \"-\", A, \"-\", B)\n",
        "        else:\n",
        "            print(\"A ordem decrescente é: \", C, \"-\", B, \"-\", A)\n",
        "elif I == 3:\n",
        "    if A > B and A > B:\n",
        "        print(\"A ordem desejada é: \", B, \"-\", A, \"-\", C)\n",
        "    if B > A and B > C:\n",
        "        print(\"A ordem desejada é: \", A, \"-\", B, \"-\", C)\n",
        "    if C > A and C > B:\n",
        "        print(\"A ordem desejada é: \", A, \"-\", C, \"-\", B)\n",
        "\n"
      ],
      "execution_count": null,
      "outputs": [
        {
          "output_type": "stream",
          "name": "stdout",
          "text": [
            "digite o primeiro número: 47\n",
            "Digite o segundo número: 5\n",
            "Digite o terceiro número: 20\n",
            "Digite um número inteiro de 1 á 3: 2\n",
            "A ordem decrescente é:  47.0 - 20.0 - 5.0\n"
          ]
        }
      ]
    },
    {
      "cell_type": "markdown",
      "metadata": {
        "id": "uN4h6-qFw22p"
      },
      "source": [
        "### 19. Faça um programa que mostre o menu de opções a seguir, receba a opção do usuário, número 1 para a escolha da soma, ou número 2 para a raiz quadrada, também receba os dados necessários para executar cada operação.\n",
        "\n",
        "    Menu de opções:\n",
        "    1. Somar dois números.\n",
        "    2. Raiz quadrada de um número.\n",
        "\n",
        "Observação: raiz = numero ** (1/2), ou\n",
        "import math\n",
        "raiz = math.sqrt(numero), assim como foi programado no exercício 18, da lista anterior.\n",
        "      "
      ]
    },
    {
      "cell_type": "code",
      "metadata": {
        "id": "8otY1f_ow5Sy",
        "colab": {
          "base_uri": "https://localhost:8080/"
        },
        "outputId": "37acf771-fc57-44e0-b244-f751da94abf3"
      },
      "source": [
        "escolha = int(input(\"Digite 1 para somar dois números ou 2 para ter a raiz quadrada de um número:\"))\n",
        "\n",
        "if escolha == 1:\n",
        "    n1 = float(input(\"Digite o primeiro número:\"))\n",
        "    n2 = float(input(\"Digite o segundo número:\"))\n",
        "    soma = n1 + n2\n",
        "    print(\"A soma de\", n1, \"e\", n2, \"é\", soma)\n",
        "if escolha == 2:\n",
        "    n1 = float(input(\"Digite um número:\"))\n",
        "    raiz = n1 ** (1/2)\n",
        "    print(\"A raiz quadrada de\", n1, \"é\", raiz)"
      ],
      "execution_count": null,
      "outputs": [
        {
          "output_type": "stream",
          "name": "stdout",
          "text": [
            "Digite 1 para somar dois números ou 2 para ter a raiz quadrada de um número:2\n",
            "Digite um número:9\n",
            "A raiz quadrada de 9.0 é 3.0\n"
          ]
        }
      ]
    },
    {
      "cell_type": "markdown",
      "metadata": {
        "id": "xVYTUU1Qw5b0"
      },
      "source": [
        "### 20. Faça um programa que mostre a data e a hora do sistema nos seguintes formatos: **dia/mês/ano – mês por extenso e hora:minuto**.\n",
        "\n",
        "Observação: ***from*** carrega um módulo/biblioteca da linguagem Python e o ***import*** é usado para informar qual objeto desta biblioteca queremos importar/carregar no nosso programa\n",
        "\n",
        "    from datetime import datetime\n",
        "    #Este comando obtem a data e hora de hoje de algum país onde esta o servidor que executa nosso programa em Python.\n",
        "    #Quando eu testei, o servidor era do fuso horário de Dakar-Senegal\n",
        "    hoje = datetime.now()\n",
        "    print ('Ano atual.:',hoje.year)\n",
        "    print ('Mês.......:',hoje.month)\n",
        "    print ('Dia.......:',hoje.day)\n",
        "    print ('Hora......:',hoje.hour)\n",
        "    print ('Minuto....:',hoje.minute)\n",
        "    print ('Segundos..:',hoje.second)"
      ]
    },
    {
      "cell_type": "code",
      "metadata": {
        "id": "e-wpYfvew8A2",
        "colab": {
          "base_uri": "https://localhost:8080/"
        },
        "outputId": "0d848e1b-cd4b-4169-f11f-6a6ff56b83ec"
      },
      "source": [
        "from datetime import datetime\n",
        "hoje = datetime.now()\n",
        "print ('Ano atual.:',hoje.year)\n",
        "print ('Mês.......:',hoje.month)\n",
        "print ('Dia.......:',hoje.day)\n",
        "print ('Hora......:',hoje.hour)\n",
        "print ('Minuto....:',hoje.minute)\n",
        "print ('Segundos..:',hoje.second)\n",
        "\n",
        "if hoje.month == 1:\n",
        "    print(\"Data e hora atual: \", hoje.day, \"/Janeiro/\",hoje.year, hoje.hour,\":\",hoje.minute)\n",
        "elif hoje.month == 2:\n",
        "    print(\"Data e hora atual: \", hoje.day, \"/Fevereiro/\",hoje.year, hoje.hour,\":\",hoje.minute)\n",
        "elif hoje.month == 3:\n",
        "    print(\"Data e hora atual: \", hoje.day, \"/Março/\", hoje.year, hoje.hour,\":\",hoje.minute)"
      ],
      "execution_count": null,
      "outputs": [
        {
          "output_type": "stream",
          "name": "stdout",
          "text": [
            "Ano atual.: 2023\n",
            "Mês.......: 3\n",
            "Dia.......: 29\n",
            "Hora......: 23\n",
            "Minuto....: 3\n",
            "Segundos..: 23\n",
            "Data e hora atual:  29 /Março/ 2023 23 : 3\n"
          ]
        }
      ]
    },
    {
      "cell_type": "code",
      "source": [
        "# DICA-curiosidade, o trecho de código a\n",
        "# seguir, mostra como trocar o fuso\n",
        "# horário para o país que deseja\n",
        "from datetime import datetime, timezone, timedelta\n",
        "\n",
        "data_e_hora_atuais = datetime.now()\n",
        "fuso_horario = timezone(timedelta(hours=-3))\n",
        "print('UTC - Tempo Universal Coordenado:', fuso_horario)\n",
        "data_e_hora_SP = data_e_hora_atuais.astimezone(fuso_horario)\n",
        "data_e_hora_SP_em_texto = data_e_hora_SP.strftime('%d/%m/%Y %H:%M')\n",
        "print('Data e horário de São Paulo:',data_e_hora_SP_em_texto)"
      ],
      "metadata": {
        "colab": {
          "base_uri": "https://localhost:8080/"
        },
        "id": "9PTdyMfvO_tI",
        "outputId": "d5df7203-876f-44a9-cb03-5ae92a0c4b37"
      },
      "execution_count": null,
      "outputs": [
        {
          "output_type": "stream",
          "name": "stdout",
          "text": [
            "UTC - Tempo Universal Coordenado: UTC-03:00\n",
            "Data e horário de São Paulo: 29/03/2023 20:03\n"
          ]
        }
      ]
    },
    {
      "cell_type": "markdown",
      "metadata": {
        "id": "BwvSTMttw8KJ"
      },
      "source": [
        "### 21. Faça um programa que determine a data cronologicamente maior entre duas datas fornecidas pelo usuário. Cada data deve ser composta por três valores inteiros, em que o primeiro representa o dia, o segundo, o mês e o terceiro, o ano.\n",
        "\n",
        "  ```code\n",
        "  SE ano1 > ano2\n",
        "      ESCREVA “A maior data é: “,dia1,”-”,mes1,”-”,ano1\n",
        "  SENÃO SE ano2>ano1\n",
        "      ESCREVA “A maior data é: “,dia2,”-”,mes2,”-”,ano2\n",
        "  SENÃO SE mes1>mes2\n",
        "      ESCREVA “A maior data é: “,dia1,”-”,mes1,”-”,ano1\n",
        "  SENÃO SE mes2>mes1\n",
        "      ESCREVA “A maior data é: “,dia2, “-”,mes2,”-”,ano2\n",
        "  SENÃO SE dia1>dia2\n",
        "      ESCREVA “A maior data é: “-”,dia1,”-”,mia1,” -”,ano1\n",
        "  SENÃO SE dia2>dia1\n",
        "      ESCREVA “A maior data é: “,dia2,” -”,mes2,”-”,ano2\n",
        "  SENÃO\n",
        "      ESCREVA “As datas são iguais!”\n",
        "  ```"
      ]
    },
    {
      "cell_type": "code",
      "metadata": {
        "id": "Ayf2tlS1w-e7"
      },
      "source": [
        "dia1 = int(input(\"Digite um dia:\"))\n",
        "mes1 = int(input(\"digite um mês:\"))\n",
        "ano1 = int(input(\"Digite um ano:\"))\n",
        "dia2 = int(input(\"Digite o segundo dia:\"))\n",
        "mes2 = int(input(\"Digite o segundo mês:\"))\n",
        "ano2 = int(input(\"Digite o segundo ano:\"))\n",
        "\n",
        "if ano1 > ano2:\n",
        "    print(\"A maior data é:\", dia1, \"-\", mes1, \"-\", ano1)\n",
        "elif ano2 > ano1:\n",
        "    print(\"A maior data é:\", dia2, \"-\", mes2, \"-\", ano2)\n",
        "elif mes1 > mes2:\n",
        "    print(\"A maior data é:\", dia1, \"-\", mes1, \"-\", ano1)\n",
        "elif mes2 > mes1:\n",
        "    print(\"A maior data é:\", dia2, \"-\", mes2, \"-\", ano2)\n",
        "elif dia1 > dia2:\n",
        "    print(\"A maior data é:\", dia1, \"-\", mes1, \"-\", ano1)\n",
        "elif dia2 > dia1:\n",
        "    print(\"A maior data é:\", dia2, \"-\", mes2, \"-\", ano2)\n",
        "else:\n",
        "    print(\"As datas são iguais!\")"
      ],
      "execution_count": null,
      "outputs": []
    },
    {
      "cell_type": "markdown",
      "metadata": {
        "id": "cWnawYSbw-o9"
      },
      "source": [
        "### 22. Faça um programa que receba a hora do início de um jogo e a hora do término (cada hora é composta por duas variáveis inteiras: hora e minuto). Calcule e mostre a duração do jogo (horas e minutos), sabendo que o tempo máximo de duração do jogo é de 24 horas e que ele pode começar em um dia e terminar no dia seguinte.\n",
        "    SE min_inicial > min_f\n",
        "        minuto_final = minuto_final + 60\n",
        "        hora_final = hora_final – 1\n",
        "    SE hora_inicial > hora_final\n",
        "        hora_final = hora_final + 24\n",
        "    minuto_duracao = minuto_final - minuto_inicial\n",
        "    hora_duracao = hora_final - hora_inicial"
      ]
    },
    {
      "cell_type": "code",
      "metadata": {
        "id": "-Eq9yPDyxAvk",
        "colab": {
          "base_uri": "https://localhost:8080/"
        },
        "outputId": "e89a684a-cd0a-4e1a-8bbf-11ff6b6c0301"
      },
      "source": [
        "h_inicial = int(input(\"Digite a hora de início do jogo: \"))\n",
        "min_inicial = int(input(\"Digite o minuto de início do jogo: \"))\n",
        "h_final = int(input(\"Digite a hora de término do jogo: \"))\n",
        "min_final = int(input(\"Digite o minuto de término do jogo: \"))\n",
        "if min_inicial > min_final:\n",
        "    min_final = min_final + 60\n",
        "    h_final = h_final - 1\n",
        "if h_inicial > h_final:\n",
        "    h_final = h_final + 24\n",
        "minuto_duracao = min_final - min_inicial\n",
        "hora_duracao = h_final - h_inicial\n",
        "print(\"O tempo de duração do jogo foi de\", hora_duracao, \":\", minuto_duracao, \"horas\")"
      ],
      "execution_count": null,
      "outputs": [
        {
          "output_type": "stream",
          "name": "stdout",
          "text": [
            "Digite a hora de início do jogo: 3\n",
            "Digite o minuto de início do jogo: 45\n",
            "Digite a hora de término do jogo: 6\n",
            "Digite o minuto de término do jogo: 30\n",
            "O tempo de duração do jogo foi de 2 : 45 horas\n"
          ]
        }
      ]
    },
    {
      "cell_type": "markdown",
      "metadata": {
        "id": "eT4oGEI9xA42"
      },
      "source": [
        "### 23. Faça um programa que receba o código correspondente ao cargo de um funcionário e seu salário atual e mostre o cargo, o valor do aumento e seu novo salário. Os cargos estão na tabela a seguir.\n",
        "\n",
        "  |CÓDIGO|CARGO|PERCENTUAL|\n",
        "  |---|---|---|\n",
        "  |1|Escriturário|50%|\n",
        "  |2|Secretário|35%|\n",
        "  |3|Caixa|20%|\n",
        "  |4|Gerente|10%|\n",
        "  |5|Diretor|Não tem aumento|\n",
        "\n",
        "```code\n",
        "SE cargo == 1\n",
        "    ESCREVA “O cargo é Escriturário”\n",
        "    aumento = salario * 50 / 100\n",
        "    ESCREVA “O valor do aumento é: “, aumento\n",
        "    novo_sal = salario + aumento\n",
        "    ESCREVA “O novo salário é: “, novo_sal\n",
        "SENÃO SE cargo == 2\n",
        "    ESCREVA “O cargo é Secretário”\n",
        "    aumento = salario * 35 / 100\n",
        "    ESCREVA “O valor do aumento é: “, aumento\n",
        "    novo_sal = salario + aumento\n",
        "    ESCREVA “O novo salário é: “, novo_sal]\n",
        "SENÃO SE cargo == 3\n",
        "    ESCREVA “O cargo é Caixa”\n",
        "    aumento = salario * 20 / 100\n",
        "    ESCREVA “O valor do aumento é: “, aumento\n",
        "    novo_sal = salario + aumento\n",
        "    ESCREVA “O novo salário é: “,novo_sal\n",
        "SENÃO SE cargo == 4\n",
        "    ESCREVA “O cargo é Gerente”\n",
        "    aumento = salario * 10 / 100\n",
        "    ESCREVA “O valor do aumento é: “, aumento\n",
        "    novo_sal = salario + aumento\n",
        "    ESCREVA “O novo salário é: “, novo_sal\n",
        "SENÃO SE cargo == 5\n",
        "    ESCREVA “O cargo é Diretor”\n",
        "    aumento = salario * 0 / 100\n",
        "    ESCREVA “O valor do aumento é: “, aumento\n",
        "    novo_sal = salario + aumento\n",
        "    ESCREVA “O novo salário é: “, novo_sal\n",
        "```"
      ]
    },
    {
      "cell_type": "code",
      "metadata": {
        "id": "Akw301nvxDG0",
        "colab": {
          "base_uri": "https://localhost:8080/"
        },
        "outputId": "d17a48a8-e5e8-4496-c090-2d65bf1e926e"
      },
      "source": [
        "codigo = int(input(\"Digite seu código: \"))\n",
        "salario = float(input(\"Digite seu salário atual: \"))\n",
        "if codigo == 1:\n",
        "    print(\"O cargo é Escriturário.\")\n",
        "    aumento = salario * 0.5\n",
        "    print(\"O aumento salarial será de R$\", aumento)\n",
        "    novo_sal = salario + aumento\n",
        "    print(\"O novo salário será R$\", novo_sal)\n",
        "elif codigo == 2:\n",
        "    print(\"O cargo é Secretário.\")\n",
        "    aumento = salario * 0.35\n",
        "    print(\"O aumento salarial será de R$\", aumento)\n",
        "    novo_sal = salario + aumento\n",
        "    print(\"O novo salário será R$\", novo_sal)\n",
        "elif codigo == 3:\n",
        "    print(\"O cargo é Caixa.\")\n",
        "    aumento = salario * 0.2\n",
        "    print(\"O aumento salarial será de R$\", aumento)\n",
        "    novo_sal = salario + aumento\n",
        "    print(\"O nov salário será R$\", novo_sal)\n",
        "elif codigo == 4:\n",
        "    print(\"O cargo é Gerente.\")\n",
        "    aumento = salario * 0.1\n",
        "    print(\"O aumento salarial será de R$\", aumento)\n",
        "    novo_sal = salario + aumento\n",
        "    print(\"O novo salário será R$\", novo_sal)\n",
        "elif codigo == 5:\n",
        "    print(\"O cargo é Diretor.\")\n",
        "    print(\"Este cargo não tem percentual de aumento salarial\")"
      ],
      "execution_count": null,
      "outputs": [
        {
          "output_type": "stream",
          "name": "stdout",
          "text": [
            "Digite seu código: 1\n",
            "Digite seu salário atual: 2000\n",
            "O cargo é Escriturário.\n",
            "O aumento salarial será de R$ 1000.0\n",
            "O novo salário será R$ 3000.0\n"
          ]
        }
      ]
    },
    {
      "cell_type": "markdown",
      "metadata": {
        "id": "wKORNMrWxDQs"
      },
      "source": [
        "### 24. Faça um programa que apresente o menu a seguir, permita ao usuário escolher a opção desejada, receba os dados necessários para executar a operação e mostre o resultado. Verifique a possibilidade de opção inválida e não se preocupe com restrições, como salário negativo.\n",
        "\n",
        "    Menu de opções\n",
        "    1. Imposto\n",
        "    2. Novo salário\n",
        "    3. Classificação\n",
        "    Digite a opção desejada:\n",
        "\n",
        "*Na opção 1: receber o salário de um funcionário, calcular e mostrar o valor do imposto usando as regras a seguir.*\n",
        "\n",
        "  |SALÁRIO|PERCENTUAL DO IMPOSTO|\n",
        "  |---|---|\n",
        "  |Menor que  500,00|5%|\n",
        "  |De  500,00 (inclusive) a  850,00 (inclusive)|10%|\n",
        "  |Acima de  850,00|15%|\n",
        "\n",
        "*Na opção 2: receber o salário de um funcionário, calcular e mostrar o valor do novo salário, usando as regras a seguir.*\n",
        "\n",
        "  |SALÁRIO|AUMENTO|\n",
        "  |---|---|\n",
        "  |Maior que  1.500,00| 25,00|\n",
        "  |De  750,01 a  1.500,00 (inclusive)| 50,00|\n",
        "  |De  450,00 (inclusive) a  750,00| 75,00|\n",
        "  |Menor que  450,00| 100,00|\n",
        "\n",
        "*Na opção 3: receber o salário de um funcionário e mostrar sua classificação usando a tabela a seguir.*\n",
        "\n",
        "|SALÁRIO|CLASSIFICAÇÃO|\n",
        "|---|---|\n",
        "|Até  700,00 (inclusive)|Mal remunerado|\n",
        "|Maiores que  700,00|Bem remunerado|\n"
      ]
    },
    {
      "cell_type": "code",
      "metadata": {
        "id": "LsX6cPFdxFxe",
        "colab": {
          "base_uri": "https://localhost:8080/"
        },
        "outputId": "5924bc2e-478a-4087-bf91-3dfe5cb88da9"
      },
      "source": [
        "print(\"Menu de opções\")\n",
        "print(\"1. Imposto\")\n",
        "print(\"2. Novo salário\")\n",
        "print(\"3. Classificação\")\n",
        "opcao = int(input(\"Digite a opção desejada:\"))\n",
        "if opcao == 1:\n",
        "    salario = float(input(\"Digite seu salário: \"))\n",
        "    if salario < 500:\n",
        "        imposto = salario * 0.05\n",
        "        print(\"O valor do imposto é de R$\", imposto)\n",
        "    elif salario >= 500 and salario <= 850:\n",
        "        imposto2 = salario * 0.1\n",
        "        print(\"O valor do imposto é de R$\", imposto2)\n",
        "    elif salario > 850:\n",
        "        imposto3 = salario * 0.15\n",
        "        print(\"O valor do imposto será de R$\", imposto3)\n",
        "elif opcao == 2:\n",
        "    salario2 = float(input(\"Digite seu salário: \"))\n",
        "    if salario2 < 450:\n",
        "        nv_sal = salario2 + 100\n",
        "        print(\"O novo salário será R$\", nv_sal)\n",
        "    elif salario2 >= 450 and salario2 <= 750:\n",
        "        nv_sal2 = salario2 + 75\n",
        "        print(\"O novo salário será R$\", nv_sal2)\n",
        "    elif salario2 >= 750.01 and salario2 <= 1500:\n",
        "        nv_sal3 = salario2 + 50\n",
        "        print(\"O novo salário será R$\", nv_sal3)\n",
        "    elif salario2 > 1500:\n",
        "        nv_sal4 = salario2 + 25\n",
        "        print(\"O novo salário será R$\", nv_sal4)\n",
        "elif opcao == 3:\n",
        "    salario3 = float(input(\"Digite seu salário: \"))\n",
        "    if salario3 <= 700:\n",
        "        print(\"Mal remunerado\")\n",
        "    elif salario3 > 700:\n",
        "        print(\"Bem remunerado\")"
      ],
      "execution_count": null,
      "outputs": [
        {
          "output_type": "stream",
          "name": "stdout",
          "text": [
            "Menu de opções\n",
            "1. Imposto\n",
            "2. Novo salário\n",
            "3. Classificação\n",
            "Digite a opção desejada:3\n",
            "Digite seu salário: 1000\n",
            "Bem remunerado\n"
          ]
        }
      ]
    },
    {
      "cell_type": "markdown",
      "metadata": {
        "id": "pNlvJKW5xF6H"
      },
      "source": [
        "###25. Faça um programa que receba o salário inicial de um funcionário, calcule e mostre o novo salário, acrescido de bonificação e de auxílio escola.\n",
        "\n",
        "|SALÁRIO|BONIFICAÇÃO|\n",
        "|---|---|\n",
        "|Até  500,00|5% do salário|\n",
        "|Entre  500,01 e 1.200,00|12% do salário|\n",
        "|Acima de  1.200,00|Sem bonificação|\n",
        ">\n",
        "|SALÁRIO|AUXÍLIO ESCOLA|\n",
        "|---|---|\n",
        "|Até  600,00| 150,00|\n",
        "|Acima de  600,00| 100,00|\n",
        "\n",
        "novo_salario = salario + bonificacao + auxílio escola"
      ]
    },
    {
      "cell_type": "code",
      "metadata": {
        "id": "m2EJlS2IxIrf",
        "colab": {
          "base_uri": "https://localhost:8080/"
        },
        "outputId": "52363c1e-7d74-4e16-8dd8-fcaac8b64a33"
      },
      "source": [
        "salario = float(input(\"Digite seu salario: \"))\n",
        "if salario < 500:\n",
        "    bonificacao = salario * 0.05\n",
        "elif salario > 500.01 and salario <= 1200:\n",
        "    bonificacao = salario * 0.12\n",
        "elif salario > 1200:\n",
        "    bonificacao = 0\n",
        "\n",
        "if salario < 600:\n",
        "    aux = 150\n",
        "elif salario > 600:\n",
        "    aux = 100\n",
        "\n",
        "novo_sal = salario + bonificacao + aux\n",
        "\n",
        "print(f\"O novo salário será R$ {novo_sal:.2f}\")"
      ],
      "execution_count": null,
      "outputs": [
        {
          "output_type": "stream",
          "name": "stdout",
          "text": [
            "Digite seu salario: 1200\n",
            "O novo salário será R$ 1444.00\n"
          ]
        }
      ]
    },
    {
      "cell_type": "markdown",
      "metadata": {
        "id": "fA_TpNq4xI0h"
      },
      "source": [
        "### 26. Faça um programa que receba o valor do salário mínimo, o número de horas trabalhadas, o número de dependentes do funcionário e a quantidade de horas extras trabalhadas. Calcule e mostre o salário a receber do funcionário de acordo com as regras a seguir:\n",
        "\n",
        "  * O valor da hora trabalhada é igual a 1/5 do salário mínimo.\n",
        "  * O salário do mês é igual ao número de horas trabalhadas multiplicado pelo valor da hora trabalhada.\n",
        "  * Para cada dependente, acrescentar  32,00.\n",
        "  * Para cada hora extra trabalhada, calcular o valor da hora * trabalhada acrescida de 50%.\n",
        "  * O salário bruto é igual ao salário do mês mais o valor dos dependentes mais o valor das horas extras.\n",
        "  * Calcular o valor do impostoosto de renda retido na fonte de acordo com a tabela a seguir:\n",
        "\n",
        "|IRFF|SALÁRIO BRUTO|\n",
        "|---|---|\n",
        "|Isento|Inferior a  200,00|\n",
        "|10%|De  200,00 até 500,00|\n",
        "|20%|Superior a  500,00|\n",
        "\n",
        "  * O salário líquido é igual ao salário bruto menos IRRF.\n",
        "  * A gratificação é de acordo com a tabela a seguir:\n",
        "\n",
        "|SALÁRIO LÍQUIDO|GRATIFICAÇÃO|\n",
        "|---|---|\n",
        "|Até 350,00| 100,00|\n",
        "|Superior a  350| 50,00|\n",
        "\n",
        "  * O salário a receber do funcionário é igual ao salário líquido mais a gratificação.\n",
        "\n",
        "  ```code\n",
        "  LEIA salario_minimo, numero_horas_trabalhadas, numero_dependentes, numero_horas_extras\n",
        "  \n",
        "  valor_hora = 1/5 * salario_minimo\n",
        "  salario_mes = numero_horas_trabalhadas * valor_hora\n",
        "  valor_dependentes = 32 * numero_dependentes\n",
        "  valor_hora_extra = numero_horas_extras * (valor_hora + (valor_hora * 50/100))\n",
        "  salario_bruto =salario_mes + valor_dependentes + valor_hora_extra\n",
        "  \n",
        "  SE salario_bruto < 200\n",
        "        imposto = 0\n",
        "  SENÃO SE salario_bruto >= 200 E salario_bruto <= 500\n",
        "        imposto = salario_bruto * 10/100\n",
        "  SENÃO SE salario_bruto > 500\n",
        "        imposto = salario_bruto * 20/100\n",
        "  salario_liquido = salario_bruto – imposto\n",
        "  SE salario_liquido <= 350\n",
        "        gratificacao = 100\n",
        "  SENÃO\n",
        "        gratificacao = 50\n",
        "  salario_a_receber = salario_liquido + gratificacao\n",
        "  \n",
        "  ESCREVA salario_a_receber\n",
        "  ```"
      ]
    },
    {
      "cell_type": "code",
      "metadata": {
        "id": "3eECKlHfxLK5",
        "colab": {
          "base_uri": "https://localhost:8080/"
        },
        "outputId": "365a3172-32fa-48d4-d9bb-c81a6962a497"
      },
      "source": [
        "salario_min = float(input(\"Digite o valor do salário mínimo: \"))\n",
        "horas = float(input(\"Digite a quantidade de horas trabalhadas: \"))\n",
        "dependentes = int(input(\"Digite a quantidade de dependentes do funcionário: \"))\n",
        "hextra = float(input(\"Digite a quantidade de horas extras trabalhadas: \"))\n",
        "valor_h = salario_min / 5\n",
        "salario_mes = horas * valor_h\n",
        "valor_dependentes = 32\n",
        "valor_extra = hextra * (valor_h + (valor_h * 0.5))\n",
        "salario_bruto = salario_mes + valor_dependentes + valor_extra\n",
        "\n",
        "if salario < 200:\n",
        "    imposto = 0\n",
        "elif salario > 200 and salario <= 500:\n",
        "    imposto = salario_bruto * 0.1\n",
        "elif salario >500:\n",
        "    imposto = salario_bruto * 0.2\n",
        "\n",
        "salario_liquido = salario_bruto - imposto\n",
        "\n",
        "if salario_liquido <= 350:\n",
        "    gratificacao = 200\n",
        "elif salario_liquido > 350:\n",
        "    gratificacao = 50\n",
        "\n",
        "salario_a_receber = salario_liquido + gratificacao\n",
        "\n",
        "print(f\"O salário a receber é R$ {salario_a_receber:.2f}\")"
      ],
      "execution_count": null,
      "outputs": [
        {
          "output_type": "stream",
          "name": "stdout",
          "text": [
            "Digite o valor do salário mínimo: 1200\n",
            "Digite a quantidade de horas trabalhadas: 100\n",
            "Digite a quantidade de dependentes do funcionário: 1\n",
            "Digite a quantidade de horas extras trabalhadas: 20\n",
            "O salário a receber é R$ 25035.6\n"
          ]
        }
      ]
    },
    {
      "cell_type": "markdown",
      "metadata": {
        "id": "MuKRkPA9xLVE"
      },
      "source": [
        "### 27 Um supermercado deseja reajustar os preços de seus produtos usando o seguinte critério: o produto poderá ter seu preço aumentado ou diminuído. Para o preço ser alterado, o produto deve preencher pelo menos um dos requisitos a seguir:\n",
        "\n",
        "|VENDA MÉDIA MENSAL|PREÇO ATUAL|% DE AUMENTO|% DE DIMINUIÇÃO|\n",
        "|---|--|---|---|\n",
        "|< 500|<  30000|10|-|\n",
        "|\\>= 500 e <1200|\\>=  30.00 e <  80.00|15|-|\n",
        "|\\>= 1200|\\>=  80.00|-|20|\n",
        "\n",
        "* Faça um programa que receba o preço atual e a venda média mensal do produto, calcule e mostre o novo preço.\n",
        "\n",
        "```code\n",
        "LEIA preco_atual, media_mensal_vendas\n",
        "\n",
        "SE media_mensal_vendas < 500 OU preco_atual < 30\n",
        "    novo_preco = preco_atual + 10/100 * preco_atual\n",
        "SENÃO SE media_mensal_vendas >= 500 E media_mensal_vendas < 1200 OU preco_atual >= 30 E preco_atual<80\n",
        "    novo_preco = preco_atual + 15 / 100 * preco_atual\n",
        "SENÃO SE venda >= 1200 OU preco_atual >= 80\n",
        "    novo_preco = preco_atual – 20 / 100 * preco_atual\n",
        "      \n",
        "ESCREVA novo_preco\n",
        "```"
      ]
    },
    {
      "cell_type": "code",
      "metadata": {
        "id": "yzIzUTc7xNmr",
        "colab": {
          "base_uri": "https://localhost:8080/"
        },
        "outputId": "76247aeb-290d-4e62-fb33-080cb0c4d78b"
      },
      "source": [
        "media_mensal = float(input(\"Digite a média mensal: \"))\n",
        "preco_atual = float(input(\"Digite o preço atual do produto: \"))\n",
        "\n",
        "if media_mensal < 500 or preco_atual < 30:\n",
        "    novo_preco = preco_atual + (preco_atual * 0.1)\n",
        "elif (media_mensal >= 500 and media_mensal < 1200) or (preco_atual >= 30 and preco_atual < 80):\n",
        "    novo_preco = preco_atual + (preco_atual * 0.15)\n",
        "elif media_mensal >= 1200 or preco_atual >= 80:\n",
        "    novo_preco = preco_atual - (preco_atual * 0.2)\n",
        "\n",
        "print(f\"O novo preço do produto será R${novo_preco:.2f}\")"
      ],
      "execution_count": null,
      "outputs": [
        {
          "output_type": "stream",
          "name": "stdout",
          "text": [
            "Digite a média mensal: 1200\n",
            "Digite o preço atual do produto: 100\n",
            "O novo preço do produto será R$80.00\n"
          ]
        }
      ]
    },
    {
      "cell_type": "markdown",
      "metadata": {
        "id": "X-eT0SRdxNwk"
      },
      "source": [
        "### 28. Faça um programa para resolver equações do 2 o grau.\n",
        "\n",
        "**ax² + bx + c = 0**\n",
        "\n",
        "A variável *a* deve ser diferente de zero*\n",
        "\n",
        "  * delta = b ** 2 - 4 * a * c\n",
        "  * delta < 0.  **Não existe raiz real**\n",
        "  * delta = 0. **Existe uma raiz real**\n",
        "    * x = (-b) / (2 * a)\n",
        "  * delta > 0. **Existem duas raízes reais**\n",
        "    * x1 = -b + raiz(delta)/ (2 * a)\n",
        "    * x2 = -b  - raiz(delta)/ (2 * a)\n",
        "\n",
        "```code\n",
        "LEIA a, b, c\n",
        "SE a = 0\n",
        "    ESCREVA “Estes valores não formam uma equação de segundo grau”\n",
        "SENÃO\n",
        "    delta = (b * b) – ( 4 * a * c)\n",
        "    SE delta < 0\n",
        "        ESCREVA “Não existe raiz real”\n",
        "    SE delta = 0\n",
        "        ESCREVA “Existe uma raiz real”\n",
        "        x1 = (– b) / (2 * a)\n",
        "        ESCREVA x1\n",
        "    SE delta > 0\n",
        "        ESCREVA “Existem duas raízes reais”\n",
        "        x1 = (– b) + raiz(delta) / (2 * a)\n",
        "        x2 = (– b) - raiz(delta) / (2 * a)\n",
        "        ESCREVA(x1, x2)\n",
        "```"
      ]
    },
    {
      "cell_type": "code",
      "metadata": {
        "id": "DAhDbbkaxTAS",
        "colab": {
          "base_uri": "https://localhost:8080/"
        },
        "outputId": "27929254-1cc4-4aaf-e0a6-7d7446e946a5"
      },
      "source": [
        "a = int(input(\"Digite o valor de A: \"))\n",
        "b = int(input(\"Digite o valor de B: \"))\n",
        "c = int(input(\"Digite o valor de C: \"))\n",
        "\n",
        "if a == 0:\n",
        "    print(\"Estes valores não formam uma equação de segundo grau.\")\n",
        "else:\n",
        "    delta = (b * b) - (4 * a * c)\n",
        "    if delta < 0:\n",
        "        print(\"Não existe raiz real.\")\n",
        "    elif delta == 0:\n",
        "        x1 = (- b) / (2 * a)\n",
        "        print(\"Existe uma raiz real, x1=\", x1)\n",
        "    elif delta > 0:\n",
        "        x1 = (- b) + delta ** 0.5 / (2 * a)\n",
        "        x2 = (- b) - delta ** 0.5 / (2 * a)\n",
        "        print(\"Existem duas raizes reais, x1=\", x1, \"x2=\", x2)\n"
      ],
      "execution_count": null,
      "outputs": [
        {
          "output_type": "stream",
          "name": "stdout",
          "text": [
            "Digite o valor de A: 1\n",
            "Digite o valor de B: -1\n",
            "Digite o valor de C: -30\n",
            "Existem duas raizes reais, x1= 6.5 x2= -4.5\n"
          ]
        }
      ]
    },
    {
      "cell_type": "markdown",
      "metadata": {
        "id": "PrDtckwwxTK6"
      },
      "source": [
        "### 29. Dados três valores X, Y e Z, verifique se eles podem ser os comprimentos dos lados de um triângulo e, se forem, verifique se é um triângulo equilátero, isósceles ou escaleno. Se eles não formarem um triângulo, escreva uma mensagem.\n",
        "Considere que:\n",
        "* o comprimento de cada lado de um triângulo é menor que a soma dos outros dois lados;\n",
        "* chama-se equilátero o triângulo que tem três lados iguais;\n",
        "* denomina-se isósceles o triângulo que tem o comprimento de dois lados iguais;\n",
        "* recebe o nome de escaleno o triângulo que tem os três lados diferentes.\n",
        "\n",
        "```code\n",
        "LEIA x, y, z\n",
        "SE x < y + z E y < x + z E z < x + y\n",
        "    SE x = y E y = z\n",
        "        ESCREVA “Triângulo Equilátero”\n",
        "    SENÃO SE x = y OU x = z OU y = z\n",
        "        ESCREVA “Triângulo Isósceles”\n",
        "    SENÃO SE x ≠ y E x ≠ z E y ≠ z\n",
        "        ESCREVA “Triângulo Escaleno”\n",
        "SENÃO\n",
        "    ESCREVA “Essas medidas não formam um triângulo”\n",
        "```"
      ]
    },
    {
      "cell_type": "code",
      "metadata": {
        "id": "72Ljhi6lxyco",
        "colab": {
          "base_uri": "https://localhost:8080/"
        },
        "outputId": "aeda9c30-25b8-4b6c-a370-1481ea7fe4d1"
      },
      "source": [
        "x = float(input(\"Digite o valor de x: \"))\n",
        "y = float(input(\"Digite o valor de y: \"))\n",
        "z = float(input(\"Digite o valor de z: \"))\n",
        "if x < y + z and y < x + z and z < x + y:\n",
        "    if x == y and y == z:\n",
        "        print(\"Triângulo equilátero.\")\n",
        "    elif x == y or x == z or y == z:\n",
        "        print(\"Triângulo isósceles.\")\n",
        "    elif x != y and x != z and y != z:\n",
        "        print(\"Triângulo escaleno.\")\n",
        "else:\n",
        "    print(\"Essas medidas não formam um triângulo.\")"
      ],
      "execution_count": null,
      "outputs": [
        {
          "output_type": "stream",
          "name": "stdout",
          "text": [
            "Digite o valor de x: 2\n",
            "Digite o valor de y: 55\n",
            "Digite o valor de z: 6\n",
            "Essas medidas não formam um triângulo.\n"
          ]
        }
      ]
    },
    {
      "cell_type": "markdown",
      "metadata": {
        "id": "mCpnRwCvxymh"
      },
      "source": [
        "### 30. Faça um programa que receba a altura e peso de uma pessoa. De acordo com a tabela a seguir, verifique e mostre a classificação dessa pessoa.\n",
        "\n",
        "|ALTURA|ATÉ 60|ENTRE 60 E 90 (INCLUSIVE)|ACIMA DE 90|\n",
        "|---|---|---|---|\n",
        "|Menores que 1,20|A|D|G|\n",
        "|De 1,20 a 1,70|B|E|H|\n",
        "|Maiores que 1,70|C|F|I|\n",
        "\n",
        "```code\n",
        "LEIA altura, peso\n",
        "SE altura < 1.20\n",
        "    SE peso <= 60\n",
        "        ESCREVA “A”\n",
        "    SENÃO SE peso > 60 E peso <= 90\n",
        "        ESCREVA “D”\n",
        "    SENÃO SE peso > 90\n",
        "        ESCREVA “G”\n",
        "SENÃO SE altura >= 1.20 E altura <= 1.70\n",
        "    SE peso <= 60\n",
        "        ESCREVA “B”\n",
        "    SENÃO SE peso > 60 E peso <= 90\n",
        "        ESCREVA “E”\n",
        "    SENÃO SE peso > 90\n",
        "        ESCREVA “H”\n",
        "SENÃO SE altura > 1.70\n",
        "    SE peso <= 60\n",
        "        ESCREVA “C”\n",
        "    SENÃO SE peso > 60 E peso <= 90\n",
        "        EESCREVA “F”\n",
        "    SENÃO SE peso > 90\n",
        "        ESCREVA “I”\n",
        "```"
      ]
    },
    {
      "cell_type": "code",
      "metadata": {
        "id": "SXLzbTf6x4pi",
        "colab": {
          "base_uri": "https://localhost:8080/"
        },
        "outputId": "845093db-fa0d-4691-d8dc-c4c70396014a"
      },
      "source": [
        "h = float(input(\"Digite sua altura: \"))\n",
        "peso = float(input(\"Digite seu peso: \"))\n",
        "if h < 1.20:\n",
        "    if peso <= 60:\n",
        "        print(\"A\")\n",
        "    elif peso > 60 and peso <= 90:\n",
        "        print(\"D\")\n",
        "    elif peso > 90:\n",
        "        print(\"G\")\n",
        "elif h >= 1.20 and h <= 1.70:\n",
        "    if peso <= 60:\n",
        "        print(\"B\")\n",
        "    elif peso > 60 and peso <= 90:\n",
        "        print(\"E\")\n",
        "    elif peso > 90:\n",
        "        print(\"H\")\n",
        "elif h > 1.70:\n",
        "    if peso <= 60:\n",
        "        print(\"C\")\n",
        "    elif peso > 60 and peso <= 90:\n",
        "        print(\"F\")\n",
        "    elif peso > 90:\n",
        "        print(\"I\")"
      ],
      "execution_count": null,
      "outputs": [
        {
          "output_type": "stream",
          "name": "stdout",
          "text": [
            "Digite sua altura: 1.73\n",
            "Digite seu peso: 55\n",
            "C\n"
          ]
        }
      ]
    },
    {
      "cell_type": "markdown",
      "metadata": {
        "id": "ydBS_HyAx40L"
      },
      "source": [
        "### 31. Faça um programa que receba:\n",
        "\n",
        "* O código de um produto comprado, supondo que a digitação do código do produto seja sempre válida, isto é, um número * inteiro entre 1 e 10.\n",
        "* O peso do produto em quilos.\n",
        "* O código do país de origem, supondo que a digitação do  código seja sempre válida, isto é, um número inteiro entre 1 e 3.\n",
        "\n",
        "|CÓDIGO DO PAÍS DE ORIGEM|IMPOSTO|\n",
        "|---|---|\n",
        "|1|0%|\n",
        "|2|15%|\n",
        "|3|25%|\n",
        "\n",
        "|CÓDIGO DO PAÍS DO PRODUTO|PREÇO POR GRAMA|\n",
        "|---|---|\n",
        "|1 a 4|10|\n",
        "|5 a 7|25|\n",
        "|8 a 10|35|\n",
        "\n",
        "Calcule e mostre:\n",
        "* o peso do produto convertido em gramas;\n",
        "* o preço total do produto comprado;\n",
        "* valor do imposto, sabendo que ele é cobrado sobre o * preço total do produto comprado e dependendo país de origem;\n",
        "* o valor total, preço total do produto mais imposto.\n",
        "\n",
        "```code\n",
        "LEIA codigo_produto, peso_quilos, codigo_pais\n",
        "peso_em_gramas = peso_quilos * 1000\n",
        "ESCREVA peso_em_gramas\n",
        "SE codigo_produto >= 1 E codigo_produto <= 4\n",
        "   preco_por_grama = 10\n",
        "SENÃO SE codigo_produto >= 5 E codigo_produto <= 7\n",
        "   preco_por_grama = 25\n",
        "SENÃO SE codigo_produto >= 8 E codigo_produto <= 10\n",
        "   preco_por_grama = 35    \n",
        "preco_total = peso_em_gramas *preco_por_grama\n",
        "ESCREVA preco_total\n",
        "SE codigo_pais = 1\n",
        "    imposto = 0\n",
        "SENÃO SE codigo_pais = 2\n",
        "    imposto = preco_total * 15/100\n",
        "SENÃO SE codigo_pais = 3\n",
        "    imposto = preco_total * 25/100    \n",
        "ESCREVA imposto\n",
        "valor_total = preco_total + imposto\n",
        "ESCREVA valor_total\n",
        "```"
      ]
    },
    {
      "cell_type": "code",
      "metadata": {
        "id": "hZvxJNadx7dp",
        "colab": {
          "base_uri": "https://localhost:8080/"
        },
        "outputId": "0e574b68-b8e2-467a-8bd3-5b3b372abe0a"
      },
      "source": [
        "codigo_produto = int(input(\"Digite o código do produto: \"))\n",
        "peso = float(input(\"Digite o peso do produto (KG): \"))\n",
        "codigo_pais = int(input(\"Digite o código do país: \"))\n",
        "\n",
        "peso_gramas = peso * 1000\n",
        "print(f\"Peso em gramas = {peso_gramas:.2f}\")\n",
        "\n",
        "if codigo_produto >= 1 and codigo_produto <=4:\n",
        "    preco = 10\n",
        "elif codigo_produto >= 5 and codigo_produto <= 7:\n",
        "    preco = 25\n",
        "elif codigo_produto >= 8 and codigo_produto <= 10:\n",
        "    preco = 35\n",
        "preco_total = preco * peso_gramas\n",
        "print(f\"O preço do produto é R${preco_total:.2f}\")\n",
        "\n",
        "if codigo_pais == 1:\n",
        "    imposto = 0\n",
        "elif codigo_pais == 2:\n",
        "    imposto = preco * 0.15\n",
        "elif codigo_pais == 3:\n",
        "    imposto = preco * 0.25\n",
        "print(f\"O valor do imposto é R${imposto:.2f}\")\n",
        "\n",
        "valor_total = preco_total + imposto\n",
        "print(f\"O valor total do produto é R${valor_total:.2f}\")"
      ],
      "execution_count": null,
      "outputs": [
        {
          "output_type": "stream",
          "name": "stdout",
          "text": [
            "Digite o código do produto: 5\n",
            "Digite o peso do produto (KG): 3\n",
            "Digite o código do país: 1\n",
            "Peso em gramas = 3000.00\n",
            "O preço do produto é R$75000.00\n",
            "O valor do imposto é R$0.00\n",
            "O valor total do produto é R$75000.00\n"
          ]
        }
      ]
    },
    {
      "cell_type": "markdown",
      "metadata": {
        "id": "XyWancSmx7l5"
      },
      "source": [
        "### 32. Faça um programa que receba:\n",
        "* o código do estado de origem da carga de um caminhão, supondo que a digitação do código do estado seja sempre válida, isto é, um número inteiro entre 1 e 5;\n",
        "* o peso da carga do caminhão em toneladas;\n",
        "* o código da carga, supondo que a digitação do código seja sempre válida, isto é, um número inteiro entre 10 e 40.\n",
        "\n",
        "| CÓDIGO DO ESTADO| IMPOSTO|\n",
        "|---|---|\n",
        "|1|35%|\n",
        "|2|25%|\n",
        "|3|15%|\n",
        "|4|5%|\n",
        "|5|Isento|\n",
        ">\n",
        "CÓDIGO DA CARGA|PREÇO POR QUILO\n",
        "---|---\n",
        "10 a 20|100\n",
        "21 a 30|250\n",
        "31 a 40|400\n",
        "\n",
        "Calcule e mostre:\n",
        "* o peso da carga do caminhão convertido em quilos;\n",
        "* o preço da carga do caminhão;\n",
        "* o valor do imposto, sabendo que o imposto é cobrado sobre o preço da carga do caminhão e depende do estado de origem;\n",
        "* o valor total transportado pelo caminhão, preço da carga mais imposto.\n",
        "\n",
        "```\n",
        "LEIA codigo_estado, peso_em_toneladas, codigo_carga\n",
        "peso_em_quilos = peso_em_toneladas * 1000\n",
        "ESCREVA peso_em_quilos\n",
        "SE codigo_carga >= 10 E codigo_carga <= 20\n",
        "    preco_da_carga = 100 * peso_em_quilos\n",
        "SENÃO SE codigo_carga >= 21 E codigo_carga <= 30\n",
        "    preco_da_carga = 250 * peso_em_quilos\n",
        "SENÃO SE codigo_carga >= 31 E codigo_carga <= 40\n",
        "    preco_da_carga = 340 * peso_em_quilos   \n",
        "ESCREVA preco_da_carga\n",
        "SE codigo_estado = 1\n",
        "    imposto = 35/100 * preco_da_carga\n",
        "SENÃO SE codigo_estado = 2\n",
        "    imposto = 25/100 * preco_da_carga\n",
        "SENÃO SE codigo_estado = 3\n",
        "    imposto = 15/100 * preco_ds_carga\n",
        "SENÃO SE codigo_estado = 4\n",
        "    imposto = 5/100 * preco_da_carga\n",
        "SENÃO SE codigo_estado = 5\n",
        "    imposto = 0\n",
        "ESCREVA imposto\n",
        "valor_total = preco_da_carga + imposto\n",
        "ESCREVA valor_total\n",
        "```"
      ]
    },
    {
      "cell_type": "code",
      "metadata": {
        "id": "JCjrCJ9Gx8X3",
        "colab": {
          "base_uri": "https://localhost:8080/"
        },
        "outputId": "ef0fad25-3b9d-4351-f276-590a68349a2e"
      },
      "source": [
        "codigo_estado = int(input(\"Digite o código do estado: \"))\n",
        "peso_carga = float(input(\"Digite o peso da carga em toneladas: \"))\n",
        "codigo_carga = int(input(\"Digite o código da carga: \"))\n",
        "\n",
        "peso_quilos = peso_carga * 1000\n",
        "print(f\"O peso da carga em quilos é {peso_quilos:.2f}\")\n",
        "\n",
        "if codigo_carga >= 10 and codigo_carga <= 20:\n",
        "    preco_carga = peso_quilos * 100\n",
        "elif codigo_carga >= 21 and codigo_carga <= 30:\n",
        "    preco_carga = peso_quilos * 250\n",
        "elif codigo_carga >= 31 and codigo_carga <= 40:\n",
        "    preco_carga = peso_quilos * 400\n",
        "print(f\"o preço da carga é R${preco_carga:.2f}\")\n",
        "\n",
        "if codigo_estado == 1:\n",
        "    imposto = preco_carga * 0.35\n",
        "elif codigo_estado == 2:\n",
        "    imposto = preco_carga * 0.25\n",
        "elif codigo_estado == 3:\n",
        "    imposto = preco_carga * 0.15\n",
        "elif codigo_estado == 4:\n",
        "    imposto = preco_carga * 0.05\n",
        "elif codigo_estado == 5:\n",
        "    imposto = 0\n",
        "print(f\"O valor do imposto será R${imposto:.2f}\")\n",
        "\n",
        "valor_total = preco_carga + imposto\n",
        "print(f\"O valor total transportado é R${valor_total:.2f}\")"
      ],
      "execution_count": null,
      "outputs": [
        {
          "output_type": "stream",
          "name": "stdout",
          "text": [
            "Digite o código do estado: 3\n",
            "Digite o peso da carga em toneladas: 3\n",
            "Digite o código da carga: 20\n",
            "O peso da carga em quilos é 3000.00\n",
            "o preço da carga é R$300000.00\n",
            "O valor do imposto será R$45000.00\n",
            "O valor total transportado é R$345000.00\n"
          ]
        }
      ]
    },
    {
      "cell_type": "markdown",
      "metadata": {
        "id": "bBmw7JBQx8iH"
      },
      "source": [
        "### 33. Faça um programa que receba o salário base e o tempo de serviço de um funcionário. Calcule e mostre:\n",
        "* O imposto, conforme a tabela a seguir.\n",
        "\n",
        "|SALÁRIO BASE|% SOBRE O SALÁRIO BASE|\n",
        "|---|---|\n",
        "|< 200|isento|\n",
        "|>= 250 E <= 450|3%|\n",
        "|>  450 E < 700|8%|\n",
        "|>=  700|12%|\n",
        "\n",
        "* A gratificação, de acordo com a tabela a seguir.\n",
        "\n",
        "SALÁRIO BASE R$|TEMPO DE SERVIÇO|GRATIFICAÇÃO\n",
        "---|---|---\n",
        "Superior a 500,00|Até 3 anos|20\n",
        " | Mais de 3 anos|30\n",
        "  --------------------------|---------|--------------\n",
        "Até 500,00|Até 3 anos|23\n",
        "|Entre 3 e 6 anos|35\n",
        "|Acima de 6 anos|33\n",
        "\n",
        "* O salário líquido, ou seja, salário base menos imposto mais gratificação.\n",
        "* A categoria, que está na tabela a seguir.\n",
        "\n",
        "```\n",
        "LEIA salario_base, tempo\n",
        "\n",
        "SE salario_base < 200\n",
        "    imposto = 0\n",
        "SENÃO SE salario_base <= 450\n",
        "    imposto = 3/100 * salario_base\n",
        "SENÃO SE sal_base < 700\n",
        "    imposto = 8/100 * salario_base\n",
        "SENÃO\n",
        "    imposto = 12/100 * salario_base\n",
        "ESCREVA imposto\n",
        "SE salario_base > 500\n",
        "    SE tempo <= 3\n",
        "         gratificacao = 20\n",
        "    SENÃO\n",
        "        gratificacao = 30\n",
        "SENÃO\n",
        "    SE tempo <= 3\n",
        "        gratificacao = 23\n",
        "    SENÃO SE tempo < 6\n",
        "        gratificacao = 35\n",
        "    SENÃO gratificacao = 33\n",
        "ESCREVA gratificacao\n",
        "salario_liquido = salario_base – imposto + gratificacao\n",
        "ESCREVA salario_liqquido\n",
        "SE salario_liquido <= 350\n",
        "    ESCREVA “Classificação A”\n",
        "SENÃO SE salario_liqquido < 600\n",
        "    ESCREVA “Classificação B”\n",
        "SENÃO\n",
        "    ESCREVA “Classificação C”\n",
        "```"
      ]
    },
    {
      "cell_type": "code",
      "metadata": {
        "id": "xhj04HVix_LL",
        "colab": {
          "base_uri": "https://localhost:8080/"
        },
        "outputId": "9a64f1d5-97a6-49af-81f9-4f53022ebfd8"
      },
      "source": [
        "salario_base = float(input(\"Digite seu salário base: \"))\n",
        "tempo = float(input(\"Digite o tempo de serviço em anos: \"))\n",
        "\n",
        "if salario_base < 200:\n",
        "    imposto = 0\n",
        "elif salario_base >= 250 and salario_base <= 450:\n",
        "    imposto = salario_base * 0.03\n",
        "elif salario_base > 450 and salario_base < 700:\n",
        "    imposto = salario_base * 0.08\n",
        "elif salario_base >= 700:\n",
        "    imposto = salario_base * 0.12\n",
        "print(f\"O valor do imposto é R${imposto:.2f}\")\n",
        "\n",
        "if salario_base > 500:\n",
        "    if tempo <= 3:\n",
        "        gratificacao = 20\n",
        "    elif tempo > 3:\n",
        "        gratificacao = 30\n",
        "elif salario_base <= 500:\n",
        "    if tempo <= 3:\n",
        "        gratificacao = 23\n",
        "    elif tempo > 3 and tempo <= 6:\n",
        "        gratificacao = 35\n",
        "    elif tempo > 6:\n",
        "        gratificacao = 33\n",
        "print(\"Gratificação =\", gratificacao)\n",
        "\n",
        "salario_liquido = salario_base - imposto + gratificacao\n",
        "print(f\"O salário líquido é R${salario_liquido:.2f}\")\n",
        "\n",
        "if salario_liquido <= 350:\n",
        "    print(\"Classificação A\")\n",
        "elif salario_liquido < 600:\n",
        "    print(\"Classificação B\")\n",
        "else:\n",
        "    print(\"Classificação C\")"
      ],
      "execution_count": null,
      "outputs": [
        {
          "output_type": "stream",
          "name": "stdout",
          "text": [
            "Digite seu salário base: 3000\n",
            "Digite o tempo de serviço em anos: 4\n",
            "O valor do imposto é R$360.00\n",
            "Gratificação = 30\n",
            "O salário líquido é R$2670.00\n",
            "Classificação C\n"
          ]
        }
      ]
    },
    {
      "cell_type": "markdown",
      "metadata": {
        "id": "HdSARhTlx_VV"
      },
      "source": [
        "### 34. Faça um programa que:\n",
        "* receba o valor do salário mínimo,\n",
        "* o turno de trabalho (M — matutino; V — vespertino; ou N — noturno),\n",
        "* a categoria (O — operário; G — gerente)\n",
        "* número de horas trabalhadas no mês de um funcionário.\n",
        "\n",
        "*Suponha a digitação apenas de dados válidos e, quando houver digitação de letras, utilize maiúsculas.*\n",
        "\n",
        "**Calcule e mostre:**\n",
        "\n",
        "* O coeficiente do salário, de acordo com a tabela a seguir.\n",
        "\n",
        "TURNO DE TRABALHO|VALOR DO COEFICIENTE\n",
        "---|---\n",
        "M - Matutino|10% do salário mínimo\n",
        "V - Vespertino|15% do salário mínimo\n",
        "N - Noturno|20% do salário mínimo\n",
        "\n",
        "* O valor do salário bruto, ou seja, o número de horas trabalhadas multiplicado pelo valor do coeficiente do salário.\n",
        "\n",
        "* O imposto, de acordo com a tabela a seguir.\n",
        "\n",
        "CATEGORIA| SALÁRIO BRUTO|IMPOSTO SOBRE O SALÁRIO BRUTO\n",
        "---|---|---\n",
        "O - Operário|>= 300,00|5%\n",
        "O - Operário|< 300,00|3%\n",
        "G - Gerente|>= 300,00|6%\n",
        "G - Gerente|< 300,00|4%\n",
        "\n",
        "* A gratificação, de acordo com as regras a seguir. Se o funcionário preencher todos os requisitos a seguir, sua gratificação será de 50,00; caso contrário, será de 30,00. Os requisitos são:\n",
        " * Turno: Noturno\n",
        "  * Número de horas trabalhadas: Superior a 80 horas\n",
        "  * O auxílio alimentação, de acordo com as seguintes regras.\n",
        "* Auxilio alimentação, um terço do seu salário bruto; caso contrário, será de metade do seu salário bruto. Os requisitos são:\n",
        "  * Se o funcionário preencher algum dos requisitos a seguir, seu auxílio alimentação será de\n",
        "  * Categoria: Operário\n",
        "  * Coeficiente do salário: < = 25\n",
        "* O salário líquido, ou seja, salário bruto menos imposto mais gratificação mais auxílio alimentação.\n",
        "* A classificação, de acordo com a tabela a seguir:\n",
        "\n",
        "SALÁRIO LÍQUIDO|MENSAGEM\n",
        "---|---\n",
        "Menor que 350,00|Mal remunerado\n",
        "Entre 350 e 600,00|Normal\n",
        "Maior que 600,00|Bem remunerado\n",
        "\n",
        "```\n",
        "LEIA salario_minino, turno, categoria, numero_de_horas_trabalhadas\n",
        "SE turno = “M”\n",
        "     coeficiente = 10/100 * salario_minino\n",
        "SENÃO SE turno = “V”\n",
        "     coeficiente = 15/100 * salario_minino\n",
        "SENÃO SE turno = “N”\n",
        "     coeficiente = 12/100 * salario_minino\n",
        "     \n",
        "ESCREVA coeficiente\n",
        "\n",
        "salario_bruto = numero_de_horas_trabalhadas * coeficiente\n",
        "\n",
        "ESCREVA salario_bruto\n",
        "\n",
        "SE categoria = “O”\n",
        "    SE sal_bruto >= 300\n",
        "        imposto = 5/100 * sal_bruto\n",
        "    SENÃO\n",
        "        imposto = 3/100 * sal_bruto\n",
        "SENÃO\n",
        "    SE salario_bruto >= 400\n",
        "        imposto = 6/100 * salario_bruto\n",
        "    SENÃO\n",
        "         imposto = 4/100 * salario_bruto\n",
        "         \n",
        "ESCREVA imposto\n",
        "\n",
        "SE turno = “N” E numero_de_horas_trabalhadas > 80\n",
        "    gratificacao = 50\n",
        "SENÃO\n",
        "    gratificacao = 30\n",
        "    \n",
        "ESCREVA gratificacao\n",
        "\n",
        "SE categoria = “O” OU coeficiente <= 25\n",
        "    auxilio = 1/3 * salario_bruto\n",
        "SENÃO\n",
        "    auxilio = 1/2 * salario_bruto\n",
        "    \n",
        "ESCREVA auxilio\n",
        "\n",
        "salario_liquido = salario_bruto – imposto + gratificacao + auxilio\n",
        "\n",
        "ESCREVA salario_liquido\n",
        "\n",
        "SE salario_liquido < 350\n",
        "     ESCREVA “Mal Remunerado”\n",
        "SENÃO SE salario_liquido >= 350 E salario_liqquido <= 600\n",
        "     ESCREVA “Normal”\n",
        "SENÃO SE salario_liquido > 600\n",
        "     ESCREVA “Bem Remunerado”\n",
        "```"
      ]
    },
    {
      "cell_type": "code",
      "metadata": {
        "id": "RxtqQbAIyC54",
        "colab": {
          "base_uri": "https://localhost:8080/"
        },
        "outputId": "b34f82d5-4628-4612-f791-9f2206f3a7e5"
      },
      "source": [
        "salario_min = float(input(\"Digite o salário  mínimo: \"))\n",
        "turno = str(input(\"Digite o turno de trabalho (M/V/N): \"))\n",
        "categoria = str(input(\"Digite sua categoria (O/G): \"))\n",
        "horas_mes = float(input(\"Digite a quantidade de horas trabalhadas no mês: \"))\n",
        "\n",
        "if turno == \"M\":\n",
        "    coeficiente = salario_min * 0.1\n",
        "elif turno == \"V\":\n",
        "    coeficiente = salario_min * 0.15\n",
        "elif turno == \"N\":\n",
        "    coeficiente = salario_min * 0.2\n",
        "print(f\"Coeficiente = R${coeficiente:.2f}\")\n",
        "\n",
        "salario_bruto = horas_mes * coeficiente\n",
        "print(f\"Salário bruto = R${salario_bruto:.2f}\")\n",
        "\n",
        "if categoria == \"O\":\n",
        "    if salario_bruto < 300:\n",
        "        imposto = salario_bruto * 0.03\n",
        "    elif salario_bruto >= 300:\n",
        "        imposto = salario_bruto * 0.05\n",
        "elif categoria == \"G\":\n",
        "    if salario_bruto < 300:\n",
        "        imposto = salario_bruto * 0.04\n",
        "    elif salario_bruto >= 300:\n",
        "        imposto = salario_bruto * 0.06\n",
        "print(f\"Imposto = R${imposto:.2f}\")\n",
        "\n",
        "if turno == \"N\" and horas_mes > 80:\n",
        "    gratificacao = 50\n",
        "else:\n",
        "    gratificacao = 30\n",
        "print(f\"Gratificação = R${gratificacao:.2f}\")\n",
        "\n",
        "if categoria == \"O\" or coeficiente <= 25:\n",
        "    auxilio = 1/3 * salario_bruto\n",
        "else:\n",
        "    auxilio = 1/2 * salario_bruto\n",
        "print(f\"Auxílio = R${auxilio:.2f}\")\n",
        "\n",
        "salario_liquido = salario_bruto - imposto + gratificacao + auxilio\n",
        "print(f\"Salário líquido = R${salario_liquido:.2f}\")\n",
        "\n",
        "if salario_liquido < 350:\n",
        "    print(\"Mal remunerado\")\n",
        "elif salario_liquido >= 350 and salario_liquido <= 600:\n",
        "    print(\"Normal\")\n",
        "elif salario_liquido > 600:\n",
        "    print(\"Bem remunerado\")"
      ],
      "execution_count": null,
      "outputs": [
        {
          "output_type": "stream",
          "name": "stdout",
          "text": [
            "Digite o salário  mínimo: 1200\n",
            "Digite o turno de trabalho (M/V/N): M\n",
            "Digite sua categoria (O/G): O\n",
            "Digite a quantidade de horas trabalhadas no mês: 90\n",
            "Coeficiente = R$120.00\n",
            "Salário bruto = R$10800.00\n",
            "Imposto = R$540.00\n",
            "Gratificação = R$30.00\n",
            "Auxílio = R$3600.00\n",
            "Salário líquido = R$13890.00\n",
            "Bem remunerado\n"
          ]
        }
      ]
    },
    {
      "cell_type": "markdown",
      "metadata": {
        "id": "c2dARliMyDDG"
      },
      "source": [
        "### 35. Faça um programa que receba de um produto:\n",
        "* o preço\n",
        "* o tipo (A — alimentação; L — limpeza; e V — vestuário)\n",
        "* a refrigeração (S — produto que necessita de refrigeração; e N — produto que não necessita de refrigeração) .\n",
        "\n",
        "**Suponha que haverá apenas a digitação de dados válidos e, quando houver digitação de letras, utilize maiúsculas. Calcule e mostre:**\n",
        "\n",
        "* O valor adicional, de acordo com a tabela a seguir:\n",
        "\n",
        "REFRIGERAÇÃO|TIPO|PREÇO|VALOR ADICIONAL\n",
        "---|---|---|---\n",
        "N|A|<  15,00|2,00|\n",
        " | |>= 15,00|5,00|\n",
        " |---------|--------------|-------------------------------\n",
        " |L|< 10,00|1,50\n",
        " | |>= 10,00|2,50\n",
        "  |---------|--------------|-------------------------------\n",
        " |V|< 30,00|3,00\n",
        " ||>= 30,00|2,50\n",
        "  --------------------------|---------|--------------|-------------------------------\n",
        "S|A||8,00\n",
        "|L||0,00\n",
        "|V||0,00\n",
        "\n",
        "* O valor do imposto, de acordo com a regra a seguir.\n",
        "\n",
        "PREÇO|PERCENTUAL SOBRE O PREÇO\n",
        "---|---\n",
        "< 25,00|5%\n",
        ">= 25,00|8%\n",
        "\n",
        "O preço de custo, ou seja, preço mais imposto.\n",
        "O desconto, de acordo com a regra a seguir.\n",
        "\n",
        "O produto que não preencher nenhum dos requisitos a seguir terá desconto de 3%, caso contrário, 0 (zero). Os requisitos são:\n",
        "* Tipo: A\n",
        "* Refrigeração: S\n",
        "\n",
        "* O novo preço, ou seja, preço de custo mais adicional menos desconto.\n",
        "* A classificação, de acordo com a regra a seguir.\n",
        "\n",
        "NOVO PREÇO|CLASSIFICAÇÃO\n",
        "---|---\n",
        "<= 50,00|Barato\n",
        "Entre 50,01 e 100,00|Normal\n",
        ">= 100,00|Caro\n",
        "\n",
        "\n",
        "```\n",
        "LEIA pre, tipo, refrig\n",
        "SE refrig = “N”\n",
        "    SE tipo = “A”\n",
        "        SE pre < 15\n",
        "           valor_adic = 2\n",
        "        SENÃO\n",
        "           valor_adic = 5\n",
        "    SE tipo = “L”\n",
        "        SE pre < 10\n",
        "           valor_adic = 1.5\n",
        "        SENÃO\n",
        "           valor_adic = 2.5\n",
        "    SE tipo = “V”\n",
        "        SE pre < 30\n",
        "           valor_adic = 3\n",
        "        SENÃO\n",
        "           valor_adic = 2.5\n",
        "SENÃO SE tipo = “A”\n",
        "    valor_adic = 8\n",
        "    SE tipo = “L”\n",
        "        valor_adic = 0\n",
        "    SE tipo = “V”\n",
        "        valor_adic = 0\n",
        "ESCREVA valor_adic\n",
        "SE pre < 25\n",
        "    imposto = 5/100 * pré\n",
        "SENÃO\n",
        "    imposto = 8/100 * pre\n",
        "ESCREVA imposto\n",
        "pre_custo = pre + imposto\n",
        "ESCREVA pre_custo\n",
        "SE tipo != “A” E refrig != “S”\n",
        "  desconto = 3/100 * pre_custo\n",
        "SENÃO\n",
        "  desconto = 0\n",
        "ESCREVA desconto\n",
        "novo_pre = pre_custo + valor_adic – desconto\n",
        "ESCREVA novo_pre\n",
        "SE novo_pre <= 50\n",
        "    ESCREVA “Barato”\n",
        "SENÃO SE novo_pre < 100\n",
        "    ESCREVA “Normal”\n",
        "SENÃO\n",
        "    ESCREVA “Caro”\n"
      ]
    },
    {
      "cell_type": "code",
      "metadata": {
        "id": "2MKheAJMyGc5"
      },
      "source": [
        "preco = float(input(\"Digite o preço do produto: \"))\n",
        "tipo = str(input(\"Digite o tipo do produto (A/L/V): \"))\n",
        "refrigeracao = str(input(\"Digite se o produto necessita refrigeração (S/N): \"))\n",
        "\n",
        "if refrigeracao == \"N\":\n",
        "    if tipo ==\"A\":\n",
        "        if preco < 15:\n",
        "            valor_add = 2\n",
        "        elif preco >= 15:\n",
        "            valor_add = 5\n",
        "    elif tipo == \"L\":\n",
        "        if preco < 10:\n",
        "            valor_add = 1.5\n",
        "        elif preco >= 10:\n",
        "            valor_add = 2.5\n",
        "    elif tipo == \"V\":\n",
        "        if preco < 30:\n",
        "            valor_add = 3\n",
        "        elif preco >= 30:\n",
        "            valor_add = 2.5\n",
        "elif refrigeracao == \"S\":\n",
        "    if tipo ==\"A\":\n",
        "        valor_add = 8\n",
        "    elif tipo == \"L\":\n",
        "        valor_add = 0\n",
        "    elif tipo == \"V\":\n",
        "        valor_add = 0\n",
        "print(\"Valor adicional = R$\", valor_add)\n",
        "\n",
        "if preco < 25:\n",
        "    imposto = preco * 0.05\n",
        "elif preco >= 25:\n",
        "    imposto = preco * 0.8\n",
        "print(f\"Imposto = R${imposto:.2f}\")\n",
        "\n",
        "preco_custo = preco - imposto\n",
        "print(f\"preço de custo = R${preco_custo:.2f}\")\n",
        "\n",
        "if tipo != \"A\" and refrigeracao != \"S\":\n",
        "    desconto = preco_custo * 0.03\n",
        "else:\n",
        "    desconto = 0\n",
        "print(f\"Desconto = R${desconto:.2f}\")\n",
        "\n",
        "novo_preco = preco_custo + valor_add - desconto\n",
        "print(f\"Novo preço = R${novo_preco:.2f}\")\n",
        "\n",
        "if novo_preco <= 50:\n",
        "    print(\"Barato\")\n",
        "elif novo_preco > 50 and novo_preco < 100:\n",
        "    print(\"Normal\")\n",
        "elif novo_preco >= 100,00:\n",
        "    print(\"Ca\")"
      ],
      "execution_count": null,
      "outputs": []
    },
    {
      "cell_type": "markdown",
      "metadata": {
        "id": "L-VOnT4CyGl8"
      },
      "source": [
        "### 36. Faça um programa que receba a medida de um ângulo em graus. Calcule e mostre o quadrante em que se localiza esse ângulo. Considere os quadrantes da trigonometria e, para ângulos maiores que 360° ou menores que −360°, reduzí-los, mostrando também o número de voltas e o sentido da volta (horário ou anti-horário).\n",
        "```\n",
        "SE angulo > 360 OU angulo < -360\n",
        "    voltas = parte inteira(angulo / 360)    \n",
        "    angulo = RESTO(angulo / 360)\n",
        "SENÃO\n",
        "    voltas = 0\n",
        "SE angulo = 0 OU angulo = 90 OU angulo = 180\n",
        "           OU angulo = 270 OU angulo = 360\n",
        "           OU angulo = -90 OU angulo = -180\n",
        "           OU angulo = -270 OU angulo = -360\n",
        "  ESCREVA “Está em cima de algum dos eixos”\n",
        "  SE (angulo > 0 E angulo < 90) OU (angulo < -270 E angulo > -360)\n",
        "    ESCREVA “1o Quadrante”\n",
        "  SENÃO SE (angulo > 90 E angulo < 180) OU (angulo < -180 E angulo > -270)\n",
        "    ESCREVA “2o Quadrante”\n",
        "  SENÃO SE (angulo > 180 E angulo < 270) OU (angulo < -90 E angulo > -180)\n",
        "    ESCREVA “3o Quadrante”\n",
        "  SENÃO SE (angulo > 270 E angulo < 360) OU (angulo < 0 E angulo > -90)\n",
        "    ESCREVA “4o Quadrante”\n",
        "  ESCREVA voltas, “ volta(s) no sentido “\n",
        "SE angulo < 0\n",
        "    ESCREVA “horário”\n",
        "SENÃO\n",
        "    ESCREVA “anti-horário”\n",
        "```"
      ]
    },
    {
      "cell_type": "code",
      "metadata": {
        "id": "GjkV8-vWyJWb",
        "colab": {
          "base_uri": "https://localhost:8080/"
        },
        "outputId": "ec3035db-a0bf-41fa-92d5-17c7118c7247"
      },
      "source": [
        "angulo = float(input(\"Digite o ângulo: \"))\n",
        "\n",
        "if angulo > 360 or angulo <-360:\n",
        "    voltas = angulo // 360\n",
        "    angulo = angulo % 360\n",
        "else:\n",
        "    voltas = 0\n",
        "\n",
        "if angulo == 0 or angulo == 90 or angulo == 180 or angulo == 270 or angulo == 360 or angulo == -90 or angulo == -180 or angulo == -270 or angulo == -360:\n",
        "    print(\"O ângulo está em cima de um dos eixos.\")\n",
        "\n",
        "if (angulo > 0 and angulo < 90) or (angulo < -270 and angulo > -360):\n",
        "    print(\"1o quadrante.\")\n",
        "elif (angulo > 90 and angulo < 180) or (angulo < -180 and angulo > -270):\n",
        "    print(\"2o quadrante\")\n",
        "elif (angulo > 180 and angulo < 270) or (angulo < -90 and angulo > -180):\n",
        "    print(\"3o quadrante\")\n",
        "elif (angulo > 270 and angulo < 360) or (angulo < 0 and angulo > -90):\n",
        "    print(\"4o quadrante\")\n",
        "\n",
        "if angulo < 0:\n",
        "    print(voltas, \"voltas no sentido horário.\")\n",
        "else:\n",
        "    print(voltas, \"voltas no sentido anti-horário.\")"
      ],
      "execution_count": null,
      "outputs": [
        {
          "output_type": "stream",
          "name": "stdout",
          "text": [
            "Digite o ângulo: 300\n",
            "4o quadrante\n",
            "0 voltas no sentido anti-horário.\n"
          ]
        }
      ]
    }
  ]
}