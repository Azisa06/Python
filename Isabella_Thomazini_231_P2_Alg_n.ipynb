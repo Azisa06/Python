{
  "cells": [
    {
      "cell_type": "markdown",
      "metadata": {
        "id": "view-in-github",
        "colab_type": "text"
      },
      "source": [
        "<a href=\"https://colab.research.google.com/github/Azisa06/Python/blob/main/Isabella_Thomazini_231_P2_Alg_n.ipynb\" target=\"_parent\"><img src=\"https://colab.research.google.com/assets/colab-badge.svg\" alt=\"Open In Colab\"/></a>"
      ]
    },
    {
      "cell_type": "markdown",
      "metadata": {
        "id": "skN-Wz61xZzi"
      },
      "source": [
        "##**P2 - 1º. semestre/2023 -   Término: 20:40**\n",
        "## É uma prova de consulta ao seu material.\n",
        "## **Apenas verificarei** o desenvolvimento dos exercícios de cada aluno, **NO DIA SEGUINTE**\n",
        "##**O exame P3**, ocorrerá **dia 21/06** no **horário normal de aula**.\n",
        "##***--------> A partir do momento que encerrar o prazo de responder (implementar) as questões da prova, o aluno ---- está PROÍBIDO ---- de realizar qualquer alteração no arquivo da prova. Qualquer alteração fica registrada na plataforma do Classroom/Collab <--------***\n",
        "##O aluno tem que ter **12 pontos** na soma da P1 com a P2 para ser aprovado.\n",
        "\n",
        "##A nota estará registrada no SIGA.\n",
        "##A partir da próxima semana não conta mais presenças, ou seja, não farei mais chamada, mas o aluno se quiser ver a correção da prova, ou tirar dúvidas, pode vir a aula.\n",
        "\n",
        "##**Sempre leiam** seus e-mails do @fatec.sp.gov.br e o Teams, pois é o nosso meio de comunicação com os alunos.\n",
        "\n",
        "##Fiquem atentos a **data de REMATRÍCULA**, a secretaria informará.\n",
        "\n",
        "#**Boas férias!**......................................................"
      ]
    },
    {
      "cell_type": "markdown",
      "source": [
        "###**1**.  [1,0 pontos] Em Python crie um programa que calcule e apresente o total de saldos cashback de alguns clientes, mas não é informada a quantidade de clientes, então use como critério de parada (condição da estrutura de repetição, digitar zero no saldo cashback para sair)."
      ],
      "metadata": {
        "id": "GGexTguW9nNx"
      }
    },
    {
      "cell_type": "code",
      "source": [
        "soma = 0\n",
        "cashback = float(input(\"Informe o saldo de cashback: \"))\n",
        "while cashback > 0:\n",
        "    soma += cashback\n",
        "    cashback = float(input(\"Informe o saldo de cashback: \"))\n",
        "print(f'Total de cashbacks R${soma:.2f}')"
      ],
      "metadata": {
        "id": "j8FPGHz1-OoE",
        "colab": {
          "base_uri": "https://localhost:8080/"
        },
        "outputId": "08420c3d-8d6c-41b3-d1cb-6672aff9de8d"
      },
      "execution_count": null,
      "outputs": [
        {
          "output_type": "stream",
          "name": "stdout",
          "text": [
            "Informe o saldo de cashback: 1000\n",
            "Informe o saldo de cashback: 200\n",
            "Informe o saldo de cashback: 0\n",
            "Total de cashbacks R$1200.00\n"
          ]
        }
      ]
    },
    {
      "cell_type": "markdown",
      "metadata": {
        "id": "_aPd4c1b3OjS"
      },
      "source": [
        "###**2**. [4,0 pontos] Em Python crie um programa que leia/armazene em um vetor 5 nomes de clientes, em outro vetor leia/armazene 5 valores/float de cashback e num terceiro vetor leia/armazene 5 valores que corresponam as compras que cada um realizou.\n",
        "###No momento da compra, verifique se o saldo cashback do cliente é o suficiente para pagar a compra realizada, se sim subtraia do cashback o valor da compra realizada, caso não tenha, mostre a frase \"Não há valor de cashback suficiente para pagamento desta compra.\"\n",
        "###Ao final, mostre o vetor nome de clientes, o vetor saldo cashback e o vetor compras.\n"
      ]
    },
    {
      "cell_type": "code",
      "execution_count": null,
      "metadata": {
        "colab": {
          "base_uri": "https://localhost:8080/"
        },
        "id": "Q6LPIy_LCQuO",
        "outputId": "787e2e68-884c-4736-bc8e-1f579fa22a93"
      },
      "outputs": [
        {
          "output_type": "stream",
          "name": "stdout",
          "text": [
            "Digite o nome do cliente: isabella\n",
            "Informe o saldo de cashback: 500\n",
            "Informe o valor da compra: 400\n",
            "Digite o nome do cliente: kamily\n",
            "Informe o saldo de cashback: 1000\n",
            "Informe o valor da compra: 1200\n",
            "Cliente = isabella\n",
            "Cliente = kamily\n",
            "Compra = 400.0\n",
            "Compra = 1200.0\n",
            "Compra = 400.0\n",
            "Compra = 1200.0\n"
          ]
        }
      ],
      "source": [
        "nome = []\n",
        "cashback = []\n",
        "compra = []\n",
        "total = 0\n",
        "for i in range (2):\n",
        "    nome.append(input(\"Digite o nome do cliente: \"))\n",
        "    cashback.append(float(input(\"Informe o saldo de cashback: \")))\n",
        "    compra.append(float(input(\"Informe o valor da compra: \")))\n",
        "\n",
        "for i in range(len(nome)):\n",
        "    print(\"Cliente =\", nome[i])\n",
        "\n",
        "for i in range(len(cashback)):\n",
        "    for i in range(len(compra)):\n",
        "        print(\"Compra =\", compra[i])\n",
        "        if compra > cashback:\n",
        "            total = cashback[i] - compra[i]\n",
        "            print(\"Cashback =\", total)\n",
        "        elif cashback < compra:\n",
        "            print(\"Não há valor de cashback suficiente para pagamento desta compra.\")"
      ]
    },
    {
      "cell_type": "markdown",
      "source": [
        "###**3**. [2,0 pontos] Em Python crie um programa que leia/armazene em uma matriz 3x3 valores inteiros, calcule e apresente a soma dos elementos da diagonal principal."
      ],
      "metadata": {
        "id": "HU6DCj4C-mcF"
      }
    },
    {
      "cell_type": "code",
      "source": [
        "mat = []\n",
        "for linha in range(3):\n",
        "    vetor_linha = []\n",
        "    for coluna in range(3):\n",
        "        vetor_linha.append(int(input(\"Informe um número inteiro:[\"+str(linha)+\",\"+str(coluna)+\"]\")))\n",
        "    mat.append(vetor_linha)\n",
        "soma = 0\n",
        "for linha in range(len(mat)):\n",
        "    for coluna in range(len(mat[0])):\n",
        "        if linha == coluna:\n",
        "            soma += mat[linha][coluna]\n",
        "\n",
        "print(\"Soma dos elementos da diagonal principal =\", soma)\n"
      ],
      "metadata": {
        "id": "R_2XNWYa-pOf",
        "colab": {
          "base_uri": "https://localhost:8080/"
        },
        "outputId": "7c9b9f77-bf7a-42da-e972-17fe7bf75afc"
      },
      "execution_count": null,
      "outputs": [
        {
          "output_type": "stream",
          "name": "stdout",
          "text": [
            "Informe um número inteiro:[0,0]11\n",
            "Informe um número inteiro:[0,1]22\n",
            "Informe um número inteiro:[0,2]33\n",
            "Informe um número inteiro:[1,0]44\n",
            "Informe um número inteiro:[1,1]55\n",
            "Informe um número inteiro:[1,2]66\n",
            "Informe um número inteiro:[2,0]77\n",
            "Informe um número inteiro:[2,1]88\n",
            "Informe um número inteiro:[2,2]99\n",
            "Soma dos elementos da diagonal principal = 165\n"
          ]
        }
      ]
    }
  ],
  "metadata": {
    "colab": {
      "provenance": [],
      "include_colab_link": true
    },
    "kernelspec": {
      "display_name": "Python 3",
      "name": "python3"
    }
  },
  "nbformat": 4,
  "nbformat_minor": 0
}