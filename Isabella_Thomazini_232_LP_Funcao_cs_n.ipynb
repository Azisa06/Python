{
  "cells": [
    {
      "cell_type": "markdown",
      "metadata": {
        "id": "view-in-github",
        "colab_type": "text"
      },
      "source": [
        "<a href=\"https://colab.research.google.com/github/Azisa06/Python/blob/main/Isabella_Thomazini_232_LP_Funcao_cs_n.ipynb\" target=\"_parent\"><img src=\"https://colab.research.google.com/assets/colab-badge.svg\" alt=\"Open In Colab\"/></a>"
      ]
    },
    {
      "cell_type": "markdown",
      "metadata": {
        "id": "skN-Wz61xZzi"
      },
      "source": [
        "### 1. (Função com retorno sem parâmetro) Faça um programa contendo uma função/método que leia um número e o multiplique por 2 retornando o resultado e o apresente."
      ]
    },
    {
      "cell_type": "code",
      "execution_count": null,
      "metadata": {
        "id": "Wbjafj_QxWP-"
      },
      "outputs": [],
      "source": [
        "def multiplicar():\n",
        "    numero = int(input('Digite um valor: '))\n",
        "    resultado = numero * 2\n",
        "    return resultado\n",
        "\n",
        "def main():\n",
        "    #primeira forma de chamar uma função com retorno\n",
        "    print('entrei na main')\n",
        "    r = multiplicar()\n",
        "    print('Resultado com uma variável: ',r)\n",
        "    #segunda forma de chamar uma função com retorno\n",
        "    print('Resultado com uma variável: ',multiplicar())\n",
        "\n",
        "main()"
      ]
    },
    {
      "cell_type": "markdown",
      "metadata": {
        "id": "0jPoba3-yLnG"
      },
      "source": [
        "### 2. (Função com retorno sem parâmetro) Faça um programa contendo uma função/método para subtrair dois números, retornar o resultado e o apresentando."
      ]
    },
    {
      "cell_type": "code",
      "execution_count": null,
      "metadata": {
        "colab": {
          "base_uri": "https://localhost:8080/"
        },
        "id": "UHD2oMlJyLzc",
        "outputId": "f8cd87fe-2086-42d2-dc28-9de25821c600"
      },
      "outputs": [
        {
          "output_type": "stream",
          "name": "stdout",
          "text": [
            "Digite um número: 4\n",
            "Digite outro número: 2\n",
            "O resultado da subtração é 2.0\n"
          ]
        }
      ],
      "source": [
        "def subtracao():\n",
        "    n1 = float(input(\"Digite um número: \"))\n",
        "    n2 = float(input(\"Digite outro número: \"))\n",
        "    result = n1 - n2\n",
        "    return result\n",
        "\n",
        "def main():\n",
        "    r = subtracao()\n",
        "    print(\"O resultado da subtração é\", r)\n",
        "\n",
        "main()"
      ]
    },
    {
      "cell_type": "markdown",
      "metadata": {
        "id": "4zGuLRRXt0D_"
      },
      "source": [
        "### 3. (Função com retorno sem parâmetro) Faça um programa contendo uma função/método que leia a base e a altura de um triângulo e retorne/apresente sua área A = (base x altura)/2."
      ]
    },
    {
      "cell_type": "code",
      "execution_count": null,
      "metadata": {
        "id": "nU0x1v2Vt1-w",
        "colab": {
          "base_uri": "https://localhost:8080/"
        },
        "outputId": "6b29ba94-46a3-4698-cebe-c9d9e7479bf2"
      },
      "outputs": [
        {
          "output_type": "stream",
          "name": "stdout",
          "text": [
            "Informe a base do triângulo: 4\n",
            "Informe a altura do triângulo: 6\n",
            "A área do triângulo é: 12.0\n"
          ]
        }
      ],
      "source": [
        "def area():\n",
        "    base = float(input(\"Informe a base do triângulo: \"))\n",
        "    h = float(input(\"Informe a altura do triângulo: \"))\n",
        "    result = (base * h) / 2\n",
        "    return result\n",
        "\n",
        "def main():\n",
        "    a = area()\n",
        "    print(\"A área do triângulo é:\", a)\n",
        "\n",
        "main()"
      ]
    },
    {
      "cell_type": "markdown",
      "metadata": {
        "id": "W0slzp_rt2Iu"
      },
      "source": [
        "### 4. (Função com retorno sem parâmetro) Faça um programa contendo uma função/método que leia o lado de um quadrado e retorne sua área, area = lado²."
      ]
    },
    {
      "cell_type": "code",
      "execution_count": null,
      "metadata": {
        "id": "hH2UZstHvFs2",
        "colab": {
          "base_uri": "https://localhost:8080/"
        },
        "outputId": "a527b906-7919-4bc4-a288-0a790fa32d43"
      },
      "outputs": [
        {
          "output_type": "stream",
          "name": "stdout",
          "text": [
            "Informe o lado do quadrado: 2\n",
            "A área do quadrado é 4.0\n"
          ]
        }
      ],
      "source": [
        "def area():\n",
        "    lado = float(input(\"Informe o lado do quadrado: \"))\n",
        "    result = lado * lado\n",
        "    return result\n",
        "\n",
        "def main():\n",
        "    a = area()\n",
        "    print(\"A área do quadrado é\", a)\n",
        "\n",
        "main()"
      ]
    },
    {
      "cell_type": "markdown",
      "metadata": {
        "id": "hfkLntgNTWN1"
      },
      "source": [
        "###5. (Função com retorno sem parâmetro) Faça um programa contendo uma função/método  que verifique se um número é par, retorne mostrando a str/string ‘É par’ ou se ‘É ímpar’."
      ]
    },
    {
      "cell_type": "code",
      "execution_count": null,
      "metadata": {
        "id": "YIp7ES5deRo8",
        "colab": {
          "base_uri": "https://localhost:8080/"
        },
        "outputId": "04c92c6e-1b2b-48ee-f0f7-438f5dc23abb"
      },
      "outputs": [
        {
          "output_type": "stream",
          "name": "stdout",
          "text": [
            "Digite um número: 3\n",
            "É ímpar\n"
          ]
        }
      ],
      "source": [
        "def verificacao():\n",
        "    numero = int(input(\"Digite um número: \"))\n",
        "    if numero % 2 == 0:\n",
        "        return \"É par\"\n",
        "    elif numero % 2 != 0:\n",
        "        return \"É ímpar\"\n",
        "\n",
        "def main():\n",
        "    resultado = verificacao()\n",
        "    print(resultado)\n",
        "\n",
        "main()"
      ]
    },
    {
      "cell_type": "markdown",
      "metadata": {
        "id": "RIGUAKHveTJS"
      },
      "source": [
        "###6. (Função com retorno sem parâmetro) Faça um programa contendo uma função/método  que verifique se um número é par, retorne/mostre o valor bool **True** para par e **False** para ímpar."
      ]
    },
    {
      "cell_type": "code",
      "execution_count": null,
      "metadata": {
        "id": "Q6LPIy_LCQuO",
        "colab": {
          "base_uri": "https://localhost:8080/"
        },
        "outputId": "f6142294-7620-43c9-f0d9-aa533815365c"
      },
      "outputs": [
        {
          "output_type": "stream",
          "name": "stdout",
          "text": [
            "Digite um número: 6\n",
            "True\n"
          ]
        }
      ],
      "source": [
        "def verificar():\n",
        "    numero = int(input(\"Digite um número: \"))\n",
        "    return numero % 2 == 0\n",
        "\n",
        "def main():\n",
        "    print(verificar())\n",
        "\n",
        "main()"
      ]
    },
    {
      "cell_type": "markdown",
      "metadata": {
        "id": "JgYwP3n1CQ_U"
      },
      "source": [
        "### 7. (Função com retorno sem parâmetro) Faça uma função/método que leia e armazene 5 elementos inteiros no vetor A, deverá ser gerado um vetor B, de mesmo tamanho, que armazenará o fatorial de cada elemento de A. Não use função pronta de cálculo de fatorial. Retorne/apresente o vetor B."
      ]
    },
    {
      "cell_type": "code",
      "execution_count": null,
      "metadata": {
        "id": "34fIP0epT69d"
      },
      "outputs": [],
      "source": [
        "# Exemplo:\n",
        "# A = [5  ,4 ,3,2,1]\n",
        "# B = [120,24,6,2,1]"
      ]
    },
    {
      "cell_type": "code",
      "source": [
        "def fatorial():\n",
        "    a = []\n",
        "    for i in range(3):\n",
        "        a.append(int(input(\"Digite um valor inteiro: \")))\n",
        "\n",
        "    b = []\n",
        "    for i in range(len(a)):\n",
        "        fat = 1\n",
        "        for f in range(1, a[i] + 1):\n",
        "            fat *= f\n",
        "        b.append(fat)\n",
        "    return b\n",
        "\n",
        "def main():\n",
        "    print(fatorial())\n",
        "\n",
        "main()"
      ],
      "metadata": {
        "colab": {
          "base_uri": "https://localhost:8080/"
        },
        "id": "drVX_W_50_wE",
        "outputId": "8881d03d-77eb-4856-c791-fd1a185fd42e"
      },
      "execution_count": null,
      "outputs": [
        {
          "output_type": "stream",
          "name": "stdout",
          "text": [
            "Digite um valor inteiro: 2\n",
            "Digite um valor inteiro: 3\n",
            "Digite um valor inteiro: 4\n",
            "[2, 6, 24]\n"
          ]
        }
      ]
    },
    {
      "cell_type": "markdown",
      "metadata": {
        "id": "_aPd4c1b3OjS"
      },
      "source": [
        "### 8. (Função com retorno sem parâmetro) Faça uma função/método retorne um vetor com os três primeiros números perfeitos. Sabe-se que um número é perfeito quando é igual a soma de seus divisores (exceto ele mesmo).\n",
        "Exemplo: os divisores de 6 são 1, 2 e 3, e 1 + 2 + 3 = 6, logo 6 é perfeito. Não use função pronta.\n",
        "\n",
        "1º número perfeito: 6\n",
        "\n",
        "2º número perfeito: 28\n",
        "\n",
        "3º número perfeito: 496"
      ]
    },
    {
      "cell_type": "code",
      "execution_count": null,
      "metadata": {
        "id": "fb6TwQ_yh_To",
        "colab": {
          "base_uri": "https://localhost:8080/"
        },
        "outputId": "1570c595-2fb3-4df3-c717-a174e9e04dbf"
      },
      "outputs": [
        {
          "output_type": "stream",
          "name": "stdout",
          "text": [
            "[6, 28, 496]\n"
          ]
        }
      ],
      "source": [
        "# número 1 não é perfeito\n",
        "# ...\n",
        "# número 4 não é perfeito, exemplo: 4 % 1 == 0, 4 % 2 == 0, 4 % 3 != 0, a soma\n",
        "# resulta em 2\n",
        "# ...\n",
        "# número 6 é perfeito  6 % 1 == 0, 6 % 2 == 0, 6 % 3 == 0, 6 % 4 != 0, 6 % 5 != 0\n",
        "# quando é perfeito a soma de seus divisores da o mesmo valor de número que é 6\n",
        "\n",
        "def calculo():\n",
        "    perfeitos = []\n",
        "    for n in range (1, 497):\n",
        "        count = 0\n",
        "        for i in range(1, n):\n",
        "            if n % i == 0:\n",
        "                count += i\n",
        "        if count == n:\n",
        "            perfeitos.append(n)\n",
        "    return perfeitos\n",
        "\n",
        "def main():\n",
        "    print(calculo())\n",
        "\n",
        "main()"
      ]
    },
    {
      "cell_type": "markdown",
      "metadata": {
        "id": "HAz_eYfhzg06"
      },
      "source": [
        "### 9. (Função com retorno sem parâmetro) Foi realizada uma pesquisa sobre algumas características físicas de cinco habitantes de uma região. Foram coletados os seguintes dados de cada habitante: idade, sexo (M - masculino ou F - feminino), cor dos olhos (A - azuis ou C - castanhos), cor dos cabelos (L - louros, P - pretos ou C - castanhos).\n",
        "\n",
        "1.   Faça uma função/método que leia esses dados, armazenando-os em vetores (listas);\n",
        "2.   Faça uma função/método que determine e devolva a função principal a média de idades das pessoas com olhos castanhos e cabelos pretos;\n",
        "3. Faça uma função/método que determine e devolva a função principal a maior idade entre os habitantes;\n",
        "4.  Faça uma função/método que determine e devolva a função principal a quantidade de indivíduos do sexo feminino com idade entre 18 e 35 anos(inclusive) e que tenham olhos azuis e cabelos louros.\n"
      ]
    },
    {
      "cell_type": "code",
      "execution_count": null,
      "metadata": {
        "id": "7Ez7TgiQvbTD"
      },
      "outputs": [],
      "source": [
        "# Declarar os vetores antes de qualquer programação, indica que\n",
        "# que estas variáveis serão globais a todo o restante do programa\n",
        "# e das funções\n",
        "idade = []\n",
        "sexo = []\n",
        "olho = []\n",
        "cabelo = []\n",
        "\n",
        "def cadastrar():\n",
        "...\n",
        "...\n",
        "def main():\n",
        "\n",
        "main()"
      ]
    },
    {
      "cell_type": "code",
      "source": [
        "idade = []\n",
        "sexo = []\n",
        "olho = []\n",
        "cabelo = []\n",
        "\n",
        "def cadastrar():\n",
        "    for i in range(5):\n",
        "        idade.append(int(input(f\"Informe a idade do habitante {i + 1}: \")))\n",
        "        sexo.append(input(f\"Informe o sexo (M/F) do habitante {i + 1}: \"))\n",
        "        olho.append(input(f\"Informe a cor dos olhos (A - azuis ou C - castanhos) do habitante {i + 1}: \"))\n",
        "        cabelo.append(input(f\"Informe a cor dos cabelos (L - louros, P - pretos ou C - castanhos) do habitante {i + 1}: \"))\n",
        "\n",
        "def media():\n",
        "    count = 0\n",
        "    soma_idades = 0\n",
        "    for i in range(len(idade)):\n",
        "        if olho[i] == 'C' and cabelo[i] == 'P':\n",
        "            count += 1\n",
        "            soma_idades += idade[i]\n",
        "    if count > 0:\n",
        "        return soma_idades / count\n",
        "\n",
        "def maior_idade():\n",
        "    for i in range(len(idade)):\n",
        "        if i == 0:\n",
        "            maior = i\n",
        "        elif idade[i] > maior:\n",
        "            maior = idade[i]\n",
        "    return maior\n",
        "\n",
        "def feminino():\n",
        "    count = 0\n",
        "    for i in range(len(idade)):\n",
        "        if sexo[i] == 'F' and 18 <= idade[i] <= 35 and olho[i] == 'A' and cabelo[i] == 'L':\n",
        "            count += 1\n",
        "    return count\n",
        "\n",
        "def main():\n",
        "    cadastrar()\n",
        "    medias = media()\n",
        "    mais_velho = maior_idade()\n",
        "    mulheres = feminino()\n",
        "\n",
        "    print(f\"Média de idades das pessoas com olhos castanhos e cabelos pretos = {medias}\")\n",
        "    print(f\"A maior idade entre os habitantes = {mais_velho}\")\n",
        "    print(f\"A quantidade de indivíduos do sexo feminino com idade entre 18 e 35 anos(inclusive) e que tenham olhos azuis e cabelos louros = {mulheres}\")\n",
        "\n",
        "main()"
      ],
      "metadata": {
        "id": "MRXsjBnn9RFV",
        "colab": {
          "base_uri": "https://localhost:8080/"
        },
        "outputId": "18519b0b-8583-458b-f1bd-330b1f7dd55b"
      },
      "execution_count": null,
      "outputs": [
        {
          "output_type": "stream",
          "name": "stdout",
          "text": [
            "Informe a idade do habitante 1: 31\n",
            "Informe o sexo (M/F) do habitante 1: M\n",
            "Informe a cor dos olhos (A - azuis ou C - castanhos) do habitante 1: C\n",
            "Informe a cor dos cabelos (L - louros, P - pretos ou C - castanhos) do habitante 1: P\n",
            "Informe a idade do habitante 2: 22\n",
            "Informe o sexo (M/F) do habitante 2: F\n",
            "Informe a cor dos olhos (A - azuis ou C - castanhos) do habitante 2: A\n",
            "Informe a cor dos cabelos (L - louros, P - pretos ou C - castanhos) do habitante 2: L\n",
            "Informe a idade do habitante 3: 55\n",
            "Informe o sexo (M/F) do habitante 3: F\n",
            "Informe a cor dos olhos (A - azuis ou C - castanhos) do habitante 3: C\n",
            "Informe a cor dos cabelos (L - louros, P - pretos ou C - castanhos) do habitante 3: C\n",
            "Informe a idade do habitante 4: 18\n",
            "Informe o sexo (M/F) do habitante 4: M\n",
            "Informe a cor dos olhos (A - azuis ou C - castanhos) do habitante 4: A\n",
            "Informe a cor dos cabelos (L - louros, P - pretos ou C - castanhos) do habitante 4: P\n",
            "Informe a idade do habitante 5: 15\n",
            "Informe o sexo (M/F) do habitante 5: F\n",
            "Informe a cor dos olhos (A - azuis ou C - castanhos) do habitante 5: C\n",
            "Informe a cor dos cabelos (L - louros, P - pretos ou C - castanhos) do habitante 5: P\n",
            "Média de idades das pessoas com olhos castanhos e cabelos pretos = 23.0\n",
            "A maior idade entre os habitantes = 55\n",
            "A quantidade de indivíduos do sexo feminino com idade entre 18 e 35 anos(inclusive) e que tenham olhos azuis e cabelos louros = 1\n"
          ]
        }
      ]
    }
  ],
  "metadata": {
    "colab": {
      "provenance": [],
      "include_colab_link": true
    },
    "kernelspec": {
      "display_name": "Python 3",
      "name": "python3"
    }
  },
  "nbformat": 4,
  "nbformat_minor": 0
}