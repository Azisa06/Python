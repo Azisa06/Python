{
  "cells": [
    {
      "cell_type": "markdown",
      "metadata": {
        "id": "view-in-github",
        "colab_type": "text"
      },
      "source": [
        "<a href=\"https://colab.research.google.com/github/Azisa06/Python/blob/main/Isabella_Thomazini_232_LP_Arquivo_n.ipynb\" target=\"_parent\"><img src=\"https://colab.research.google.com/assets/colab-badge.svg\" alt=\"Open In Colab\"/></a>"
      ]
    },
    {
      "cell_type": "code",
      "source": [
        "arquivo = open('numeros.txt', 'w')\n",
        "for linha in range(20, 26):\n",
        "    arquivo.write(f'{linha} Boa noite\\n')\n",
        "arquivo.close()"
      ],
      "metadata": {
        "id": "OU9onP4TU5xp"
      },
      "execution_count": null,
      "outputs": []
    },
    {
      "cell_type": "code",
      "source": [
        "arquivo = open('numeros.txt', 'r')\n",
        "for linha in arquivo.readlines():\n",
        "    print(linha)\n",
        "arquivo.close()"
      ],
      "metadata": {
        "id": "PsLJ7cE3UwOg"
      },
      "execution_count": null,
      "outputs": []
    },
    {
      "cell_type": "code",
      "execution_count": null,
      "metadata": {
        "colab": {
          "background_save": true
        },
        "id": "SJoniFlLKCQw"
      },
      "outputs": [],
      "source": [
        "class TipoFuncionario:\n",
        "    matricula = 0\n",
        "    nome = ''\n",
        "    salario = 0.0\n",
        "\n",
        "def Cadastrar():\n",
        "    arquivo = open('arq_Funcionario.txt', 'w')\n",
        "    print('Cadastro de Funcionários.........................')\n",
        "    for i in range(3):\n",
        "        f = TipoFuncionario()\n",
        "        f.matricula = int(input('Digite a matrícula: '))\n",
        "        f.nome = input('Digite o nome: ')\n",
        "        f.salario = float(input('Digite o salário: '))\n",
        "        arquivo.write(f'{f.matricula};{f.nome};{f.salario:.2f}\\n')\n",
        "        #ou\n",
        "        #arquivo.write('%d %s %.2f\\n' % (f.matricula, f.nome, f.salario))\n",
        "    arquivo.close()\n",
        "\n",
        "def Mostrar():\n",
        "    arquivo = open('arq_Funcionario.txt', 'r')\n",
        "    print('Apresentação dos dados dos funcionários .........')\n",
        "    print('Matrícula\\tNome\\tSalário')\n",
        "    for linha in arquivo.readlines():\n",
        "        # o caracter que está na função write() do arquivo DEVE\n",
        "        # SER O MESMO no argumento da função split\n",
        "        mat, nome, sal = linha.strip().split(\";\")\n",
        "        print(mat,'\\t\\t',nome,'\\t',sal)\n",
        "    arquivo.close()\n",
        "\n",
        "def main():\n",
        "    op = 1\n",
        "    while op >=1 and op <= 2:\n",
        "        print('*** Gerenciamento de Funcionários COM ARQUIVO ***')\n",
        "        print('1- Cadastrar')\n",
        "        print('2- Mostrar')\n",
        "        print('3- Sair')\n",
        "        op = int(input('Digite a opção: '))\n",
        "        if op == 1:\n",
        "            Cadastrar()\n",
        "        elif op == 2:\n",
        "            Mostrar()\n",
        "main()"
      ]
    },
    {
      "cell_type": "markdown",
      "metadata": {
        "id": "skN-Wz61xZzi"
      },
      "source": [
        "### 1. Elabore uma estrutura para representar e armazenar 10 fornecedores (código, nome, endereco). Utilize os recursos de arquivo para armazenar estes dados permanentemente. O nome do arquivo deve ser o mesmo da estrutura. Construa um menu com as seguintes opções, cada uma delas deve ter uma função e a main para chamar todas elas.\n",
        "\n",
        "Menu de opções:\n",
        "1. Cadastrar fornecedores\n",
        "2. Visualizar todos os dados\n",
        "3. Sair\n"
      ]
    },
    {
      "cell_type": "code",
      "execution_count": null,
      "metadata": {
        "id": "Wbjafj_QxWP-",
        "colab": {
          "base_uri": "https://localhost:8080/"
        },
        "outputId": "f27a0aad-5bab-4a99-b8b8-16caed4c2d67"
      },
      "outputs": [
        {
          "output_type": "stream",
          "name": "stdout",
          "text": [
            "\n",
            "*** Gerenciamento de Funcionários COM ARQUIVO ***\n",
            "1- Cadastrar\n",
            "2- Visualizar\n",
            "3- Sair\n",
            "Digite a opção: 2\n",
            "Código          Nome            Endereço       \n",
            "123             isa             fort           \n",
            "\n",
            "*** Gerenciamento de Funcionários COM ARQUIVO ***\n",
            "1- Cadastrar\n",
            "2- Visualizar\n",
            "3- Sair\n",
            "Digite a opção: 3\n",
            "Programa finalizado com sucesso!\n"
          ]
        }
      ],
      "source": [
        "class tipoFornecedor:\n",
        "    codigo = 0\n",
        "    nome = ''\n",
        "    endereco = ''\n",
        "\n",
        "def menu():\n",
        "    print('\\n*** Gerenciamento de Funcionários COM ARQUIVO ***')\n",
        "    print('1- Cadastrar')\n",
        "    print('2- Visualizar')\n",
        "    print('3- Sair')\n",
        "    op = int(input('Digite a opção: '))\n",
        "    return op\n",
        "\n",
        "def cadastrar():\n",
        "    arquivo = open(\"tipoFornecedor.txt\", \"w\")\n",
        "    for i in range(1):\n",
        "        f = tipoFornecedor()\n",
        "        f.codigo = int(input(\"Código do fornecedor: \"))\n",
        "        f.nome = input(\"Nome do fornecedor: \")\n",
        "        f.endereco = input(\"Endereço do fornecedor: \")\n",
        "        arquivo.write(f\"{f.codigo};{f.nome};{f.endereco}\\n\")\n",
        "    print(\"Cadastro realizado com sucesso!\")\n",
        "    arquivo.close()\n",
        "\n",
        "def visualizar():\n",
        "    arquivo = open('tipoFornecedor.txt', 'r')\n",
        "    print(f\"{'Código':<15} {'Nome':<15} {'Endereço':<15}\")\n",
        "    for linha in arquivo.readlines():\n",
        "        codigo, nome, endereco = linha.strip().split(\";\")\n",
        "        print(f\"{codigo:<15} {nome:<15} {endereco:<15}\")\n",
        "    arquivo.close()\n",
        "\n",
        "def main():\n",
        "    op = menu()\n",
        "    while op > 0 and op <= 3:\n",
        "        if op == 1:\n",
        "            cadastrar()\n",
        "        elif op == 2:\n",
        "            visualizar()\n",
        "        else:\n",
        "            print(\"Programa finalizado com sucesso!\")\n",
        "            break\n",
        "        op = menu()\n",
        "\n",
        "main()"
      ]
    },
    {
      "cell_type": "markdown",
      "metadata": {
        "id": "0jPoba3-yLnG"
      },
      "source": [
        "### 2. Elabore uma estrutura para representar e armazenar 10 produtos (código, nome, preço). Utilize os recursos de arquivo para armazenar estes dados permanentemente. O nome do arquivo deve ser o mesmo da estrutura. Construa um menu com as seguintes opções, cada uma delas deve ter uma função e a main para chamar todas elas.\n",
        "\n",
        "Menu de opções:\n",
        "1. Cadastrar produtos\n",
        "2. Visualizar todos os dados\n",
        "3. Sair"
      ]
    },
    {
      "cell_type": "code",
      "execution_count": null,
      "metadata": {
        "id": "U--JD-UVAZ_4",
        "colab": {
          "base_uri": "https://localhost:8080/"
        },
        "outputId": "7aba3cf9-bf2b-4f29-f4b6-d885f72221f3"
      },
      "outputs": [
        {
          "output_type": "stream",
          "name": "stdout",
          "text": [
            "\n",
            "Menu de opções: \n",
            "1.Cadastrar produtos \n",
            "2.Visualizar todos os dados \n",
            "3.Sair\n",
            "Digite a opção: 2\n",
            "Código          Nome            Preço          \n",
            "123             bola            100.0          \n",
            "\n",
            "Menu de opções: \n",
            "1.Cadastrar produtos \n",
            "2.Visualizar todos os dados \n",
            "3.Sair\n",
            "Digite a opção: 3\n",
            "Programa finalizado com sucesso!\n"
          ]
        }
      ],
      "source": [
        "class tipoProduto:\n",
        "    codigo = 0\n",
        "    nome = ''\n",
        "    preco = 0.0\n",
        "\n",
        "def menu():\n",
        "    print(\"\\nMenu de opções: \\n1.Cadastrar produtos \\n2.Visualizar todos os dados \\n3.Sair\")\n",
        "    op = int(input(\"Digite a opção: \"))\n",
        "    return op\n",
        "\n",
        "def cadastrar():\n",
        "    arquivo = open('tipoProduto.txt', 'w')\n",
        "    for i in range(1):\n",
        "        p = tipoProduto()\n",
        "        p.codigo = int(input(\"Código do produto: \"))\n",
        "        p.nome = input(\"Nome do produto: \")\n",
        "        p.preco = float(input(\"Preço do produto: \"))\n",
        "        arquivo.write(f\"{p.codigo};{p.nome};{p.preco}\\n\")\n",
        "    print(\"Cadastro realizado com sucesso!\")\n",
        "    arquivo.close()\n",
        "\n",
        "def visualizar():\n",
        "    arquivo = open('tipoProduto.txt', 'r')\n",
        "    print(f\"{'Código':<15} {'Nome':<15} {'Preço':<15}\")\n",
        "    for linha in arquivo.readlines():\n",
        "        codigo, nome, preco = linha.strip().split(';')\n",
        "        print(f\"{codigo:<15} {nome:<15} {preco:<15}\")\n",
        "    arquivo.close()\n",
        "\n",
        "def main():\n",
        "    op = menu()\n",
        "    while op > 0 and op <= 3:\n",
        "        if op == 1:\n",
        "            cadastrar()\n",
        "        elif op == 2:\n",
        "            visualizar()\n",
        "        else:\n",
        "            print(\"Programa finalizado com sucesso!\")\n",
        "            break\n",
        "        op = menu()\n",
        "\n",
        "main()"
      ]
    },
    {
      "cell_type": "markdown",
      "metadata": {
        "id": "7qLNzo1C_7K5"
      },
      "source": [
        "### 3. Elabore uma estrutura para representar e armazenar 10 alunos (matricula, nome, telefone). Utilize os recursos de arquivo para armazenar estes dados permanentemente. O nome do arquivo deve ser o mesmo da estrutura. Construa um menu com as seguintes opções, cada uma delas deve ter uma função e a main para chamar todas elas.\n",
        "\n",
        "Menu de opções:\n",
        "1. Cadastrar alunos\n",
        "2. Visualizar todos os dados\n",
        "3. Sair\n"
      ]
    },
    {
      "cell_type": "code",
      "execution_count": null,
      "metadata": {
        "id": "UHD2oMlJyLzc",
        "colab": {
          "base_uri": "https://localhost:8080/"
        },
        "outputId": "f9942a04-03fb-49fb-9fb1-13b6d795be1b"
      },
      "outputs": [
        {
          "output_type": "stream",
          "name": "stdout",
          "text": [
            "\n",
            "Menu de opções: \n",
            "1.Cadastrar alunos \n",
            "2.Visualizar todos os dados \n",
            "3.Sair\n",
            "Digite a opção: 2\n",
            "Matrícula      Nome           Telefone       \n",
            "2              isa            123.0          \n",
            "\n",
            "Menu de opções: \n",
            "1.Cadastrar alunos \n",
            "2.Visualizar todos os dados \n",
            "3.Sair\n",
            "Digite a opção: 3\n",
            "Programa finalizado com sucesso!\n"
          ]
        }
      ],
      "source": [
        "class tipoAluno:\n",
        "    matricula = 0\n",
        "    nome = ''\n",
        "    telefone = 0.0\n",
        "\n",
        "def menu():\n",
        "    print(\"\\nMenu de opções: \\n1.Cadastrar alunos \\n2.Visualizar todos os dados \\n3.Sair\")\n",
        "    op = int(input(\"Digite a opção: \"))\n",
        "    return op\n",
        "\n",
        "def cadastrar():\n",
        "    arquivo = open('tipoAluno.txt', 'w')\n",
        "    for i in range(1):\n",
        "        a = tipoAluno()\n",
        "        a.matricula = int(input(\"Matrícula: \"))\n",
        "        a.nome = input(\"Nome do aluno: \")\n",
        "        a.telefone = float(input(\"Telefone: \"))\n",
        "        arquivo.write(f\"{a.matricula};{a.nome};{a.telefone}\\n\")\n",
        "    print(\"Cadastro realizado com sucesso!\")\n",
        "    arquivo.close()\n",
        "\n",
        "def visualizar():\n",
        "    arquivo = open('tipoAluno.txt', 'r')\n",
        "    print(f\"{'Matrícula':<15}{'Nome':<15}{'Telefone':<15}\")\n",
        "    for linha in arquivo.readlines():\n",
        "        matricula, nome, telefone = linha.strip().split(';')\n",
        "        print(f\"{matricula:<15}{nome:<15}{telefone:<15}\")\n",
        "    arquivo.close()\n",
        "\n",
        "def main():\n",
        "    op = menu()\n",
        "    while op > 0 and op <= 3:\n",
        "        if op == 1:\n",
        "            cadastrar()\n",
        "        elif op == 2:\n",
        "            visualizar()\n",
        "        else:\n",
        "            print(\"Programa finalizado com sucesso!\")\n",
        "            break\n",
        "        op = menu()\n",
        "\n",
        "main()"
      ]
    },
    {
      "cell_type": "markdown",
      "metadata": {
        "id": "4zGuLRRXt0D_"
      },
      "source": [
        "### 4. Baixe o arquivo futebol.txt que esta na pasta Material do aula do Teams. Leia este arquivo e o apresente. Com os dados lidos, armazene na estrutura Futebol (posicao_jogo, altura, peso, imc), calcule o IMC (Índice de Massa Corporal), armazene na estrutura e também em outro arquivo, mas agora chamado futebol_imc.txt. Apresente este novo arquivo.\n",
        "Observação: esse exercício deve ser carregado o arquivo futebol.txt, aqui no Colab, no menu (ícone pasta) do lado esquerdo, que estará disponível no Classroom."
      ]
    },
    {
      "cell_type": "code",
      "execution_count": null,
      "metadata": {
        "id": "nU0x1v2Vt1-w",
        "colab": {
          "base_uri": "https://localhost:8080/"
        },
        "outputId": "70261313-bc09-4e56-ca2a-1ae8d5db0149"
      },
      "outputs": [
        {
          "output_type": "stream",
          "name": "stdout",
          "text": [
            "Posição         Altura          Peso           \n",
            "Zagueiro        1.79            78.0           \n",
            "Zagueiro        1.78            85.0           \n",
            "Meio campo      1.75            71.1           \n",
            "Meio campo      1.81            73.5           \n",
            "Meio campo      1.75            73.5           \n",
            "Goleiro         1.85            81.0           \n",
            "Atacante        1.87            81.7           \n",
            "Atacante        1.65            55.5           \n",
            "Atacante        1.78            77.9           \n",
            "Lateral         1.70            66.0           \n",
            "Lateral         1.74            63.7           \n",
            "\n",
            "Posição    IMC\n",
            "Zagueiro = 24.34\n",
            "\n",
            "Zagueiro = 26.83\n",
            "\n",
            "Meio campo = 23.22\n",
            "\n",
            "Meio campo = 22.44\n",
            "\n",
            "Meio campo = 24.00\n",
            "\n",
            "Goleiro = 23.67\n",
            "\n",
            "Atacante = 23.36\n",
            "\n",
            "Atacante = 20.39\n",
            "\n",
            "Atacante = 24.59\n",
            "\n",
            "Lateral = 22.84\n",
            "\n",
            "Lateral = 21.04\n",
            "\n"
          ]
        }
      ],
      "source": [
        "class tipoJogador:\n",
        "    posicao_jogo = ''\n",
        "    altura = 0.0\n",
        "    peso = 0.0\n",
        "    imc = 0.0\n",
        "\n",
        "def apresentacao():\n",
        "    arquivo = open('/content/drive/MyDrive/Classroom/232-LP noite/futebol.txt', 'r')\n",
        "    print(f\"{'Posição':<15} {'Altura':<15} {'Peso':<15}\")\n",
        "    for linha in arquivo.readlines():\n",
        "        posicao, altura, peso = linha.strip().split(',')\n",
        "        print(f\"{posicao:<15} {altura:<15} {peso:<15}\")\n",
        "    arquivo.close()\n",
        "\n",
        "def calcular_imc():\n",
        "    arquivo = open('/content/drive/MyDrive/Classroom/232-LP noite/futebol.txt', 'r')\n",
        "    arquivo_imc = open('futebol_imc.txt', 'w')\n",
        "    for linha in arquivo.readlines():\n",
        "        posicao_jogador, altura_jogador, peso_jogador = linha.strip().split(',')\n",
        "        j = tipoJogador()\n",
        "        j.posicao_jogo = posicao_jogador\n",
        "        j.altura = float(altura_jogador)\n",
        "        j.peso = float(peso_jogador)\n",
        "        j.imc = j.peso / j.altura ** 2\n",
        "        arquivo_imc.write(f\"{j.posicao_jogo} = {j.imc:.2f}\\n\")\n",
        "    arquivo.close()\n",
        "    arquivo_imc.close()\n",
        "\n",
        "def apresentacao_imc():\n",
        "    arquivo_imc = open('futebol_imc.txt', 'r')\n",
        "    print(f\"\\n{'Posição':<10} IMC\")\n",
        "    for linha in arquivo_imc.readlines():\n",
        "        print(linha)\n",
        "    arquivo_imc.close()\n",
        "\n",
        "def main():\n",
        "    apresentacao()\n",
        "    calcular_imc()\n",
        "    apresentacao_imc()\n",
        "\n",
        "main()"
      ]
    },
    {
      "cell_type": "code",
      "source": [
        "from google.colab import drive\n",
        "drive.mount('/content/drive')"
      ],
      "metadata": {
        "colab": {
          "base_uri": "https://localhost:8080/"
        },
        "id": "DyNibad11KoE",
        "outputId": "60591fd8-4c5f-4bde-8a13-09906b0455ff"
      },
      "execution_count": null,
      "outputs": [
        {
          "output_type": "stream",
          "name": "stdout",
          "text": [
            "Mounted at /content/drive\n"
          ]
        }
      ]
    }
  ],
  "metadata": {
    "colab": {
      "provenance": [],
      "include_colab_link": true
    },
    "kernelspec": {
      "display_name": "Python 3",
      "name": "python3"
    }
  },
  "nbformat": 4,
  "nbformat_minor": 0
}