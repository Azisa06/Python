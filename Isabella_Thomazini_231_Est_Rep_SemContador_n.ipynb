{
  "nbformat": 4,
  "nbformat_minor": 0,
  "metadata": {
    "colab": {
      "provenance": [],
      "include_colab_link": true
    },
    "kernelspec": {
      "name": "python3",
      "display_name": "Python 3"
    }
  },
  "cells": [
    {
      "cell_type": "markdown",
      "metadata": {
        "id": "view-in-github",
        "colab_type": "text"
      },
      "source": [
        "<a href=\"https://colab.research.google.com/github/Azisa06/Python/blob/main/Isabella_Thomazini_231_Est_Rep_SemContador_n.ipynb\" target=\"_parent\"><img src=\"https://colab.research.google.com/assets/colab-badge.svg\" alt=\"Open In Colab\"/></a>"
      ]
    },
    {
      "cell_type": "markdown",
      "metadata": {
        "id": "E64RcqHIMXAS"
      },
      "source": [
        "### **EXERCÍCIOS DE ESTRUTURA DE REPETIÇÃO SEM CONTADOR**\n"
      ]
    },
    {
      "cell_type": "markdown",
      "metadata": {
        "id": "_q0kBpMGMbRF"
      },
      "source": [
        "###1. Construir um algoritmo para calcular e apresentar o total de salários pagos de funcionários, mas não é informado a quantidade de pessoas, então use como critério de parada (condição da estrutura de repetição, digitar zero no salário para sair.\n"
      ]
    },
    {
      "cell_type": "code",
      "metadata": {
        "id": "uLE2w6-aMadI",
        "colab": {
          "base_uri": "https://localhost:8080/"
        },
        "outputId": "6a52c1a3-24a2-4076-eaec-278f2ad22625"
      },
      "source": [
        "total = 0\n",
        "salario = float(input(\"informe o salário: \"))\n",
        "while salario > 0:\n",
        "    total += salario\n",
        "    salario = float(input(\"informe o salário: \"))\n",
        "print(f'Total de salário R${total:.2f}')"
      ],
      "execution_count": null,
      "outputs": [
        {
          "output_type": "stream",
          "name": "stdout",
          "text": [
            "informe o salário: 3000\n",
            "informe o salário: 5000\n",
            "informe o salário: 1000\n",
            "informe o salário: 2550\n",
            "informe o salário: 0\n",
            "Total de salário R$11550.00\n"
          ]
        }
      ]
    },
    {
      "cell_type": "code",
      "source": [
        "# GAMBIARRA ...\n",
        "total = 0\n",
        "salario = 1\n",
        "while salario > 0:\n",
        "    salario = float(input('informe o salário'))\n",
        "    if salario > 0:   # faz com que não haja soma de número negativo no total\n",
        "        total += salario\n",
        "print(f'Total de salário R${total:.2f}')"
      ],
      "metadata": {
        "colab": {
          "base_uri": "https://localhost:8080/"
        },
        "id": "ImgBdf_ObB0E",
        "outputId": "d90ef261-a808-44fc-c6f6-3ff39b5775f2"
      },
      "execution_count": null,
      "outputs": [
        {
          "output_type": "stream",
          "name": "stdout",
          "text": [
            "Informe o salário... 1000\n",
            "Informe o salário... 2000\n",
            "Informe o salário... 5000\n",
            "Informe o salário... -10\n",
            "O total de salários pagos é 7990.0\n"
          ]
        }
      ]
    },
    {
      "cell_type": "markdown",
      "metadata": {
        "id": "y7gc7ImtKBee"
      },
      "source": [
        "###2. Faça um programa que receba a altura de 5 pessoas. Encontre e apresente a altura da pessoa mais alta e da mais baixa e seus respectivos nomes."
      ]
    },
    {
      "cell_type": "code",
      "metadata": {
        "id": "r3DxVv2mKIcR",
        "colab": {
          "base_uri": "https://localhost:8080/"
        },
        "outputId": "757ac48a-df7f-4e78-bacf-6c867fba3ff8"
      },
      "source": [
        "for pessoas in range(5):\n",
        "    altura = float(input('Informe a altura: '))\n",
        "    nome = input('Informe o nome: ')\n",
        "    # dica de implementação, inicializar as variáveis de menor e maior\n",
        "    # valor dentro do laço de repetição, quando você souber, quantas\n",
        "    # vezes repete\n",
        "    if pessoas == 0:\n",
        "        alto = altura\n",
        "        nomea = nome\n",
        "        baixo = altura\n",
        "        nomeb = nome\n",
        "    if altura >= alto:\n",
        "        alto = altura\n",
        "        nomea = nome\n",
        "    elif altura <= baixo:\n",
        "        baixo = altura\n",
        "        nomeb = nome\n",
        "print(nomea,'é mais alto, com',alto,'metros')\n",
        "print(nomeb,'é mais baixo, com',baixo,'metros')"
      ],
      "execution_count": null,
      "outputs": [
        {
          "output_type": "stream",
          "name": "stdout",
          "text": [
            "Informe a altura: 1.78\n",
            "Informe o nome: Lucas\n",
            "Informe a altura: 1.8\n",
            "Informe o nome: Andres\n",
            "Informe a altura: 1.75\n",
            "Informe o nome: Felipe\n",
            "Informe a altura: 1.8\n",
            "Informe o nome: Edivaldo\n",
            "Informe a altura: 1.65\n",
            "Informe o nome: Patricia\n",
            "Edivaldo é mais alto, com 1.8 metros\n",
            "Patricia é mais baixo, com 1.65 metros\n"
          ]
        }
      ]
    },
    {
      "cell_type": "markdown",
      "metadata": {
        "id": "Dk1zCWGbJezq"
      },
      "source": [
        "###3. Faça um programa que receba a altura de várias pessoas. Encontre e apresente a altura da pessoa mais alta e da mais baixa e seus respectivos nomes. Para encerrar a entrada de dados, zero na altura, mas esta não poderá ser considerada como resposta da altura da pessoa mais baixa.\n"
      ]
    },
    {
      "cell_type": "code",
      "source": [
        "altura = float(input('Informe a altura: '))\n",
        "alto = 0\n",
        "baixo = 3\n",
        "while altura > 0:\n",
        "    nome = input('Informe o nome: ')\n",
        "    if altura >= alto:\n",
        "        alto = altura\n",
        "        nomea = nome\n",
        "    if altura <= baixo:\n",
        "        baixo = altura\n",
        "        nomeb = nome\n",
        "    altura = float(input('Informe a altura: '))\n",
        "print(nomea,'é mais alto, com',alto,'metros')\n",
        "print(nomeb,'é mais baixo, com',baixo,'metros')"
      ],
      "metadata": {
        "id": "UIb_tZaierh0"
      },
      "execution_count": null,
      "outputs": []
    },
    {
      "cell_type": "markdown",
      "metadata": {
        "id": "mWl0IWlJNEtA"
      },
      "source": [
        "###4. Faça um programa que receba a idade e a altura de várias pessoas. Calcule e exiba a média das alturas das pessoas com mais de 20 anos. Para encerrar a entrada de dados, digite uma idade negativa ou igual a zero.\n",
        "\n",
        "\n"
      ]
    },
    {
      "cell_type": "code",
      "metadata": {
        "id": "IcSBSaDV8sO_",
        "colab": {
          "base_uri": "https://localhost:8080/"
        },
        "outputId": "d284e320-6243-4c9b-e11f-0c8ba3a1ab2f"
      },
      "source": [
        "soma = 0\n",
        "maiores = 0\n",
        "idade = int(input('Digite a idade...: '))\n",
        "while idade > 0:\n",
        "    altura = float(input('Digite a altura: '))\n",
        "    if idade > 20:\n",
        "        maiores += 1\n",
        "        soma += altura\n",
        "    idade = int(input('Digite a idade: '))\n",
        "if maiores > 0:\n",
        "    media = soma / maiores\n",
        "\n",
        "    print(f\"A média das alturas das pessoas maiores de 20 anos é = {media:.2f}\")"
      ],
      "execution_count": null,
      "outputs": [
        {
          "output_type": "stream",
          "name": "stdout",
          "text": [
            "Digite a idade...: 21\n",
            "Digite a altura: 1.8\n",
            "Digite a idade: 15\n",
            "Digite a altura: 1.7\n",
            "Digite a idade: 30\n",
            "Digite a altura: 1.9\n",
            "Digite a idade: 0\n",
            "A média das alturas das pessoas maiores de 20 anos é = 1.85\n"
          ]
        }
      ]
    },
    {
      "cell_type": "markdown",
      "metadata": {
        "id": "14hzaqH38V53"
      },
      "source": [
        "###5. Construir um algoritmo para calcular e apresentar a idade atual de algumas pessoas em relação ao ano atual, mas não é informado a quantidade de pessoas, então use como critério de parada (condição da estrutura de repetição, digitar zero no ano de nascimento para sair."
      ]
    },
    {
      "cell_type": "code",
      "metadata": {
        "id": "XxrUc9yWND8a",
        "colab": {
          "base_uri": "https://localhost:8080/"
        },
        "outputId": "03a1e411-373a-49b1-cd8a-478b8b54c528"
      },
      "source": [
        "ano = int(input(\"Digite o ano de nascimento: \"))\n",
        "while ano > 0:\n",
        "    idade = 2023 - ano\n",
        "    print(\"Idade atual =\", idade)\n",
        "    ano = int(input(\"Digite o ano de nascimento: \"))"
      ],
      "execution_count": null,
      "outputs": [
        {
          "name": "stdout",
          "output_type": "stream",
          "text": [
            "Digite o ano de nascimento: 2002\n",
            "Idade atual = 21\n",
            "Digite o ano de nascimento: 1999\n",
            "Idade atual = 24\n",
            "Digite o ano de nascimento: 0\n"
          ]
        }
      ]
    },
    {
      "cell_type": "markdown",
      "metadata": {
        "id": "inPGbmBaMe3R"
      },
      "source": [
        "###6. Faça um programa que receba um conjunto de valores inteiros, calcule e exiba o maior e o menor valor do conjunto.\n",
        "\n",
        "\n",
        "*   Para encerrar a entrada de dados, deve ser digitado o valor zero;\n",
        "*   Para valores negativos, deve ser enviada uma mensagem;\n",
        "*   Esses valores (zero e negativos) não entrarão na lógica de encontrar o maior e o menor valor.\n",
        "\n"
      ]
    },
    {
      "cell_type": "code",
      "metadata": {
        "id": "Q8ZKZyGLNxFf",
        "colab": {
          "base_uri": "https://localhost:8080/"
        },
        "outputId": "51ff6abd-1259-458b-df65-987caf362d1c"
      },
      "source": [
        "maior = 0\n",
        "menor = 100000000000\n",
        "numero = int(input(\"Digite um número inteiro: \"))\n",
        "while numero != 0:\n",
        "    if numero > 0:\n",
        "        if numero >= maior:\n",
        "            maior = numero\n",
        "        if numero <= menor:\n",
        "            menor = numero\n",
        "    else:\n",
        "        print(\"Valores negativos ou iguais a 0, não entram na lógica!\")\n",
        "    numero = int(input(\"Digite um número inteiro: \"))\n",
        "print(\"O maior número do conjunto é: \", maior)\n",
        "print(\"O menor número do conjunto é: \", menor)"
      ],
      "execution_count": null,
      "outputs": [
        {
          "output_type": "stream",
          "name": "stdout",
          "text": [
            "Digite um número inteiro: 10\n",
            "Digite um número inteiro: 20\n",
            "Digite um número inteiro: 55\n",
            "Digite um número inteiro: 100\n",
            "Digite um número inteiro: 1\n",
            "Digite um número inteiro: -90\n",
            "Valores negativos ou iguais a 0, não entram na lógica!\n",
            "Digite um número inteiro: 0\n",
            "O maior número do conjunto é:  100\n",
            "O menor número do conjunto é:  1\n"
          ]
        }
      ]
    },
    {
      "cell_type": "markdown",
      "metadata": {
        "id": "ZG-AZwwLN4Vf"
      },
      "source": [
        "###7. No final do ano muitas pessoas compram presentes. Faça um programa que registre alguns dados das pessoas, usando como critério de parada a letra ‘n’, para a pergunta “Deseja cadastrar outro (‘s’/’n’)?”, para identificar o perfil dos compradores numa loja de roupas e apresente como resultado a:\n",
        "a)   Quantidade de mulheres e de homens;\n",
        "\n",
        "b)   Quantidade de mulheres e de homens abaixo e acima de 18 anos."
      ]
    },
    {
      "cell_type": "code",
      "metadata": {
        "id": "t4jNff-_N9xR",
        "colab": {
          "base_uri": "https://localhost:8080/"
        },
        "outputId": "e7bc792b-0068-4818-b03c-169c412757a2"
      },
      "source": [
        "homens = 0\n",
        "mulheres = 0\n",
        "m_maiores = 0\n",
        "m_menores = 0\n",
        "h_maiores = 0\n",
        "h_menores = 0\n",
        "cadastro = input(\"Deseja cadastrar outro comprador (s/n)?\")\n",
        "while cadastro != \"n\":\n",
        "    genero = input(\"Digite o gênero (f/m): \")\n",
        "    idade = int(input(\"Digite a idade: \"))\n",
        "    if genero == \"f\":\n",
        "        mulheres += 1\n",
        "        if idade > 18:\n",
        "            m_maiores += 1\n",
        "        else:\n",
        "            m_menores += 1\n",
        "    elif genero == \"m\":\n",
        "        homens += 1\n",
        "        if idade > 18:\n",
        "            h_maiores += 1\n",
        "        else:\n",
        "                h_menores += 1\n",
        "    cadastro = input(\"Deseja cadastrar outro comprador (s/n)?\")\n",
        "print(\"Mulheres =\", mulheres, \"Maiores de idade =\", m_maiores, \"Menores de idade=\", m_menores)\n",
        "print(\"Homens =\", homens, \"Maiores de idade =\", h_maiores, \"Menores de idade=\", h_menores)"
      ],
      "execution_count": null,
      "outputs": [
        {
          "output_type": "stream",
          "name": "stdout",
          "text": [
            "Deseja cadastrar outro comprador (s/n)?s\n",
            "Digite o gênero (f/m): f\n",
            "Digite a idade: 33\n",
            "Deseja cadastrar outro comprador (s/n)?s\n",
            "Digite o gênero (f/m): m\n",
            "Digite a idade: 55\n",
            "Deseja cadastrar outro comprador (s/n)?s\n",
            "Digite o gênero (f/m): f\n",
            "Digite a idade: 11\n",
            "Deseja cadastrar outro comprador (s/n)?s\n",
            "Digite o gênero (f/m): f\n",
            "Digite a idade: 25\n",
            "Deseja cadastrar outro comprador (s/n)?n\n",
            "Mulheres = 3 Maiores de idade = 2 Menores de idade= 1\n",
            "Homens = 1 Maiores de idade = 1 Menores de idade= 0\n"
          ]
        }
      ]
    }
  ]
}