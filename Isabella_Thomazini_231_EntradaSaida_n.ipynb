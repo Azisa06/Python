{
  "nbformat": 4,
  "nbformat_minor": 0,
  "metadata": {
    "colab": {
      "provenance": [],
      "include_colab_link": true
    },
    "kernelspec": {
      "name": "python3",
      "display_name": "Python 3"
    }
  },
  "cells": [
    {
      "cell_type": "markdown",
      "metadata": {
        "id": "view-in-github",
        "colab_type": "text"
      },
      "source": [
        "<a href=\"https://colab.research.google.com/github/Azisa06/Python/blob/main/Isabella_Thomazini_231_EntradaSaida_n.ipynb\" target=\"_parent\"><img src=\"https://colab.research.google.com/assets/colab-badge.svg\" alt=\"Open In Colab\"/></a>"
      ]
    },
    {
      "cell_type": "markdown",
      "metadata": {
        "id": "5gti273fgVUm"
      },
      "source": [
        "# Exercícios para construir programas com ENTRADA, PROCESSAMENTO e SAÍDA"
      ]
    },
    {
      "cell_type": "code",
      "source": [],
      "metadata": {
        "colab": {
          "base_uri": "https://localhost:8080/"
        },
        "id": "PufqlVddT3Ur",
        "outputId": "e47ecd75-999b-4077-c4ae-aaa5ad74eef3"
      },
      "execution_count": null,
      "outputs": [
        {
          "output_type": "execute_result",
          "data": {
            "text/plain": [
              "2"
            ]
          },
          "metadata": {},
          "execution_count": 5
        }
      ]
    },
    {
      "cell_type": "markdown",
      "metadata": {
        "id": "OhRjsGO5gXft"
      },
      "source": [
        "### 1. Faça um programa que leia um número, multiplique ele por 2 e apresente o resultado.\n",
        "      LEIA nume\n",
        "      resultado = numero * 2\n",
        "      ESCREVA resultado"
      ]
    },
    {
      "cell_type": "code",
      "metadata": {
        "id": "gl_HmcKjgIgH",
        "colab": {
          "base_uri": "https://localhost:8080/"
        },
        "outputId": "923df5a3-572a-4665-dd90-5609e5df1c57"
      },
      "source": [
        "# 1º passo - identificar a(s) entrada(s) - variável número\n",
        "numero = int(input('Informe um valor......: '))\n",
        "\n",
        "# 2º passo - identificar o processamento/cálculo\n",
        "resultado = numero * 2\n",
        "\n",
        "# 3º passo - apresentar a(s) variáveis que foram calculadas\n",
        "print('A soma é=',resultado)"
      ],
      "execution_count": null,
      "outputs": [
        {
          "output_type": "stream",
          "name": "stdout",
          "text": [
            "Informe um valor......: 3\n",
            "A soma é= 6\n"
          ]
        }
      ]
    },
    {
      "cell_type": "markdown",
      "metadata": {
        "id": "tYDfNkC3geee"
      },
      "source": [
        "### 2. Faça um programa que:\n",
        "* receba três números inteiros\n",
        "* calcule e mostre a soma desses números.\n"
      ]
    },
    {
      "cell_type": "code",
      "metadata": {
        "id": "KVDopJZngcRf",
        "colab": {
          "base_uri": "https://localhost:8080/"
        },
        "outputId": "5440c4d8-f9b1-4d12-8321-0a4a7b8d6068"
      },
      "source": [
        "n1 = int(input(\"Informe o primeiro valor: \"))\n",
        "n2 = int(input(\"Informe o segundo valor: \"))\n",
        "n3 = int(input(\"Informe o terceiro valor: \"))\n",
        "\n",
        "resultado = n1 + n2 + n3\n",
        "\n",
        "print(\"A soma é: \", resultado)"
      ],
      "execution_count": null,
      "outputs": [
        {
          "output_type": "stream",
          "name": "stdout",
          "text": [
            "Informe o primeiro valor: 10\n",
            "Informe o segundo valor: 11\n",
            "Informe o terceiro valor: 57\n",
            "A soma é:  78\n"
          ]
        }
      ]
    },
    {
      "cell_type": "markdown",
      "metadata": {
        "id": "lMGZBLxfghBl"
      },
      "source": [
        "### 3. Faça um programa que receba três notas, calcule e mostre a média aritmética.     "
      ]
    },
    {
      "cell_type": "code",
      "metadata": {
        "id": "awkP7ZbHgxRO",
        "colab": {
          "base_uri": "https://localhost:8080/"
        },
        "outputId": "dbfba1e5-ef3c-4fc4-da78-4112039b5990"
      },
      "source": [
        "nota1 = float(input(\"Informe a primeira nota: \"))\n",
        "nota2 = float(input(\"Informe a segunda nota: \"))\n",
        "nota3 = float(input(\"Informe a terceira nota: \"))\n",
        "\n",
        "media = (nota1 + nota2 + nota3)/3\n",
        "\n",
        "print(\"A média aritmética das notas é \", media)"
      ],
      "execution_count": null,
      "outputs": [
        {
          "output_type": "stream",
          "name": "stdout",
          "text": [
            "Informe a primeira nota: 9.3\n",
            "Informe a segunda nota: 6.1\n",
            "Informe a terceira nota: 8\n",
            "A média aritmética das notas é  7.8\n"
          ]
        }
      ]
    },
    {
      "cell_type": "markdown",
      "metadata": {
        "id": "wh1Bjz9agxme"
      },
      "source": [
        "### 4. Faça um programa que:\n",
        "* receba o salário de um funcionário\n",
        "* calcule e mostre o novo salário, sabendo-se que este sofreu um aumento de 25%.\n",
        "\n",
        "      LEIA salario\n",
        "      novoSalario = salario + (salario * 25 / 100)\n",
        "      ESCREVA novoSalario"
      ]
    },
    {
      "cell_type": "code",
      "metadata": {
        "id": "FxXwABFVgygE",
        "colab": {
          "base_uri": "https://localhost:8080/"
        },
        "outputId": "e4f8248e-9182-4104-ba08-1aff6a44730e"
      },
      "source": [
        "s1 = float(input(\"Digite seu salário: \"))\n",
        "s2 = s1 * 1.25\n",
        "\n",
        "print(\"O novo salário será: \", s2)"
      ],
      "execution_count": null,
      "outputs": [
        {
          "output_type": "stream",
          "name": "stdout",
          "text": [
            "Digite seu salário: 1550.5\n",
            "O novo salário será:  1938.125\n"
          ]
        }
      ]
    },
    {
      "cell_type": "markdown",
      "metadata": {
        "id": "YQP_f4hzgyrh"
      },
      "source": [
        "### 5. Faça um programa que receba o salário de um funcionário e o percentual de aumento, calcule e mostre o valor do aumento e o novo salário.\n"
      ]
    },
    {
      "cell_type": "code",
      "metadata": {
        "id": "9T2dzNEug1PR",
        "colab": {
          "base_uri": "https://localhost:8080/"
        },
        "outputId": "bef9ac53-26a9-4d4b-ae51-eafac238e63e"
      },
      "source": [
        "s1 = float(input(\"Digite seu salário: \"))\n",
        "percent = float(input(\"Digite o percentual de aumento: \"))\n",
        "aumento = percent * s1\n",
        "s2 = s1 + aumento\n",
        "\n",
        "print(\"O salário terá um aumento de:\", aumento)\n",
        "print(\"O novo salário será:\", s2)"
      ],
      "execution_count": null,
      "outputs": [
        {
          "output_type": "stream",
          "name": "stdout",
          "text": [
            "Digite seu salário: 1500\n",
            "Digite o percentual de aumento: 20\n",
            "O salário terá um aumento de: 30000.0\n",
            "O novo salário será: 31500.0\n"
          ]
        }
      ]
    },
    {
      "cell_type": "markdown",
      "metadata": {
        "id": "PXXsNWWEg1bu"
      },
      "source": [
        "### 6. Faça um programa que receba o salário base de um funcionário, calcule e mostre o salário a receber, sabendo-se que o funcionário tem gratificação de 5% sobre o salário base e **paga imposto** de 7% também sobre o salário base."
      ]
    },
    {
      "cell_type": "code",
      "metadata": {
        "id": "x7xfAIUgg5qV",
        "colab": {
          "base_uri": "https://localhost:8080/"
        },
        "outputId": "263f4afe-bc09-4e3b-fb51-e06c62cf3d49"
      },
      "source": [
        "salario_base = float(input(\"Digite o salário base:\"))\n",
        "salario_a_receber = (salario_base * 1.05) - (salario_base * 0.07)\n",
        "\n",
        "print(\"Valor do salário a receber:\", salario_a_receber)"
      ],
      "execution_count": null,
      "outputs": [
        {
          "output_type": "stream",
          "name": "stdout",
          "text": [
            "Digite o salário base:1000\n",
            "Valor do salário a receber: 980.0\n"
          ]
        }
      ]
    },
    {
      "cell_type": "markdown",
      "metadata": {
        "id": "wSkc33VHg50d"
      },
      "source": [
        "### 7. Faça um programa que receba o salário base de um funcionário, calcule e mostre seu salário a receber, sabendo-se que o funcionário tem gratificação de 50,00 sobre o salário base e **paga** imposto que deve ser lido e é aplicado sobre o salário base.\n",
        "\n",
        "    LEIA salario, perImposto\n",
        "    imposto = salario * perImposto / 100\n",
        "    salario_a_receber = salario + 50 - imposto\n",
        "    ESCREVA salario_a_receber"
      ]
    },
    {
      "cell_type": "code",
      "metadata": {
        "id": "rEwclxM7g8cj",
        "colab": {
          "base_uri": "https://localhost:8080/"
        },
        "outputId": "081b3074-4443-4922-ed57-a0a18ffacd83"
      },
      "source": [
        "perImposto = float(input(\"Valor do imposto:\"))\n",
        "salario = float(input(\"Digite o salário:\"))\n",
        "imposto = salario * perImposto / 100\n",
        "salario_a_receber = salario + 50 - imposto\n",
        "\n",
        "print(\"Salário a receber:\", salario_a_receber)"
      ],
      "execution_count": null,
      "outputs": [
        {
          "output_type": "stream",
          "name": "stdout",
          "text": [
            "Valor do imposto:20\n",
            "Digite o salário:1500\n",
            "Salário a receber: 1250.0\n"
          ]
        }
      ]
    },
    {
      "cell_type": "markdown",
      "metadata": {
        "id": "pvZSNjjzg8oq"
      },
      "source": [
        "### 8. Faça um programa que receba o valor de um depósito e o valor da taxa de juros, calcule e mostre o valor do rendimento e o valor total depois do rendimento de um mês.\n",
        "    rendimento = deposito * taxa / 100\n",
        "    total = deposito + rendimento"
      ]
    },
    {
      "cell_type": "code",
      "metadata": {
        "id": "k0zejQegg9ma",
        "colab": {
          "base_uri": "https://localhost:8080/"
        },
        "outputId": "acc6dff9-db11-4050-ffb7-86398110f022"
      },
      "source": [
        "deposito = float(input(\"Valor do depósito:\"))\n",
        "juros = float(input(\"Valor da taxa de juros:\"))\n",
        "rendimento = deposito * juros / 100\n",
        "total = deposito + rendimento\n",
        "\n",
        "print(\"Valor total depois do rent=dimento de um mês:\", total)"
      ],
      "execution_count": null,
      "outputs": [
        {
          "output_type": "stream",
          "name": "stdout",
          "text": [
            "Valor do depósito:2000\n",
            "Valor da taxa de juros:1\n",
            "Valor total depois do rent=dimento de um mês: 2020.0\n"
          ]
        }
      ]
    },
    {
      "cell_type": "markdown",
      "metadata": {
        "id": "z42ADdywg9xS"
      },
      "source": [
        "### 9. Faça um programa que calcule e mostre a área de um triângulo. Sabe-se que: Área = (base * altura) / 2."
      ]
    },
    {
      "cell_type": "code",
      "metadata": {
        "id": "F-yamLhahCTK",
        "colab": {
          "base_uri": "https://localhost:8080/"
        },
        "outputId": "88de2214-3db7-4c51-bc3a-79841d72c5fc"
      },
      "source": [
        "base = float(input(\"Digite a base do triângulo:\"))\n",
        "altura = float(input(\"Digite a altura do triângulo:\"))\n",
        "area = (base * altura) / 2\n",
        "\n",
        "print(\"Área do triângulo:\", area)"
      ],
      "execution_count": null,
      "outputs": [
        {
          "output_type": "stream",
          "name": "stdout",
          "text": [
            "Digite a base do triângulo:17\n",
            "Digite a altura do triângulo:25\n",
            "Área do triângulo 212.5\n"
          ]
        }
      ]
    },
    {
      "cell_type": "markdown",
      "metadata": {
        "id": "s4oSY4EghCfn"
      },
      "source": [
        "### 10. Faça um programa que calcule e mostre a área de um círculo. Sabe-se que:\n",
        "    area = pi * raio² ou\n",
        "    area = 3.1415 * raio²"
      ]
    },
    {
      "cell_type": "code",
      "metadata": {
        "id": "tvPiHGB0hE5N",
        "colab": {
          "base_uri": "https://localhost:8080/"
        },
        "outputId": "e28599bd-877b-4510-b6ec-3adafbb14417"
      },
      "source": [
        "raio = float(input(\"Informe o raio do círculo:\"))\n",
        "area = 3.1415 * (raio ** 2)\n",
        "\n",
        "print(\"Área do círculo:\", area)"
      ],
      "execution_count": null,
      "outputs": [
        {
          "output_type": "stream",
          "name": "stdout",
          "text": [
            "Informe o raio do círculo:10\n",
            "Área do círculo: 314.15000000000003\n"
          ]
        }
      ]
    },
    {
      "cell_type": "markdown",
      "metadata": {
        "id": "vTot3sXrhFAT"
      },
      "source": [
        "### 11. Faça um programa que receba um número, calcule e mostre:\n",
        "* O número digitado ao quadrado\n",
        "* O número digitado ao cubo\n",
        "* A raiz do número digitado\n",
        "* A raiz cúbica do número digitado\n",
        "\n",
        "      LEIA numero\n",
        "      quadrado = numero ** 2\n",
        "      cubo = numero ** 3\n",
        "      raiz_quadrada = numero ** (½) (meio, ou 0.5)\n",
        "      raiz_cubica = numero ** (⅓) (um terço, ou 0.33)\n",
        "      ESCREVA quadrado, cubo, raiz_quadrada, raiz_cubica\n",
        "\n",
        "\n",
        "      raiz_quadrada = numero ** (1/2) ou\n",
        "      raiz_quadrada = numero ** 0.5"
      ]
    },
    {
      "cell_type": "code",
      "metadata": {
        "id": "TT0-h8nChILi",
        "colab": {
          "base_uri": "https://localhost:8080/"
        },
        "outputId": "5d426931-5613-4a1c-8507-184b1ee5b7d1"
      },
      "source": [
        "numero = float(input(\"Digite um número:\"))\n",
        "quadrado = numero ** 2\n",
        "cubo = numero ** 3\n",
        "raiz_quadrada = numero ** 0.5\n",
        "raiz_cubica = numero ** 0.33\n",
        "\n",
        "print(numero, \"ao quadrado:\", quadrado)\n",
        "print(numero, \"ao cubo:\", cubo)\n",
        "print(\"Raíz quadrada de\", numero,\":\", raiz_quadrada)\n",
        "print(\"Raíz cubica de\", numero, \":\", raiz_cubica)\n"
      ],
      "execution_count": null,
      "outputs": [
        {
          "output_type": "stream",
          "name": "stdout",
          "text": [
            "Digite um número:25\n",
            "25.0 ao quadrado: 625.0\n",
            "25.0 ao cubo: 15625.0\n",
            "Raíz quadrada de 25.0 : 5.0\n",
            "Raíz cubica de 25.0 : 2.8928119501548286\n"
          ]
        }
      ]
    },
    {
      "cell_type": "markdown",
      "metadata": {
        "id": "6w8k1c0ShIWK"
      },
      "source": [
        "### 12. Faça um programa que receba dois números, calcule e mostre um elevado ao outro. Use os caracteres **\n"
      ]
    },
    {
      "cell_type": "code",
      "metadata": {
        "id": "2KMY_7MQhKuf",
        "colab": {
          "base_uri": "https://localhost:8080/"
        },
        "outputId": "161cb2fe-a0b9-4603-99ec-bc3db03d7c7e"
      },
      "source": [
        "n1 = float(input(\"Digite o primeiro número:\"))\n",
        "n2 = float(input(\"Digite o segundo número:\"))\n",
        "resultado = n1 ** n2\n",
        "\n",
        "print(n1, \"elevado a\", n2, \"=\", resultado)"
      ],
      "execution_count": null,
      "outputs": [
        {
          "output_type": "stream",
          "name": "stdout",
          "text": [
            "Digite o primeiro número:3\n",
            "Digite o segundo número:2\n",
            "3.0 elevado a 2.0 = 9.0\n"
          ]
        }
      ]
    },
    {
      "cell_type": "markdown",
      "metadata": {
        "id": "IKp4FbUQhK3f"
      },
      "source": [
        "### 13. Sabe-se que:\n",
        "\n",
        "* pé = 12 polegadas\n",
        "* 1 jarda = 3 pés\n",
        "* 1 milha = 1760 jarda\n",
        "\n",
        "Faça um programa que receba uma medida em pés, faça as conversões a seguir e mostre os resultados.\n",
        "\n",
        "* Polegadas;\n",
        "* Jardas;\n",
        "* Milhas.\n",
        "\n",
        "      LEIA pes\n",
        "      polegadas = pes * 12\n",
        "      jardas = pes / 3\n",
        "      milhas = jardas / 1760\n",
        "      ESCREVA polegadas, jardas, milhas"
      ]
    },
    {
      "cell_type": "code",
      "metadata": {
        "id": "RIaq7VtchNNp",
        "colab": {
          "base_uri": "https://localhost:8080/"
        },
        "outputId": "1347b961-1c2a-4cf7-baeb-581e6c0fa676"
      },
      "source": [
        "pes = float(input(\"Digite uma medida em pés:\"))\n",
        "polegadas = pes * 12\n",
        "jardas = pes / 3\n",
        "milhas = jardas / 1760\n",
        "\n",
        "print(\"Polegadas=\", polegadas)\n",
        "print(\"Jardas=\", jardas)\n",
        "print(\"Milhas=\", milhas)"
      ],
      "execution_count": null,
      "outputs": [
        {
          "output_type": "stream",
          "name": "stdout",
          "text": [
            "Digite uma medida em pés:3\n",
            "Polegadas= 36.0\n",
            "Jardas= 1.0\n",
            "Milhas= 0.0005681818181818182\n"
          ]
        }
      ]
    },
    {
      "cell_type": "markdown",
      "metadata": {
        "id": "AuDRKznFhNXx"
      },
      "source": [
        "### 14. Faça um programa que receba o ano de nascimento de uma pessoa e o ano atual, calcule e mostre:\n",
        "* a idade atual da pessoa;\n",
        "* quantos anos ela terá em 2050."
      ]
    },
    {
      "cell_type": "code",
      "metadata": {
        "id": "OMzeO-7bhOGb",
        "colab": {
          "base_uri": "https://localhost:8080/"
        },
        "outputId": "83397e40-1f3e-4118-bc68-1e135ef3cd2b"
      },
      "source": [
        "ano = int(input(\"Infome o ano de nascimento:\"))\n",
        "ano_atual = int(input(\"Informe o ano atual:\"))\n",
        "idade = ano_atual - ano\n",
        "idade_em_2050 = 2050 - ano\n",
        "\n",
        "print(\"Idade atual:\", idade)\n",
        "print(\"Idade em 2050:\", idade_em_2050)"
      ],
      "execution_count": null,
      "outputs": [
        {
          "output_type": "stream",
          "name": "stdout",
          "text": [
            "Infome o ano de nascimento:2002\n",
            "Informe o ano atual:2023\n",
            "Idade atual: 21\n",
            "Idade em 2050: 48\n"
          ]
        }
      ]
    },
    {
      "cell_type": "markdown",
      "metadata": {
        "id": "C23LWTfwhOPH"
      },
      "source": [
        "#### 15. O custo ao consumidor de um carro novo é a soma do preço de fábrica com o percentual de lucro do distribuidor e dos impostos aplicados ao preço de fábrica. Faça um programa que receba o preço de fábrica de um veículo, o percentual de lucro do distribuidor e o percentual de impostos, calcule e mostre:\n",
        "* o valor correspondente ao lucro do distribuidor;\n",
        "* o valor correspondente aos impostos;\n",
        "* o preço final do veículo.\n",
        "        LEIA preco_fabrica\n",
        "        LEIA percentual_lucro_distribuidor\n",
        "        LEIA percentual_imposto\n",
        "        lucro_distribuidor = preco_fabrica * percentual_lucro_distribuidor / 100\n",
        "        valor_imposto = preco_fabrica * percentual_imposto / 100\n",
        "        preco_final = preco_fabrica + lucro_distribuidor + valor_imposto\n",
        "        ESCREVA lucro_distribuidor\n",
        "        ESCREVA valor_imposto\n",
        "        ESCREVA preco_final\n"
      ]
    },
    {
      "cell_type": "code",
      "metadata": {
        "id": "WCpDCuR6hRlb",
        "colab": {
          "base_uri": "https://localhost:8080/"
        },
        "outputId": "4144842f-a9a6-4634-b339-f70fe9dd69d2"
      },
      "source": [
        "preco_fabrica = float(input(\"Digite o preço de fábrica: \"))\n",
        "lucro = float(input(\"Digite o percentual de lucro do distribuidor: \"))\n",
        "imposto = float(input(\"Digite o percentual de impostos: \"))\n",
        "lucro_distribuidor = preco_fabrica * lucro / 100\n",
        "valor_imposto = preco_fabrica * imposto / 100\n",
        "preco_final = preco_fabrica + lucro_distribuidor + valor_imposto\n",
        "\n",
        "print(\"O lucro do distribuidor é \", lucro_distribuidor)\n",
        "print(\"O valor total dos impostos é \", valor_imposto)\n",
        "print(\"O preço final do veíulo é \", preco_final)"
      ],
      "execution_count": null,
      "outputs": [
        {
          "output_type": "stream",
          "name": "stdout",
          "text": [
            "Digite o preço de fábrica: 50000\n",
            "Digite o percentual de lucro do distribuidor: 5000\n",
            "Digite o percentual de impostos: 10\n",
            "O lucro do distribuidor é  2500000.0\n",
            "O valor total dos impostos é  5000.0\n",
            "O preço final do veíulo é  2555000.0\n"
          ]
        }
      ]
    },
    {
      "cell_type": "markdown",
      "metadata": {
        "id": "eHRob5vghRuI"
      },
      "source": [
        "### 16. Faça um programa que receba o número de horas trabalhadas e o valor do salário mínimo, calcule e mostre o salário a receber, seguindo estas regras:\n",
        "* a hora trabalhada vale a metade do salário mínimo.\n",
        "* o salário bruto equivale ao número de horas trabalhadas multiplicado pelo valor da hora trabalhada.\n",
        "* o imposto equivale a 3% do salário bruto.\n",
        "* o salário a receber equivale ao salário bruto menos o imposto.\n",
        "      LEIA qtde_horas_trabalhadas\n",
        "      LEIA valor_salario_minimo\n",
        "      valor_hora_trabalhada = valor_salario_minimo / 2\n",
        "      valor_salario_bruto = valor_hora_trabalhada * qtde_horas_trabalhadas\n",
        "      imposto = valor_salario_bruto * 3 / 100\n",
        "      valor_salario_liquido =  valor_salario_bruto - imposto\n",
        "      ESCREVA valor_salario_liquido"
      ]
    },
    {
      "cell_type": "code",
      "metadata": {
        "id": "w_Kil4knhVrJ",
        "colab": {
          "base_uri": "https://localhost:8080/"
        },
        "outputId": "fc0212f5-2e02-482f-b597-45fbf2b69f8d"
      },
      "source": [
        "horas = float(input(\"Digite a quantidade de horas trabalhadas:\"))\n",
        "salario = float(input(\"Digite o valor do salário mínimo:\"))\n",
        "\n",
        "valor_hora = salario / 2\n",
        "salario_bruto = valor_hora * horas\n",
        "imposto = salario_bruto * 0.03\n",
        "salario_liquido = salario_bruto - imposto\n",
        "print(\"O salário a receber é:\", salario_liquido)"
      ],
      "execution_count": null,
      "outputs": [
        {
          "output_type": "stream",
          "name": "stdout",
          "text": [
            "Digite a quantidade de horas trabalhadas:8\n",
            "Digite o valor do salário mínimo:1200\n",
            "O salário a receber é: 4656.0\n"
          ]
        }
      ]
    },
    {
      "cell_type": "markdown",
      "metadata": {
        "id": "0OW87yEnhV-V"
      },
      "source": [
        "### 17. Um trabalhador recebeu seu salário e o depositou em sua conta bancária. Esse trabalhador emitiu dois cheques e agora deseja saber seu saldo atual. O banco criou uma taxa para a operação bancária de retirada que tem que pagar um imposto de 0.38% e o saldo inicial da conta está zerado.\n",
        "\n",
        "      LEIA salario\n",
        "      LEIA valor_cheque1\n",
        "      LEIA valor_cheque2\n",
        "      imposto_cheque1 = valor_cheque1 * 0.38 / 100\n",
        "      saque1 = valor_cheque1 + imposto_cheque1\n",
        "      imposto_cheque2 = valor_cheque2 * 0.38 / 100\n",
        "      saque2 = valor_cheque2 + imposto_cheque2\n",
        "      saldo = salario - saque1 - saque2\n",
        "      ESCREVA saldo\n"
      ]
    },
    {
      "cell_type": "code",
      "metadata": {
        "id": "MUEC63qMhYu1",
        "colab": {
          "base_uri": "https://localhost:8080/"
        },
        "outputId": "45ed1b80-0e77-4db1-d2ed-00bb161dd1ab"
      },
      "source": [
        "salario = float(input(\"Digite o salário:\"))\n",
        "cheque1 = float(input(\"Digite o valor do primeiro cheque:\"))\n",
        "cheque2 = float(input(\"Digite o valor do segundo cheque: \"))\n",
        "imposto_cheque1 = cheque1 * 0.0038\n",
        "saque1 = cheque1 + imposto_cheque1\n",
        "imposto_cheque2 = cheque2 * 0.0038\n",
        "saque2 = cheque2 + imposto_cheque2\n",
        "saldo = salario - saque1 - saque2\n",
        "print(f\"O saldo atual é R$ {saldo:.2f}\")"
      ],
      "execution_count": null,
      "outputs": [
        {
          "output_type": "stream",
          "name": "stdout",
          "text": [
            "Digite o salário:9000\n",
            "Digite o valor do primeiro cheque:200\n",
            "Digite o valor do segundo cheque: 290\n",
            "O saldo atual é R$ 8508.14\n"
          ]
        }
      ]
    },
    {
      "cell_type": "markdown",
      "metadata": {
        "id": "tbHb8qiYheU3"
      },
      "source": [
        "### 18. Faça um programa que receba a medida do ângulo (em graus) formado por uma escada apoiada no chão e encostada na parede e a altura da parede onde está a ponta da escada. Calcule e mostre a medida dessa escada. Observação: as funções trigonométricas implementadas nas linguagens de programação trabalham com medidas de ângulos em radianos.\n",
        "      LEIA angulo\n",
        "      LEIA altura\n",
        "      import math # carrega a biblioteca matemática\n",
        "      radiano = angulo * math.pi / 180\n",
        "      escada = altura / math.sin(radiano)\n",
        "      ESCREVA escada\n",
        "**Observação**: Para usar seno em Python, deve-se usar esta linha de código **import math** e esta, no cálculo, **math.sin(numero)**\n",
        "\n",
        "**import math**\n",
        "\n",
        "escada = altura / **math.sin**(numero)"
      ]
    },
    {
      "cell_type": "code",
      "metadata": {
        "id": "Ijh7i02rhg0D",
        "colab": {
          "base_uri": "https://localhost:8080/"
        },
        "outputId": "3a00c789-7466-4806-f68c-c67b38e07862"
      },
      "source": [
        "angulo = float(input(\"Digite a medida do ângulo:\"))\n",
        "altura = float(input(\"Digite a medida da altura:\"))\n",
        "import math\n",
        "radiano = angulo * math.pi / 180\n",
        "escada = altura / math.sin(radiano)\n",
        "print(\"A medida da escada é\", escada)"
      ],
      "execution_count": null,
      "outputs": [
        {
          "output_type": "stream",
          "name": "stdout",
          "text": [
            "Digite a medida do ângulo:90\n",
            "Digite a medida da altura:3\n",
            "A medida da escada é 3.0\n"
          ]
        }
      ]
    },
    {
      "cell_type": "markdown",
      "metadata": {
        "id": "P2CNkCZ5hiJH"
      },
      "source": [
        "###19. Sabe-se que o quilowatt de energia custa um quinto do salário mínimo. Faça um programa que receba o valor do salário mínimo e a quantidade de quilowatts consumida por uma residência. Calcule e mostre:\n",
        "\n",
        "\n",
        "* o valor de cada quilowatt;\n",
        "* o valor a ser pago por essa residência;\n",
        "* o valor a ser pago com desconto de 15%.\n",
        "      LEIA valor_salario\n",
        "      LEIA qtde_quilowatt\n",
        "      valor_quilowatt = valor_salario / 5\n",
        "      valor_em_reais = valor_quilowatt * qtde_quilowatt\n",
        "      valor_descontado = valor_em_reais * 15 / 100\n",
        "      valor_com_desconto =  valor_em_reais − valor_descontado\n",
        "      ESCREVA valor_quilowatt\n",
        "      ESCREVA valor_em_reais\n",
        "      ESCREVA valor_com_desconto\n"
      ]
    },
    {
      "cell_type": "code",
      "metadata": {
        "id": "RJpeKC7NhmIf",
        "colab": {
          "base_uri": "https://localhost:8080/"
        },
        "outputId": "f30e2e8e-26b8-4573-e713-6b8fc3e1a295"
      },
      "source": [
        "salario = float(input(\"Digite o salário mínimo:\"))\n",
        "quilowatt = float(input(\"Digite a quantidade de quilowatt consumida:\"))\n",
        "valor_quilowatt = salario / quilowatt\n",
        "valor_em_reais = valor_quilowatt * quilowatt\n",
        "valor_descontado = valor_em_reais * 0.15\n",
        "valor_com_desconto = valor_em_reais - valor_descontado\n",
        "print(\"O valor de cada quilowatt é R$\", valor_quilowatt)\n",
        "print(\"O valor a ser pago nesta residência é R$\", valor_em_reais)\n",
        "print(\"O valor a ser pago com desconto de 15% é R$\", valor_descontado)"
      ],
      "execution_count": null,
      "outputs": [
        {
          "output_type": "stream",
          "name": "stdout",
          "text": [
            "Digite o salário mínimo:6000\n",
            "Digite a quantidade de quilowatt consumida:150\n",
            "O valor de cada quilowatt é R$ 40.0\n",
            "O valor a ser pago nesta residência é R$ 6000.0\n",
            "O valor a ser pago com desconto de 15% é R$ 900.0\n"
          ]
        }
      ]
    },
    {
      "cell_type": "markdown",
      "metadata": {
        "id": "hDmdn0BWhmTx"
      },
      "source": [
        "### 20. Faça um programa que receba um número real, encontre e mostre:\n",
        "\n",
        "* a parte inteira desse número;\n",
        "* a parte fracionária desse número;\n",
        "* o arredondamento desse número.\n",
        "\n",
        "      LEIA numero\n",
        "      parte_inteira = numero // 1\n",
        "      parte_fracionaria = numero - parte_inteira\n",
        "      numero_arredondado = round (numero)\n",
        "      ESCREVA parte_inteira\n",
        "      ESCREVA parte_fracionaria\n",
        "      ESCREVA numero_arredondado\n",
        "      \n",
        "**Observação**: Para arredondar um número em Python, usa-se a função **round(numero)**, onde se o número real/float estiver em igual distância entre o inteiro de cima e o inteiro de baixo, esta função arredonda para o número mais próximo.\n",
        "\n"
      ]
    },
    {
      "cell_type": "code",
      "metadata": {
        "id": "sT5U0LgGhozg",
        "colab": {
          "base_uri": "https://localhost:8080/"
        },
        "outputId": "d2f572d3-0b16-46d7-8c9d-505e913c7267"
      },
      "source": [
        "numero = float(input(\"Digite um número real:\"))\n",
        "parte_inteira = numero // 1\n",
        "parte_fracionaria = numero - parte_inteira\n",
        "numero_arredondado = round(numero)\n",
        "print(\"A parte inteira deste número é:\", parte_inteira)\n",
        "print(f\"A parte fracionária desse número é {parte_fracionaria:.3f}\")\n",
        "print(\"O arredondamento desse número é:\", numero_arredondado)"
      ],
      "execution_count": null,
      "outputs": [
        {
          "output_type": "stream",
          "name": "stdout",
          "text": [
            "Digite um número real:67.99\n",
            "A parte inteira deste número é: 67.0\n",
            "A parte fracionária desse número é 0.990\n",
            "O arredondamento desse número é: 68\n"
          ]
        }
      ]
    },
    {
      "cell_type": "markdown",
      "metadata": {
        "id": "0Ae-WDdAho8j"
      },
      "source": [
        "### 21. Faça um programa que receba uma hora formada por hora e minutos (um número real), calcule e mostre a hora digitada apenas em minutos. Lembre-se de que:\n",
        "* para quatro e meia, deve-se digitar 4.30;\n",
        "* os minutos vão de 0 a 59.\n",
        "      LEIA hora\n",
        "      h = pegar a parte inteira da variável hora\n",
        "      minutos = hora − h\n",
        "      conversao = (h * 60) + (minutos * 100)\n",
        "      ESCREVA conversao\n"
      ]
    },
    {
      "cell_type": "code",
      "metadata": {
        "id": "ePoxc4bohrQm",
        "colab": {
          "base_uri": "https://localhost:8080/"
        },
        "outputId": "b63fb3d3-c0d0-404f-bd35-a42f10dfa50d"
      },
      "source": [
        "hora = float(input(\"Digite uma hora: \"))\n",
        "h = hora // 1\n",
        "minutos = hora - h\n",
        "conversao = (h * 60) + (minutos * 100)\n",
        "print(\"A conversão para minutos é =\", conversao)"
      ],
      "execution_count": null,
      "outputs": [
        {
          "output_type": "stream",
          "name": "stdout",
          "text": [
            "Digite uma hora: 4.30\n",
            "A conversão para minutos é = 270.0\n"
          ]
        }
      ]
    },
    {
      "cell_type": "markdown",
      "metadata": {
        "id": "-YjvNy_DhrZa"
      },
      "source": [
        "### 22. Faça um programa que receba o custo de um espetáculo teatral e o preço do convite desse espetáculo. Esse programa deverá calcular e mostrar a quantidade de convites que devem ser vendidos para que, pelo menos, o custo do espetáculo seja alcançado.\n"
      ]
    },
    {
      "cell_type": "code",
      "metadata": {
        "id": "55qawy58hsl0",
        "colab": {
          "base_uri": "https://localhost:8080/"
        },
        "outputId": "1529c259-b0d3-45ae-a2fb-94e31a66d558"
      },
      "source": [
        "custo_espetaculo = float(input(\"Digite o custo do espetáculo: \"))\n",
        "preco_convite = float(input(\"Digite o preço do convite: \"))\n",
        "\n",
        "quantidade_convites = int(custo_espetaculo / preco_convite)\n",
        "\n",
        "print(\"Para alcançar o custo do espetáculo, devem ser vendidos pelo menos\", quantidade_convites, \"convites.\")"
      ],
      "execution_count": null,
      "outputs": [
        {
          "output_type": "stream",
          "name": "stdout",
          "text": [
            "Digite o custo do espetáculo: 10000\n",
            "Digite o preço do convite: 50\n",
            "Para alcançar o custo do espetáculo, devem ser vendidos pelo menos 200 convites.\n"
          ]
        }
      ]
    }
  ]
}