{
  "nbformat": 4,
  "nbformat_minor": 0,
  "metadata": {
    "colab": {
      "provenance": [],
      "include_colab_link": true
    },
    "kernelspec": {
      "name": "python3",
      "display_name": "Python 3"
    }
  },
  "cells": [
    {
      "cell_type": "markdown",
      "metadata": {
        "id": "view-in-github",
        "colab_type": "text"
      },
      "source": [
        "<a href=\"https://colab.research.google.com/github/Azisa06/Python/blob/main/Isabella_Thomazini_232_LP_P1_n.ipynb\" target=\"_parent\"><img src=\"https://colab.research.google.com/assets/colab-badge.svg\" alt=\"Open In Colab\"/></a>"
      ]
    },
    {
      "cell_type": "markdown",
      "metadata": {
        "id": "kHK95nR3pf6N"
      },
      "source": [
        "##**P1 - 2º. semestre/2023 -  Término: 22:29**\n",
        "\n",
        "##HOJE EU NÃO VERIFICO A LÓGICA/PROGRAMAÇÃO, NEM ERROS DE CÓDIGO, POIS É UMA PROVA DE CONSULTA.\n",
        "## É uma prova de consulta ao seu material, **apenas use os slides da disciplina de Algoritmo e as listas de exercícios do Colab da nossa aula**.\n",
        "## **Apenas verificarei** o desenvolvimento dos exercícios de cada aluno, **EM OUTRO DIA**.\n",
        "\n",
        "##Caso entregue atrasado não será aceita a prova. **O Classroom/Collab NÃO DEIXA ENTREGAR FORA DO PRAZO**.\n",
        "\n",
        "##Depois de terminada a prova, você NÃO PODE MAIS ALTERAR O ARQUIVO DELA, essa ação fica registrada e assim a prova será anulada.\n",
        "##Na próxima aula (sábado) será realizada a correção da prova.\n",
        "\n",
        "##**Não é permitido o acesso a qualquer outro site/aplicativo para o desenvolvimento da prova, ou seja, apenas poderão estar abertas e visíveis as guias (no navegador de internet) do Classroom e Colab.**\n",
        "\n",
        "#Não é permitido o uso do celular no dia da prova.\n",
        "\n",
        "#CASO VERIFIQUE QUE O COLLAB TENHA ALGUM PROBLEMA, VÁ NO MENU, NA OPÇÃO DE AMBIENTE DE EXECUÇÃO, ESCOLHA A OPÇÃO REINICIAR AMBIENTE DE EXECUÇÃO, CLIQUE EM SIM E TENTE EXECUTAR NOVAMENTE O SEU PROGRAMA.\n",
        "______________________________________________________\n",
        "\n",
        "\n",
        "\n"
      ]
    },
    {
      "cell_type": "markdown",
      "source": [
        "##**1.**  [3,5 pontos] O Instituto de Radiologia é uma empresa que oferece aos seus médicos e pacientes a possibilidade de realizar diversos exames, entre eles Raio x do: **b**raço, **j**oelho, **c**oluna, entre outros.\n",
        "\n",
        "##Observação: utilize a letra em destaque **b**, **j** ou **c**, para criar a condição de avaliação de qual exame foi realizado.\n",
        "\n",
        "##Para atender a necessidade da empresa, desenvolva um programa utilizando a linguagem Python, que a partir de 50 exames que ocorreram em um determinado dia, dentro da função main() faça:\n",
        "\n",
        "###* Informe o tipo (letra)\n",
        "\n",
        "###* Chame a função a), calcule e mostre o total do faturamento\n",
        "\n",
        "###* Chame a função b), calcule e mostre quantidade de exames de coluna\n",
        "\n",
        "###* Apresente os resultados NO LOCAL CORRETO.\n",
        "\n",
        "\n",
        "##a) Faça uma função/método/sub-rotina, que passe a letra como parâmetro, verifique e retorne o valor do exame. Valores R$ **b**raço = 50, **j**oelho = 70, **c**oluna - 120\n",
        "\n",
        "##b) Faça outra função/método/sub-rotina, que passe a letra como parâmetro, verifique e retorne o tipo bool True ou False, caso seja Raio x de coluna.\n",
        "\n",
        "##**Lembrete, na função que tem parâmetro, este, neste caso/neste exercício, na programação, é chamado de PASSAGEM DE PARÂMETRO POR VALOR**."
      ],
      "metadata": {
        "id": "X861-zRMRfgU"
      }
    },
    {
      "cell_type": "code",
      "source": [
        "def faturamento(letra):\n",
        "    contador = 0\n",
        "    for i in range(len(letra)):\n",
        "        if letra[i] == 'b':\n",
        "            return 50\n",
        "        elif letra[i] == 'j':\n",
        "            return 70\n",
        "        elif letra[i] == 'c':\n",
        "            return 120\n",
        "\n",
        "def raio_x(letra):\n",
        "    for i in range(len(letra)):\n",
        "        return letra[i] == 'c'\n",
        "\n",
        "def main():\n",
        "    fat_total = 0\n",
        "    contador_raiox = 0\n",
        "    for i in range(2):\n",
        "        letra = input(\"Informe o tipo de exame (b, j ou c): \")\n",
        "        print(f\"O valor do exame é R${faturamento(letra)}\")\n",
        "        fat_total += faturamento(letra)\n",
        "        print(f\"Raio X de coluna = {raio_x(letra)}\")\n",
        "        if raio_x(letra) == True:\n",
        "            contador_raiox += 1\n",
        "    print(\"\\n*** Relatório do dia ***\")\n",
        "    print(f\"Faturamento total = R${fat_total}\")\n",
        "    print(f\"Total de exames de Raio X = {contador_raiox}\\n\")\n",
        "\n",
        "main()"
      ],
      "metadata": {
        "id": "9F3hI2SUgWuN",
        "colab": {
          "base_uri": "https://localhost:8080/"
        },
        "outputId": "1962111d-2270-40eb-be91-52e24e48b97f"
      },
      "execution_count": null,
      "outputs": [
        {
          "output_type": "stream",
          "name": "stdout",
          "text": [
            "Informe o tipo de exame (b, j ou c): b\n",
            "O valor do exame é R$50\n",
            "Raio X de coluna = False\n",
            "Informe o tipo de exame (b, j ou c): c\n",
            "O valor do exame é R$120\n",
            "Raio X de coluna = True\n",
            "\n",
            "*** Relatório do dia ***\n",
            "Faturamento total = R$170\n",
            "Total de exames de Raio X = 1\n",
            "\n"
          ]
        }
      ]
    },
    {
      "cell_type": "markdown",
      "source": [
        "##**2.** [2,5 pontos] Utilize a função main() para a chamada da função.\n",
        "##Implemente uma função/método que receba como parâmetro uma matriz 3x7 de inteiros (que deve ser digita dentro da main, armazene os valores superiores a 6 num vetor, retorne-o para a main\n",
        "## Utilizando a estrutura de repetição while,  apresente todos os elementos do vetor.\n",
        "##Não será aceito o comando for.\n",
        "##A comparação dos valores superiores deve ser feita, obrigatoriamente com a variável matriz.\n",
        "\n",
        "##**Lembrete, na função que tem parâmetro, este, neste caso/neste exercício (vetor ou matriz), na programação, é chamado de PASSAGEM DE PARÂMETRO POR REFERÊNCIA.**\n"
      ],
      "metadata": {
        "id": "tyJXSbe9FT53"
      }
    },
    {
      "cell_type": "code",
      "source": [
        "def maiores(matriz):\n",
        "    vetor = []\n",
        "    for i in range(len(matriz)):\n",
        "        for j in range(len(matriz[0])):\n",
        "            if matriz[i][j] > 6:\n",
        "                vetor.append(matriz[i][j])\n",
        "    return vetor\n",
        "\n",
        "def main():\n",
        "    matriz = []\n",
        "    for i in range(3):\n",
        "        numero = []\n",
        "        for j in range(7):\n",
        "            numero.append(int(input(f\"Digite o valor {[i]};{[j]}: \")))\n",
        "        matriz.append(numero)\n",
        "    print(f\"{maiores(matriz)}\")\n",
        "\n",
        "main()"
      ],
      "metadata": {
        "id": "opfN-Ze5ge4r",
        "colab": {
          "base_uri": "https://localhost:8080/"
        },
        "outputId": "76b0465c-c07d-4536-ae7c-ae48fd1dc921"
      },
      "execution_count": null,
      "outputs": [
        {
          "output_type": "stream",
          "name": "stdout",
          "text": [
            "Digite o valor [0];[0]: 4\n",
            "Digite o valor [0];[1]: 5\n",
            "Digite o valor [0];[2]: 6\n",
            "Digite o valor [1];[0]: 7\n",
            "Digite o valor [1];[1]: 8\n",
            "Digite o valor [1];[2]: 9\n",
            "Digite o valor [2];[0]: 10\n",
            "Digite o valor [2];[1]: 11\n",
            "Digite o valor [2];[2]: 12\n",
            "[7, 8, 9, 10, 11, 12]\n"
          ]
        }
      ]
    }
  ]
}