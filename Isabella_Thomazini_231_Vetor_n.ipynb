{
  "nbformat": 4,
  "nbformat_minor": 0,
  "metadata": {
    "colab": {
      "provenance": [],
      "include_colab_link": true
    },
    "kernelspec": {
      "name": "python3",
      "display_name": "Python 3"
    }
  },
  "cells": [
    {
      "cell_type": "markdown",
      "metadata": {
        "id": "view-in-github",
        "colab_type": "text"
      },
      "source": [
        "<a href=\"https://colab.research.google.com/github/Azisa06/Python/blob/main/Isabella_Thomazini_231_Vetor_n.ipynb\" target=\"_parent\"><img src=\"https://colab.research.google.com/assets/colab-badge.svg\" alt=\"Open In Colab\"/></a>"
      ]
    },
    {
      "cell_type": "markdown",
      "metadata": {
        "id": "BTk5UJlvXLuB"
      },
      "source": [
        "#**EXERCÍCIOS SOBRE VETOR**"
      ]
    },
    {
      "cell_type": "code",
      "source": [
        "x = 1 / 2 + 3 // 3 + 4 ** 2\n",
        "print(x)"
      ],
      "metadata": {
        "colab": {
          "base_uri": "https://localhost:8080/"
        },
        "id": "Jl_z5XdA7CqU",
        "outputId": "e4605b0d-31b5-485c-b0ab-c4a22d9f02cc"
      },
      "execution_count": null,
      "outputs": [
        {
          "output_type": "stream",
          "name": "stdout",
          "text": [
            "17.5\n"
          ]
        }
      ]
    },
    {
      "cell_type": "markdown",
      "metadata": {
        "id": "YOspAvb8YpqR"
      },
      "source": [
        "### 1. Faça um programa que calcule e apresente a média de idades de uma sala de 35 alunos.​​"
      ]
    },
    {
      "cell_type": "code",
      "metadata": {
        "id": "PR5Z9QlTXHEO",
        "colab": {
          "base_uri": "https://localhost:8080/"
        },
        "outputId": "62b34d5c-b098-47aa-c81a-9f464d14704b"
      },
      "source": [
        "soma = 0\n",
        "idade = []\n",
        "for i in range (5):\n",
        "    idade.append(int(input('Informe a idade: ')))\n",
        "    soma += idade[i]\n",
        "media = soma / 5\n",
        "print('A média de idades é', media)"
      ],
      "execution_count": null,
      "outputs": [
        {
          "output_type": "stream",
          "name": "stdout",
          "text": [
            "Informe a idade: 20\n",
            "Informe a idade: 50\n",
            "Informe a idade: 10\n",
            "Informe a idade: 18\n",
            "Informe a idade: 33\n",
            "A média de idades é 26.2\n"
          ]
        }
      ]
    },
    {
      "cell_type": "markdown",
      "metadata": {
        "id": "XtTydU3HZNHi"
      },
      "source": [
        "### 2. Faça um programa que calcule e apresente a média de alturas de uma sala de 35 alunos. Informe também quantos alunos **e** quais (índice/posição) são os que possuem idade superior a 25 anos.​ Use dois vetores, um para altura e outro para idade. Não use nenhuma função pronta da linguagem Python, a não ser len() e append().\n"
      ]
    },
    {
      "cell_type": "code",
      "source": [
        "soma = 0\n",
        "contador = 0\n",
        "idades = []\n",
        "alturas = []\n",
        "for i in range (3):\n",
        "    idades.append(int(input(\"Informe a idade: \")))\n",
        "    alturas.append(float(input(\"Informe a altura: \")))\n",
        "    soma += alturas[i]\n",
        "media = soma / len(alturas)\n",
        "print(f\"A média de alturas da sala é {media:.2f} metros.\")\n",
        "\n",
        "contador = 0\n",
        "for i in range (len(idades)):\n",
        "    if idades[i] > 25:\n",
        "        contador += 1\n",
        "        print(\"O aluno nº\", i+1,\"tem\", idades[i], \"anos.\")\n",
        "print('Foram encontradas', contador, 'pessoas com mais de 25 anos.')"
      ],
      "metadata": {
        "id": "WPAbR4YX8dtJ",
        "colab": {
          "base_uri": "https://localhost:8080/"
        },
        "outputId": "7adcdc8e-e1f6-4504-c8fa-94c86079146f"
      },
      "execution_count": null,
      "outputs": [
        {
          "output_type": "stream",
          "name": "stdout",
          "text": [
            "Informe a idade: 10\n",
            "Informe a altura: 1.5\n",
            "Informe a idade: 30\n",
            "Informe a altura: 1.8\n",
            "Informe a idade: 26\n",
            "Informe a altura: 1.9\n",
            "A média de alturas da sala é 1.73 metros.\n",
            "O aluno nº 2 tem 30 anos.\n",
            "O aluno nº 3 tem 26 anos.\n",
            "Foram encontradas 2 pessoas com mais de 25 anos.\n"
          ]
        }
      ]
    },
    {
      "cell_type": "markdown",
      "metadata": {
        "id": "3x_WkNYTZQeD"
      },
      "source": [
        "### 3. Faça um programa que carregue um vetor de dez elementos que contenha o nome de pessoas e outro que contenha o peso, encontre qual a pessoa mais gorda e mais magra e apresente o nome o peso das mesmas.​ Use dois vetores, um para peso e outro para nome. Não use nenhuma função pronta da linguagem Python, a não ser len() e append()."
      ]
    },
    {
      "cell_type": "code",
      "metadata": {
        "id": "7VsianjuZMrf",
        "colab": {
          "base_uri": "https://localhost:8080/"
        },
        "outputId": "f5851c30-f094-4fd0-c02b-eb23a9a05907"
      },
      "source": [
        "peso = []\n",
        "nome = []\n",
        "for i in range(3):\n",
        "    nome.append(str(input('Informe o nome: ')))\n",
        "    peso.append(float(input('Informe o peso: ')))\n",
        "    if i == 0:\n",
        "        gordo = peso[i]\n",
        "        nomeg = nome[i]\n",
        "        magro = peso[i]\n",
        "        nomem = nome[i]\n",
        "    if peso[i] > gordo:\n",
        "        gordo = peso[i]\n",
        "        nomeg = nome[i]\n",
        "    elif peso[i] < magro:\n",
        "        magro = peso[i]\n",
        "        nomem = nome[i]\n",
        "print(nomem, 'é a pessoa mais magra, com', magro, 'quilos.')\n",
        "print(nomeg, 'é a pessoa mais gorda, com', gordo, 'quilos.')"
      ],
      "execution_count": null,
      "outputs": [
        {
          "output_type": "stream",
          "name": "stdout",
          "text": [
            "Informe o nome: isabella\n",
            "Informe o peso: 50\n",
            "Informe o nome: denise\n",
            "Informe o peso: 60\n",
            "Informe o nome: murillo\n",
            "Informe o peso: 70\n",
            "isabella é a pessoa mais magra, com 50.0 quilos.\n",
            "murillo é a pessoa mais gorda, com 70.0 quilos.\n"
          ]
        }
      ]
    },
    {
      "cell_type": "markdown",
      "metadata": {
        "id": "xSpiII3mZdQV"
      },
      "source": [
        "### 4. Faça um programa que carregue um vetor com a média de dez alunos, calcule e mostre a MÉDIA DA SALA e quantos alunos estão acima e abaixo da média da sala. Não use nenhuma função pronta da linguagem Python, a não ser len() e append()."
      ]
    },
    {
      "cell_type": "code",
      "metadata": {
        "id": "iWBTxDXvZUPP",
        "colab": {
          "base_uri": "https://localhost:8080/"
        },
        "outputId": "068d1893-a229-40ed-f7c8-7d1843e62f4d"
      },
      "source": [
        "media = []\n",
        "soma = 0\n",
        "for i in range(3):\n",
        "    media.append(float(input('Infome a média: ')))\n",
        "    soma += media[i]\n",
        "media_sala = soma / len(media)\n",
        "print(f'A média da sala é {media_sala:.1f}')\n",
        "\n",
        "acima = 0\n",
        "abaixo = 0\n",
        "for i in range(3):\n",
        "    if media[i] > media_sala:\n",
        "        acima += 1\n",
        "    elif media[i] < media_sala:\n",
        "        abaixo += 1\n",
        "print('A quantidade de alunos acima da média é', acima)\n",
        "print('A quantidade de alunos abaixo da média é', abaixo)"
      ],
      "execution_count": null,
      "outputs": [
        {
          "output_type": "stream",
          "name": "stdout",
          "text": [
            "Infome a média: 8\n",
            "Infome a média: 6\n",
            "Infome a média: 9\n",
            "A média da sala é 7.7\n",
            "A quantidade de alunos acima da média é 2\n",
            "A quantidade de alunos abaixo da média é 1\n"
          ]
        }
      ]
    },
    {
      "cell_type": "markdown",
      "metadata": {
        "id": "frrtYwMAZUcL"
      },
      "source": [
        "### 5. Faça um programa que carregue um vetor de oito elementos numéricos inteiros, calcule e mostre os números pares e suas respectivas índices/posições. Não use nenhuma função pronta da linguagem Python, a não ser len() e append().\n"
      ]
    },
    {
      "cell_type": "code",
      "metadata": {
        "id": "7S8zpor8Z5Hb",
        "colab": {
          "base_uri": "https://localhost:8080/"
        },
        "outputId": "80092bf0-0e25-4f2b-a3d9-976ac86b402f"
      },
      "source": [
        "numeros = []\n",
        "pares = 0\n",
        "for i in range(3):\n",
        "    numeros.append(int(input('Digite um valor inteiro: ')))\n",
        "    if numeros[i] % 2 == 0:\n",
        "        pares += 1\n",
        "print('A quantidade de números pares é:', pares)\n",
        "\n",
        "for i in range(len(numeros)):\n",
        "    if numeros[i] % 2 == 0:\n",
        "        pares += 1\n",
        "        print('A posição do número', numeros[i],'é', i+1)"
      ],
      "execution_count": null,
      "outputs": [
        {
          "output_type": "stream",
          "name": "stdout",
          "text": [
            "Digite um valor inteiro: 10\n",
            "Digite um valor inteiro: 5\n",
            "Digite um valor inteiro: 2\n",
            "A quantidade de números pares é: 2\n",
            "A posição do número 10 é 1\n",
            "A posição do número 2 é 3\n"
          ]
        }
      ]
    },
    {
      "cell_type": "markdown",
      "metadata": {
        "id": "cml17HAsZ5Wf"
      },
      "source": [
        "### 6. Faça um programa que carregue um vetor com dez nomes e faça uma verificação se um determinado nome esta nesse vetor. Não use nenhuma função pronta da linguagem Python, a não ser len() e append()."
      ]
    },
    {
      "cell_type": "code",
      "metadata": {
        "id": "4R-FGZy4aHNx",
        "colab": {
          "base_uri": "https://localhost:8080/"
        },
        "outputId": "2db5375b-1c2f-47ac-a769-a8852d6743da"
      },
      "source": [
        "nome = []\n",
        "for i in range(3):\n",
        "    nome.append(input(\"Informe um nome: \"))\n",
        "nome2 = input(\"Informe outro nome para verificação: \")\n",
        "\n",
        "contador = 0\n",
        "for i in range(len(nome)):\n",
        "    if nome2 == nome[i]:\n",
        "        contador += 1\n",
        "\n",
        "if contador == 1:\n",
        "    print('Nome verificado!')\n",
        "else:\n",
        "    print('Nome não verificado!')"
      ],
      "execution_count": null,
      "outputs": [
        {
          "output_type": "stream",
          "name": "stdout",
          "text": [
            "Informe um nome: Isabella\n",
            "Informe um nome: Juliana\n",
            "Informe um nome: Isabelle\n",
            "Informe outro nome para verificação: Kamily\n",
            "Nome não verificado!\n"
          ]
        }
      ]
    },
    {
      "cell_type": "markdown",
      "metadata": {
        "id": "0BYcEcgYaHbl"
      },
      "source": [
        "### 7. Faça um algoritmo que calcule e apresente a média de alturas superior a 1,80 de 10 alunos. Informe também quantos e quais (índice/posição) são os alunos. Não use nenhuma função pronta da linguagem Python, a não ser len() e append().\n"
      ]
    },
    {
      "cell_type": "code",
      "metadata": {
        "id": "wbXDmo6daU5n",
        "colab": {
          "base_uri": "https://localhost:8080/"
        },
        "outputId": "bdb3a3b5-babb-40b1-d609-0a8f7fe6937c"
      },
      "source": [
        "altura = []\n",
        "contador = 0\n",
        "soma = 0\n",
        "for i in range(3):\n",
        "    altura.append(float(input('Informe uma altura: ')))\n",
        "    if altura[i] > 1.8:\n",
        "        contador += 1\n",
        "        soma += altura[i]\n",
        "        media = soma / contador\n",
        "print('A média das alturas das', contador, f'pessoas maiores que 1.8 é {media:.1f} metros.')\n",
        "\n",
        "for i in range(len(altura)):\n",
        "    if altura[i] > 1.8:\n",
        "        print('O aluno com altura', altura[i], 'está na posição', i+1, '.')"
      ],
      "execution_count": null,
      "outputs": [
        {
          "output_type": "stream",
          "name": "stdout",
          "text": [
            "Informe uma altura: 1.9\n",
            "Informe uma altura: 2\n",
            "Informe uma altura: 1.7\n",
            "A média das alturas das 2 pessoas maiores que 1.8 é 1.9 metros.\n",
            "O aluno com altura 1.9 está na posição 1 .\n",
            "O aluno com altura 2.0 está na posição 2 .\n"
          ]
        }
      ]
    },
    {
      "cell_type": "markdown",
      "metadata": {
        "id": "mFaqmOmuaVN2"
      },
      "source": [
        "### 8. Criar um algoritmo que a partir de um vetor de 10 elementos inteiros, crie outros dois vetores que receberão os elementos positivos e negativos e ao final apresente-os. Não use nenhuma função pronta da linguagem Python, a não ser len() e append().\n"
      ]
    },
    {
      "cell_type": "code",
      "source": [
        "numero = []\n",
        "positivo = []\n",
        "negativo = []\n",
        "for i in range(5):\n",
        "    numero.append(int(input(\"Digite um número: \")))\n",
        "\n",
        "    if numero[i] > 0:\n",
        "        positivo.append(numero[i])\n",
        "    else:\n",
        "        negativo.append(numero[i])\n",
        "\n",
        "print(\"positivos: \", positivo)\n",
        "print(\"negativos: \", negativo)"
      ],
      "metadata": {
        "colab": {
          "base_uri": "https://localhost:8080/"
        },
        "id": "7XEi1dg4692o",
        "outputId": "7818ecf6-f357-461e-db02-977c47e6546f"
      },
      "execution_count": null,
      "outputs": [
        {
          "output_type": "stream",
          "name": "stdout",
          "text": [
            "Digite um número: 223\n",
            "Digite um número: -60\n",
            "Digite um número: 443\n",
            "Digite um número: -89\n",
            "Digite um número: -100\n",
            "positivos:  [223, 443]\n",
            "negativos:  [-60, -89, -100]\n"
          ]
        }
      ]
    },
    {
      "cell_type": "code",
      "metadata": {
        "id": "A6hJ8MIdahuM",
        "colab": {
          "base_uri": "https://localhost:8080/"
        },
        "outputId": "2305fdd1-d677-421f-ab46-fa02c0082381"
      },
      "source": [],
      "execution_count": null,
      "outputs": [
        {
          "output_type": "stream",
          "name": "stdout",
          "text": [
            "****Programa para inserir valores positivos e negativos****\n",
            "\n",
            "Digite o número: 10\n",
            "Digite o número: 27\n",
            "Digite o número: -90\n",
            "Digite o número: -70\n",
            "Digite o número: -43\n",
            "[10, 27]\n",
            "[-90, -70, -43]\n",
            "\n",
            "Apresentação dos valores positivos..............\n",
            "Índice:  0 \tElemento do vetor positivo: 10\n",
            "Índice:  1 \tElemento do vetor positivo: 27\n",
            "\n",
            "Apresentação dos valores negativo...............\n",
            "Índice:  0 \tElemento do vetor negativo: -90\n",
            "Índice:  1 \tElemento do vetor negativo: -70\n",
            "Índice:  2 \tElemento do vetor negativo: -43\n"
          ]
        }
      ]
    },
    {
      "cell_type": "markdown",
      "metadata": {
        "id": "K5IMhYTHaiEl"
      },
      "source": [
        "### 9. Criar um algoritmo que leia dados para um vetor de 100 elementos inteiros, imprimir o maior, o menor, o percentual de números pares e a média dos elementos do vetor. Obs.: percentual = quantidade contada * 100 / quantidade total. Não use nenhuma função pronta da linguagem Python, a não ser len() e append().\n"
      ]
    },
    {
      "cell_type": "code",
      "metadata": {
        "id": "X6krLAFKaumK",
        "colab": {
          "base_uri": "https://localhost:8080/"
        },
        "outputId": "3f7140cc-35f5-4c87-812e-2d53af2c7357"
      },
      "source": [
        "vetor = []\n",
        "percentual = 0\n",
        "media = 0\n",
        "for i in range (3):\n",
        "    vetor.append(int(input(\"Informe um valor: \")))\n",
        "    if i == 0:\n",
        "        maior = vetor[i]\n",
        "        menor = vetor[i]\n",
        "    if vetor[i] > maior:\n",
        "        maior = vetor[i]\n",
        "    if vetor[i] < menor:\n",
        "        menor = vetor[i]\n",
        "print(\"O maior valor é\", maior)\n",
        "print(\"O menor valor é\", menor)"
      ],
      "execution_count": null,
      "outputs": [
        {
          "output_type": "stream",
          "name": "stdout",
          "text": [
            "Informe um valor: 20\n",
            "Informe um valor: 30\n",
            "Informe um valor: 50\n",
            "O maior valor é 50\n",
            "O menor valor é 20\n"
          ]
        }
      ]
    },
    {
      "cell_type": "markdown",
      "metadata": {
        "id": "X6C3DbCGFR71"
      },
      "source": [
        "### 10. Faça um programa que:\n",
        "\n",
        "* preencha um vetor com seis elementos numéricos inteiros.\n",
        "\n",
        "**Calcule e mostre:**\n",
        "\n",
        "* todos os números pares;\n",
        "* a quantidade de números pares;\n",
        "* todos os números ímpares;\n",
        "* a quantidade de números ímpares\n",
        "\n",
        "Não use nenhuma função pronta da linguagem Python, a não ser len() e append()."
      ]
    },
    {
      "cell_type": "code",
      "metadata": {
        "id": "0OjTx-RoFZUT",
        "colab": {
          "base_uri": "https://localhost:8080/"
        },
        "outputId": "7f106618-3d63-4b00-ee7d-44c87fbf4dd6"
      },
      "source": [
        "impares = 0\n",
        "pares = 0\n",
        "vetor = []\n",
        "for i in range (6):\n",
        "    vetor.append(int(input(\"Informe um valor: \")))\n",
        "    if vetor[i] % 2 == 0:\n",
        "        pares += 1\n",
        "    else:\n",
        "        impares += 1\n",
        "print(\"A quantidade de números pares é: \", pares)\n",
        "print(\"A quantidade de números impares é: \", impares)\n",
        "\n",
        "print(\"Os números pares são: \")\n",
        "for i in range(len(vetor)):\n",
        "    if vetor[i] % 2 == 0:\n",
        "        print(vetor[i])\n",
        "\n",
        "print(\"Os números impares são: \")\n",
        "for i in range(len(vetor)):\n",
        "    if vetor[i] % 2 != 0:\n",
        "        print(vetor[i])"
      ],
      "execution_count": null,
      "outputs": [
        {
          "output_type": "stream",
          "name": "stdout",
          "text": [
            "Informe um valor: 1\n",
            "Informe um valor: 11\n",
            "Informe um valor: 2\n",
            "Informe um valor: 5\n",
            "Informe um valor: 8\n",
            "Informe um valor: 4\n",
            "A quantidade de números pares é:  3\n",
            "A quantidade de números impares é:  3\n",
            "Os números pares são: \n",
            "2\n",
            "8\n",
            "4\n",
            "Os números impares são: \n",
            "1\n",
            "11\n",
            "5\n"
          ]
        }
      ]
    },
    {
      "cell_type": "markdown",
      "metadata": {
        "id": "qTCb3GyDFzlm"
      },
      "source": [
        "### 11. Faça um programa que:\n",
        "\n",
        "* preencha um vetor com sete números inteiros\n",
        "\n",
        "**Calcule e mostre:**\n",
        "\n",
        "* os números múltiplos de 2;\n",
        "* os números múltiplos de 3;\n",
        "* os números múltiplos de 2 **e de** 3.\n",
        "\n",
        "Não use nenhuma função pronta da linguagem Python, a não ser len() e append()."
      ]
    },
    {
      "cell_type": "code",
      "metadata": {
        "id": "OPX_rge2F3kR",
        "colab": {
          "base_uri": "https://localhost:8080/"
        },
        "outputId": "9d0026c9-7aa1-451f-a3f1-cea65f37e84d"
      },
      "source": [
        "vetor = []\n",
        "for i in range (7):\n",
        "    vetor.append(int(input(\"Informe um valor:\")))\n",
        "\n",
        "print(\"Apresentação dos números múltiplos de 2:\")\n",
        "for i in range(len(vetor)):\n",
        "    if vetor[i] % 2 == 0:\n",
        "        print(vetor[i])\n",
        "\n",
        "print(\"Apresentação dos números multiplos de 3:\")\n",
        "for i in range(len(vetor)):\n",
        "    if vetor[i] % 3 == 0:\n",
        "        print(vetor[i])\n",
        "\n",
        "print(\"Apresentação dos números multiplos de 2 e de 3:\")\n",
        "for i in range(len(vetor)):\n",
        "    if vetor[i] % 3 == 0 and vetor[i] % 2 == 0:\n",
        "        print(vetor[i])"
      ],
      "execution_count": null,
      "outputs": [
        {
          "output_type": "stream",
          "name": "stdout",
          "text": [
            "Informe um valor:33\n",
            "Informe um valor:6\n",
            "Informe um valor:98\n",
            "Informe um valor:54\n",
            "Informe um valor:77\n",
            "Informe um valor:23\n",
            "Informe um valor:42\n",
            "Apresentação dos números múltiplos de 2:\n",
            "6\n",
            "98\n",
            "54\n",
            "42\n",
            "Apresentação dos números multiplos de 3:\n",
            "33\n",
            "6\n",
            "54\n",
            "42\n",
            "Apresentação dos números multiplos de 2 e de 3:\n",
            "6\n",
            "54\n",
            "42\n"
          ]
        }
      ]
    },
    {
      "cell_type": "markdown",
      "metadata": {
        "id": "sf4dSTh-F3wV"
      },
      "source": [
        "### 12. Faça um programa que:\n",
        "\n",
        "* preencha um vetor com quinze elementos inteiros\n",
        "* verifique a existência de elementos iguais a 30, mostrando os índices/posições em que apareceram.\n",
        "\n",
        "Não use nenhuma função pronta da linguagem Python, a não ser len() e append()."
      ]
    },
    {
      "cell_type": "code",
      "source": [
        "numeros = []\n",
        "print('\\nCadastrando valores dentro do vetor')\n",
        "for i in range(5):\n",
        "    numeros.append(int(input(f'Digite o {i+1}º número: ')))\n",
        "\n",
        "print('\\n\\nPesquisando os valores 30 dentro do vetor')\n",
        "for i in range(len(numeros)):\n",
        "    if numeros[i] == 30:\n",
        "        print(f'O valor {numeros[i]}, está no índice {i}')"
      ],
      "metadata": {
        "colab": {
          "base_uri": "https://localhost:8080/"
        },
        "id": "MpwSfa7K2lMk",
        "outputId": "d470d752-ae1a-4d84-e5d0-00ae4591f8c1"
      },
      "execution_count": null,
      "outputs": [
        {
          "output_type": "stream",
          "name": "stdout",
          "text": [
            "\n",
            "Cadastrando valores dentro do vetor\n",
            "Digite o 1º número: 30\n",
            "Digite o 2º número: 10\n",
            "Digite o 3º número: 20\n",
            "Digite o 4º número: 40\n",
            "Digite o 5º número: 30\n",
            "\n",
            "\n",
            "Pesquisando os valores 30 dentro do vetor\n",
            "O valor 30, está no índice 0\n",
            "O valor 30, está no índice 4\n"
          ]
        }
      ]
    },
    {
      "cell_type": "code",
      "metadata": {
        "id": "pV6slXVYF8Fm",
        "colab": {
          "base_uri": "https://localhost:8080/"
        },
        "outputId": "237d57cf-e5e6-4b8b-8bec-a466a6fb635f"
      },
      "source": [
        "vetor = []\n",
        "for i in range (5):\n",
        "    vetor.append(int(input(\"Informe um valor: \")))\n",
        "\n",
        "for i in range(len(vetor)):\n",
        "    if vetor[i] == 30:\n",
        "        print(\"Há elementos iguais a 30 na posição:\", i+1, \".\")"
      ],
      "execution_count": null,
      "outputs": [
        {
          "output_type": "stream",
          "name": "stdout",
          "text": [
            "Informe um valor: 30\n",
            "Informe um valor: 22\n",
            "Informe um valor: 66\n",
            "Informe um valor: 77\n",
            "Informe um valor: 34\n",
            "Há elementos iguais a 30 na posição: 1 .\n"
          ]
        }
      ]
    },
    {
      "cell_type": "markdown",
      "metadata": {
        "id": "9UnrFcvfF8VU"
      },
      "source": [
        "### 13. Faça um programa que:\n",
        "\n",
        "* preencha um vetor com dez números reais\n",
        "\n",
        "**Calcule e mostre:**\n",
        "\n",
        "* a quantidade de números negativos\n",
        "* a soma dos números positivos desse *vetor*\n",
        "* não use nenhuma função pronta da linguagem Python"
      ]
    },
    {
      "cell_type": "code",
      "metadata": {
        "id": "x4hGToRMM6q8",
        "colab": {
          "base_uri": "https://localhost:8080/"
        },
        "outputId": "767f40fa-b5a1-4e69-b377-c923bafea37e"
      },
      "source": [
        "negativos = 0\n",
        "soma_positivos = 0\n",
        "vetor = []\n",
        "for i in range(5):\n",
        "    vetor.append(float(input(\"Informe um valor: \")))\n",
        "\n",
        "for i in range(len(vetor)):\n",
        "    if vetor[i] < 0:\n",
        "        negativos += 1\n",
        "    else:\n",
        "        soma_positivos += vetor[i]\n",
        "\n",
        "print(\"A quantidade de números negativos é:\", negativos)\n",
        "print(\"A soma dos números positivos é:\", soma_positivos)"
      ],
      "execution_count": null,
      "outputs": [
        {
          "output_type": "stream",
          "name": "stdout",
          "text": [
            "Informe um valor: 4\n",
            "Informe um valor: -19\n",
            "Informe um valor: 56\n",
            "Informe um valor: -44\n",
            "Informe um valor: 45\n",
            "A quantidade de números negativos é: 2\n",
            "A soma dos números positivos é: 105.0\n"
          ]
        }
      ]
    },
    {
      "cell_type": "markdown",
      "metadata": {
        "id": "h08bQeSEM62n"
      },
      "source": [
        "### 14. Faça um programa que:\n",
        "\n",
        "* receba dez números inteiros e armazene-os em um vetor\n",
        "* classifique os números em dois vetores, um com números pares e o outra com os ímpares\n",
        "\n",
        "Não use nenhuma função pronta da linguagem Python, a não ser len() e append()."
      ]
    },
    {
      "cell_type": "code",
      "metadata": {
        "id": "5Ch4maMCM-hg",
        "colab": {
          "base_uri": "https://localhost:8080/"
        },
        "outputId": "25f4ed37-11f6-45e6-805a-dab1737f1fa4"
      },
      "source": [
        "vetor = []\n",
        "pares = []\n",
        "impares = []\n",
        "for i in range (5):\n",
        "    vetor.append(int(input(\"Informe um valor: \")))\n",
        "\n",
        "    if vetor[i] % 2 == 0:\n",
        "        pares.append(vetor[i])\n",
        "    else:\n",
        "        impares.append(vetor[i])\n",
        "print(\"Pares:\", pares)\n",
        "print(\"Ímpares:\", impares)"
      ],
      "execution_count": null,
      "outputs": [
        {
          "output_type": "stream",
          "name": "stdout",
          "text": [
            "Informe um valor: 12\n",
            "Informe um valor: 13\n",
            "Informe um valor: 14\n",
            "Informe um valor: 15\n",
            "Informe um valor: 16\n",
            "Pares: [12, 14, 16]\n",
            "Ímpares: [13, 15]\n"
          ]
        }
      ]
    },
    {
      "cell_type": "markdown",
      "metadata": {
        "id": "Lzqh-l1JNNTr"
      },
      "source": [
        "### 15. Faça um programa que:\n",
        "\n",
        "* preencha um vetor com quinze números\n",
        "\n",
        "**Determine e mostre:**\n",
        "\n",
        "* o maior número e a posição por ele ocupada no vetor\n",
        "* o menor número e a posição por ele ocupada no vetor\n",
        "\n",
        "Não use nenhuma função pronta da linguagem Python, a não ser len() e append()."
      ]
    },
    {
      "cell_type": "code",
      "metadata": {
        "id": "J-jy56awNIb4",
        "colab": {
          "base_uri": "https://localhost:8080/"
        },
        "outputId": "7d4bb13b-85d4-434d-80d2-7058fab02ed5"
      },
      "source": [
        "vetor = []\n",
        "for i in range (5):\n",
        "    vetor.append(int(input(\"Informe um valor: \")))\n",
        "    if i == 0:\n",
        "        maior = vetor[i]\n",
        "        maior_posicao = i\n",
        "        menor = vetor[i]\n",
        "        menor_posicao = i\n",
        "    if vetor[i] > maior:\n",
        "        maior = vetor[i]\n",
        "        maior_posicao = i\n",
        "    if vetor[i] < menor:\n",
        "        menor = vetor[i]\n",
        "        menor_posicao = i\n",
        "print(\"O maior valor é\", maior, \", e sua posição é:\", maior_posicao + 1)\n",
        "print(\"O menor valor é\", menor, \", e sua posição é:\", menor_posicao + 11)"
      ],
      "execution_count": null,
      "outputs": [
        {
          "output_type": "stream",
          "name": "stdout",
          "text": [
            "Informe um valor: 12\n",
            "Informe um valor: 13\n",
            "Informe um valor: 4\n",
            "Informe um valor: 16\n",
            "Informe um valor: 17\n",
            "O maior valor é 17 , e sua posição é: 5\n",
            "O menor valor é 4 , e sua posição é: 3\n"
          ]
        }
      ]
    },
    {
      "cell_type": "markdown",
      "metadata": {
        "id": "CwrnVAqjNIqA"
      },
      "source": [
        "### 16. Faça um programa que:\n",
        "\n",
        "* preencha dois vetores com de dez numeros cada\n",
        "* preencha um terceiro vetor com os números dos dois vetores anteriores ordenados em ordem crescente\n"
      ]
    },
    {
      "cell_type": "code",
      "metadata": {
        "id": "JG4VQSZ0NNGP",
        "colab": {
          "base_uri": "https://localhost:8080/"
        },
        "outputId": "491108e8-95af-4b66-a703-e8181cebffb2"
      },
      "source": [
        "vetor1 = []\n",
        "vetor2 = []\n",
        "vetor3 = []\n",
        "for i in range (5):\n",
        "    vetor1.append(float(input(\"Digite um valor: \")))\n",
        "    vetor2.append(float(input(\"Digite outros valores: \")))\n",
        "\n",
        "for i in range(len(vetor1)):\n",
        "    vetor3.append(vetor1[i])\n",
        "\n",
        "for i in range(len(vetor1)):\n",
        "    vetor3.append(vetor2[i])\n",
        "\n",
        "vetor3.sort()\n",
        "print(vetor3)"
      ],
      "execution_count": null,
      "outputs": [
        {
          "output_type": "stream",
          "name": "stdout",
          "text": [
            "Digite um valor: 10\n",
            "Digite um valor: 12\n",
            "Digite um valor: 14\n",
            "Digite um valor: 16\n",
            "Digite um valor: 18\n",
            "Digite outros valores: 11\n",
            "Digite outros valores: 13\n",
            "Digite outros valores: 15\n",
            "Digite outros valores: 17\n",
            "Digite outros valores: 19\n",
            "[10.0, 11.0, 12.0, 13.0, 14.0, 15.0, 16.0, 17.0, 18.0, 19.0]\n"
          ]
        }
      ]
    },
    {
      "cell_type": "markdown",
      "metadata": {
        "id": "HkiTq5lrNSnY"
      },
      "source": [
        "### 17. Faça um programa que:\n",
        "\n",
        "* carregue dois vetores com 10 números cada\n",
        "* faça a multiplicação dos números na mesma posição\n",
        "* o resultado deverá ser adicionada em um terceiro vetor\n",
        "\n",
        "Não use nenhuma função pronta da linguagem Python, a não ser len() e append()."
      ]
    },
    {
      "cell_type": "code",
      "metadata": {
        "id": "F1bta73yNXRe",
        "colab": {
          "base_uri": "https://localhost:8080/"
        },
        "outputId": "895931a5-0e70-46f2-ccab-f7404e4057cd"
      },
      "source": [
        "vetor1 = []\n",
        "vetor2 = []\n",
        "vetor3 = []\n",
        "for i in range(5):\n",
        "    vetor1.append(int(input(\"Informe um valor: \")))\n",
        "    vetor2.append(int(input(\"Informe outro valor: \")))\n",
        "\n",
        "print(vetor1)\n",
        "print(vetor2)\n",
        "\n",
        "for i in range(len(vetor1)):\n",
        "    vetor3.append(vetor1[i] * vetor2[i])\n",
        "print(vetor3)"
      ],
      "execution_count": null,
      "outputs": [
        {
          "output_type": "stream",
          "name": "stdout",
          "text": [
            "Informe um valor: 1\n",
            "Informe outro valor: 2\n",
            "Informe um valor: 3\n",
            "Informe outro valor: 4\n",
            "Informe um valor: 5\n",
            "Informe outro valor: 6\n",
            "Informe um valor: 7\n",
            "Informe outro valor: 8\n",
            "Informe um valor: 9\n",
            "Informe outro valor: 10\n",
            "[1, 3, 5, 7, 9]\n",
            "[2, 4, 6, 8, 10]\n",
            "[2, 12, 30, 56, 90]\n"
          ]
        }
      ]
    },
    {
      "cell_type": "markdown",
      "metadata": {
        "id": "ZAel4hPSNXdC"
      },
      "source": [
        "### 18. Faça um programa que:\n",
        "\n",
        "* leia um vetor de 10 números inteiros\n",
        "* exiba na tela os números positivos e seus respectivos índices.\n",
        "\n",
        "Não use nenhuma função pronta da linguagem Python, a não ser len() e append()."
      ]
    },
    {
      "cell_type": "code",
      "metadata": {
        "id": "Wn-sojioNb99",
        "colab": {
          "base_uri": "https://localhost:8080/"
        },
        "outputId": "82c2c5d2-854a-4786-fdab-5eb56714ec09"
      },
      "source": [
        "vetor = []\n",
        "for i in range(5):\n",
        "    vetor.append(int(input(\"Informe um valor: \")))\n",
        "\n",
        "for i in range(len(vetor1)):\n",
        "    if vetor[i] > 0:\n",
        "        print(\"Positivo: \", vetor[i], \"/ posição: \", i+1)"
      ],
      "execution_count": null,
      "outputs": [
        {
          "output_type": "stream",
          "name": "stdout",
          "text": [
            "Informe um valor: 12\n",
            "Informe um valor: -99\n",
            "Informe um valor: -78\n",
            "Informe um valor: -200\n",
            "Informe um valor: 55\n",
            "Positivo:  12 ; posição:  1\n",
            "Positivo:  55 ; posição:  5\n"
          ]
        }
      ]
    },
    {
      "cell_type": "markdown",
      "metadata": {
        "id": "IErlUNBBNcKh"
      },
      "source": [
        "### 19. Faça um programa que:\n",
        "\n",
        "* insira dez números inteiros em um vetor\n",
        "* crie um segundo vetor, substituindo os números multiplos de 3 por \"999\"\"\n",
        "* exiba os dois vetores\n",
        "\n",
        "Não use nenhuma função pronta da linguagem Python, a não ser len() e append()."
      ]
    },
    {
      "cell_type": "code",
      "metadata": {
        "id": "ABkUHan9NiRV",
        "colab": {
          "base_uri": "https://localhost:8080/"
        },
        "outputId": "4fdaab81-0f7b-4f24-ff4c-aaeaca14fa96"
      },
      "source": [
        "vetor = []\n",
        "vetor2 = []\n",
        "for i in range(5):\n",
        "    vetor.append(int(input(\"Informe um valor: \")))\n",
        "\n",
        "for i in range(len(vetor)):\n",
        "    if vetor[i] % 3 == 0:\n",
        "        vetor2.append(999)\n",
        "    else:\n",
        "        vetor2.append(vetor[i])\n",
        "\n",
        "print(vetor2)"
      ],
      "execution_count": null,
      "outputs": [
        {
          "output_type": "stream",
          "name": "stdout",
          "text": [
            "Informe um valor: 3\n",
            "Informe um valor: 33\n",
            "Informe um valor: 12\n",
            "Informe um valor: 15\n",
            "Informe um valor: 99\n",
            "[999, 999, 999, 999, 999]\n"
          ]
        }
      ]
    },
    {
      "cell_type": "markdown",
      "metadata": {
        "id": "ZtxMl1r8NnV7"
      },
      "source": [
        "### 20. Faça um programa que:\n",
        "\n",
        "* leia dois vetores (A e B) com cinco posições para números inteiros.\n",
        "* o programa deve, então, subtrair o primeiro elemento de A do último de B, armazenando o resultado num terceiro vetor, subtrair o segundo elemento de A do penúltimo de B, armazenando o resultado num terceiro vetor e assim por diante.\n",
        "* ao final, mostre o resultado do terceiro vetor\n",
        "\n",
        "O índice de um dos vetores terá que ser decrementado (slide 2 de Vetor) , ou seja, você implementara ele manualmente.\n",
        "\n",
        "Não use nenhuma função pronta da linguagem Python, a não ser len() e append()."
      ]
    },
    {
      "cell_type": "code",
      "source": [
        "a = []\n",
        "b= []\n",
        "c = []\n",
        "for i in range(5):\n",
        "    a.append(int(input(\"Informe o valor do vetor a: \")))\n",
        "    b.append(int(input(\"Informe o valor do vetor b: \")))\n",
        "print(a)\n",
        "print(b)\n",
        "\n",
        "indice = len(b) - 1\n",
        "for i in range(5):\n",
        "    c.append(a[i] - b[indice])\n",
        "    print(a[i],\"-\",b[indice])\n",
        "    indice -= 1\n",
        "print(c)"
      ],
      "metadata": {
        "id": "CI95QdfqJw9N",
        "colab": {
          "base_uri": "https://localhost:8080/"
        },
        "outputId": "b444cdab-604d-4420-986a-a1b3d0c00f1f"
      },
      "execution_count": null,
      "outputs": [
        {
          "output_type": "stream",
          "name": "stdout",
          "text": [
            "Informe o valor do vetor a: 10\n",
            "Informe o valor do vetor b: 9\n",
            "Informe o valor do vetor a: 8\n",
            "Informe o valor do vetor b: 7\n",
            "Informe o valor do vetor a: 6\n",
            "Informe o valor do vetor b: 5\n",
            "Informe o valor do vetor a: 4\n",
            "Informe o valor do vetor b: 3\n",
            "Informe o valor do vetor a: 2\n",
            "Informe o valor do vetor b: 1\n",
            "[10, 8, 6, 4, 2]\n",
            "[9, 7, 5, 3, 1]\n",
            "10 - 1\n",
            "8 - 3\n",
            "6 - 5\n",
            "4 - 7\n",
            "2 - 9\n",
            "[9, 5, 1, -3, -7]\n"
          ]
        }
      ]
    },
    {
      "cell_type": "code",
      "metadata": {
        "id": "TPVdojenNq37",
        "colab": {
          "base_uri": "https://localhost:8080/"
        },
        "outputId": "60bc2aa6-0fab-4416-e986-a86b9ccc5c8b"
      },
      "source": [
        "# Digite seu código aqui.\n",
        "# Exemplo:\n",
        "# a [89, 41, 64, 55, 93]\n",
        "# b [68, 32, 79, 76, 38]\n",
        "# c [89 - 38, 41 - 76, 64 - 79, 55 - 32, 93 - 68]\n",
        "# c [51, -35, -15, 23, 25]\n"
      ],
      "execution_count": null,
      "outputs": [
        {
          "output_type": "stream",
          "name": "stdout",
          "text": [
            "Digite o valor do vetor a[0]: 89\n",
            "Digite o valor do vetor b[0]: 68\n",
            "Digite o valor do vetor a[1]: 41\n",
            "Digite o valor do vetor b[1]: 32\n",
            "Digite o valor do vetor a[2]: 64\n",
            "Digite o valor do vetor b[2]: 79\n",
            "Digite o valor do vetor a[3]: 55\n",
            "Digite o valor do vetor b[3]: 76\n",
            "Digite o valor do vetor a[4]: 93\n",
            "Digite o valor do vetor b[4]: 38\n",
            "[89, 41, 64, 55, 93]\n",
            "[68, 32, 79, 76, 38]\n",
            "[51, -35, -15, 23, 25]\n"
          ]
        }
      ]
    },
    {
      "cell_type": "markdown",
      "metadata": {
        "id": "ASOIKJD7M-vh"
      },
      "source": [
        "###21. Faça um programa que:\n",
        "\n",
        "* preencha um vetor de cinco números e mostre a saída a seguir:\n",
        "* imprima a seguinte saída, exemplo (cada número e o sinal de adição e depois o resultado da soma dos números) 8 + 2 + 1 + 3 + 0 = 14\n",
        "\n",
        "Não use nenhuma função pronta da linguagem Python, a não ser len() e append()."
      ]
    },
    {
      "cell_type": "code",
      "metadata": {
        "id": "hyDhAbwPNuhK",
        "colab": {
          "base_uri": "https://localhost:8080/"
        },
        "outputId": "15c0dfeb-ce1f-4240-9e3f-436a5cdf5301"
      },
      "source": [
        "vetor = []\n",
        "for i in range(5):\n",
        "    vetor.append(int(input(\"Informe um valor: \")))\n",
        "\n",
        "saida = \"\"\n",
        "soma = 0\n",
        "for i in range(len(vetor)):\n",
        "    saida += str(vetor[i])\n",
        "    soma += vetor[i]\n",
        "\n",
        "    if i != len(vetor) - 1:\n",
        "        saida += \" + \"\n",
        "\n",
        "saida += \" = \" + str(soma)\n",
        "print(saida)"
      ],
      "execution_count": null,
      "outputs": [
        {
          "output_type": "stream",
          "name": "stdout",
          "text": [
            "Informe um valor: 10\n",
            "Informe um valor: 11\n",
            "Informe um valor: 12\n",
            "Informe um valor: 13\n",
            "Informe um valor: 14\n",
            "10 + 11 + 12 + 13 + 14 = 60\n"
          ]
        }
      ]
    },
    {
      "cell_type": "markdown",
      "metadata": {
        "id": "D6GVJmfhNusA"
      },
      "source": [
        "### 22. Faça um programa que:\n",
        "* leia um vetor com quinze posições para números inteiros.\n",
        "* depois da leitura, em outro vetor, armazene a divisão de todos os  elementos pelo maior valor do vetor, para isso encontre o maior elemento\n",
        "* Mostre o vetor após os cálculos.\n",
        "\n",
        "Não use nenhuma função pronta da linguagem Python, a não ser len() e append()."
      ]
    },
    {
      "cell_type": "code",
      "metadata": {
        "id": "zto4otPkgPRV",
        "colab": {
          "base_uri": "https://localhost:8080/"
        },
        "outputId": "e7b2264a-0c75-4eb1-ab6d-f1ac514caac6"
      },
      "source": [
        "numero = []\n",
        "divisao = []\n",
        "maior = 0\n",
        "for i in range(5):\n",
        "    numero.append(int(input(f\"Informe o valor {i+1}: \")))\n",
        "    if i == 0:\n",
        "        maior = numero[i]\n",
        "    if numero[i] > maior:\n",
        "        maior = numero[i]\n",
        "\n",
        "for i in range(len(numero)):\n",
        "    divisao.append(numero[i] / maior)\n",
        "print(divisao)"
      ],
      "execution_count": null,
      "outputs": [
        {
          "output_type": "stream",
          "name": "stdout",
          "text": [
            "Informe o valor 1: 12\n",
            "Informe o valor 2: 23\n",
            "Informe o valor 3: 34\n",
            "Informe o valor 4: 45\n",
            "Informe o valor 5: 56\n",
            "[0.21428571428571427, 0.4107142857142857, 0.6071428571428571, 0.8035714285714286, 1.0]\n"
          ]
        }
      ]
    },
    {
      "cell_type": "markdown",
      "metadata": {
        "id": "Hwgks80Tawon"
      },
      "source": [
        "### 23. Um vetor é palíndromo se ele não se alterar quando o mesmo for invertido. Escreva um programa que verifique se um vetor é palíndromo, fazendo comparação de índice/posição por índice/posição do vetor original (vo) com o vetor invertido (vi). Não use nenhuma função pronta da linguagem Python. A tamanho do vetor pode ser da sua escolha.\n",
        "Exemplo:\n",
        "vetor original    vo = {1, 3, 5, 2, 2, 5, 3, 1}  \n",
        "vetor invertido é vi = {1, 3, 5, 2, 2, 5, 3, 1}\n",
        "O vetor invertido **é palíndromo**, pois ele invertido é igual ao original\n",
        "\n",
        "vetor original    vo = {9, 7, 5, 2, 4, 5, 3, 6}  \n",
        "vetor invertido é vi = {6, 3, 5, 4, 2, 5, 7, 9}\n",
        "O vetor invertido **não é palíndromo**, pois ele invertido é igual ao original\n",
        "\n"
      ]
    },
    {
      "cell_type": "code",
      "metadata": {
        "id": "ua4_aIrbN0rO",
        "colab": {
          "base_uri": "https://localhost:8080/"
        },
        "outputId": "10c4921d-8328-4ebf-b27a-19f8cf25578c"
      },
      "source": [
        "vo = []\n",
        "vi = []\n",
        "elementos = 0\n",
        "for i in range(5):\n",
        "    vo.append(int(input(f\"Informe o valor do vetor {i+1}: \")))\n",
        "\n",
        "indice = len(vo) - 1\n",
        "for i in range(len(vo)):\n",
        "    vi.append(vo[indice])\n",
        "    indice -= 1\n",
        "\n",
        "for i in range(len(vo)):\n",
        "    if vo[i] == vi[i]:\n",
        "        elementos += 1\n",
        "\n",
        "if elementos == len(vo):\n",
        "    print(\"É um palíndromo!\")\n",
        "else:\n",
        "    print(\"Não é um palíndromo!\")"
      ],
      "execution_count": null,
      "outputs": [
        {
          "output_type": "stream",
          "name": "stdout",
          "text": [
            "Informe o valor do vetor 1: 1\n",
            "Informe o valor do vetor 2: 2\n",
            "Informe o valor do vetor 3: 3\n",
            "Informe o valor do vetor 4: 2\n",
            "Informe o valor do vetor 5: 1\n",
            "É um palíndromo!\n"
          ]
        }
      ]
    }
  ]
}