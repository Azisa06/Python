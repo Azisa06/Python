{
  "nbformat": 4,
  "nbformat_minor": 0,
  "metadata": {
    "colab": {
      "provenance": [],
      "include_colab_link": true
    },
    "kernelspec": {
      "name": "python3",
      "display_name": "Python 3"
    }
  },
  "cells": [
    {
      "cell_type": "markdown",
      "metadata": {
        "id": "view-in-github",
        "colab_type": "text"
      },
      "source": [
        "<a href=\"https://colab.research.google.com/github/Azisa06/Python/blob/main/Isabella_Thomazini_231_P1_Alg_n.ipynb\" target=\"_parent\"><img src=\"https://colab.research.google.com/assets/colab-badge.svg\" alt=\"Open In Colab\"/></a>"
      ]
    },
    {
      "cell_type": "markdown",
      "metadata": {
        "id": "kHK95nR3pf6N"
      },
      "source": [
        "##**P1 - 1º. semestre/2023 -  Término: 20:40**\n",
        "## É uma prova de consulta ao seu material (slides da disciplina de Algoritmo usadas na aula e lista de exercícios do Colab da aula) e vale 7 pontos.\n",
        "## **Apenas verificarei** o desenvolvimento dos exercícios de cada aluno, **EM OUTRO DIA**.\n",
        "\n",
        "##Caso entregue atrasado não será aceita a prova.\n",
        "##Depois de terminada a prova, você NÃO PODE MAIS ALTERAR O ARQUIVO DELA, essa ação fica registrada e assim a prova será anulada.\n",
        "##Na próxima aula será realizada a correção da prova.\n",
        "##**Não é permitido o acesso a qualquer outro site/aplicativo para o desenvolvimento da prova, ou seja, apenas poderão estar abertas e visíveis as guias (no navegador de internet) do Classroom e Colab**\n",
        "______________________________________________________\n",
        "\n",
        "\n",
        "\n"
      ]
    },
    {
      "cell_type": "markdown",
      "source": [
        "##**1.** [1,5 pontos - Entrada, processamento e saída] Desenvolva um programa, utilizando a linguagem Python, que leia um valor float (x), calcule e apresente o valor de w seguindo a fórmula:\n",
        "##w = 3x<sup>3</sup> - 2x<sup>2</sup> + 3x - 1"
      ],
      "metadata": {
        "id": "LHXY2C1P_x8J"
      }
    },
    {
      "cell_type": "code",
      "metadata": {
        "id": "uLE2w6-aMadI",
        "colab": {
          "base_uri": "https://localhost:8080/"
        },
        "outputId": "9dd01026-ea94-4c94-9e6c-a1172dbb8cce"
      },
      "source": [
        "x = float(input(\"Digite o valor de X: \"))\n",
        "\n",
        "w = 3 * (x ** 3) - 2 * (x ** 2) + (3 * x) - 1\n",
        "\n",
        "print(f\"O valor de W é: {w:.2f}\")"
      ],
      "execution_count": null,
      "outputs": [
        {
          "output_type": "stream",
          "name": "stdout",
          "text": [
            "Digite o valor de X: 5\n",
            "O valor de W é: 339.00\n"
          ]
        }
      ]
    },
    {
      "cell_type": "markdown",
      "source": [
        "##**2.** [2,5 pontos - Estrutura de decisão] Crie um programa, utilizando a linguagem Python, que receba três valores (obrigatoriamente maiores que zero), representando as medidas dos três lados de um triângulo. Determine se esses lados formam um triângulo e apresente a frase 'É um triângulo' ou 'Não é um triângulo'.\n",
        "##Sabe-se que, para ser triângulo, a medida de um lado qualquer deve ser inferior ou igual à soma das medidas dos outros dois lados."
      ],
      "metadata": {
        "id": "xO7y_frdvxdi"
      }
    },
    {
      "cell_type": "code",
      "metadata": {
        "id": "dLfbF5UpXgsB",
        "colab": {
          "base_uri": "https://localhost:8080/"
        },
        "outputId": "c1758ab0-4c27-4886-dc7e-c9eb62f067e0"
      },
      "source": [
        "print(\"Digite as medidas dos lados A, B e C do triângulo\")\n",
        "a = float(input(\"Digite o valor de A: \"))\n",
        "b = float(input(\"Digite o valor de B: \"))\n",
        "c = float(input(\"Digite o valor de C: \"))\n",
        "\n",
        "if a < b + c and b < a + c and c < a + b:\n",
        "    print(\"É um triângulo.\")\n",
        "else:\n",
        "    print(\"Não é um triângulo.\")"
      ],
      "execution_count": null,
      "outputs": [
        {
          "output_type": "stream",
          "name": "stdout",
          "text": [
            "Digite as medidas dos lados A, B e C do triângulo\n",
            "Digite o valor de A: 5\n",
            "Digite o valor de B: 8\n",
            "Digite o valor de C: 10\n",
            "É um triângulo.\n"
          ]
        }
      ]
    },
    {
      "cell_type": "markdown",
      "source": [
        "##**3.**  [3,0 pontos - Estrutura de repetição] O IPVA (Imposto sobre a Propriedade de Veículos Automotores), é um imposto que não possui valor único para todos os automóveis. O preço a ser pago varia de acordo com o valor venal do veículo e a alíquota do Estado onde ele foi registrado.\n",
        "\n",
        "##A alíquota é uma porcentagem estipulada por cada Estado, que também pode variar de acordo com o tipo de combustível e categoria do veículo, veja a tabela das alíquotas médias de alguns estados, como exemplo:\n",
        "\n",
        "Estados\t |Alíquota\n",
        "---------|---------\n",
        "São Paulo|\t4%\n",
        "Paraná\t |3,5%\n",
        "Alagoas  |3%\n",
        "Bahia\t |2,5%\n",
        "Acre     |2%\n",
        "\n",
        "##O cálculo é feito multiplicando o valor venal do veículo, estipulado pela tabela tabela FIPE, pela porcentagem da alíquota, neste caso utilize apenas a porcentagem do estado de São Paulo para o cálculo.\n",
        "\n",
        "##Implemente uma programa, utilizando a linguagem Python, que receba o valor venal de 10 carros, calcule e apresente:\n",
        "* o IPVA de cada carro;\n",
        "* a média de IPVA de carros acima de R$ 80.000,00\n"
      ],
      "metadata": {
        "id": "WRubcJuUEwsw"
      }
    },
    {
      "cell_type": "code",
      "source": [
        "carro_caro = 0\n",
        "soma_ipva = 0\n",
        "for carros in range (4):\n",
        "    valor_venal = float(input(\"Digite o valor venal do veículo: \"))\n",
        "    estado = str(input(\"Digite o estado em que o carro foi registrado: \"))\n",
        "    if estado == \"São Paulo\":\n",
        "        ipva1 = valor_venal * 0.04\n",
        "        print(f\"IPVA = R${ipva1:.2f}\")\n",
        "        if valor_venal > 80000:\n",
        "            carro_caro +=1\n",
        "            soma_ipva += ipva1\n",
        "    elif estado == \"Paraná\":\n",
        "        ipva2 = valor_venal * 0.035\n",
        "        print(f\"IPVA = R${ipva2:.2f}\")\n",
        "        if valor_venal > 80000:\n",
        "            carro_caro += 1\n",
        "            soma_ipva += ipva2\n",
        "    elif estado == \"Alagoas\":\n",
        "        ipva3 = valor_venal * 0.03\n",
        "        print(f\"IPVA = R${ipva3:.2f}\")\n",
        "        if valor_venal > 80000:\n",
        "            carro_caro += 1\n",
        "            soma_ipva += ipva3\n",
        "    elif estado == \"Bahia\":\n",
        "        ipva4 = valor_venal * 0.025\n",
        "        print(f\"IPVA = R${ipva4:.2f}\")\n",
        "        if valor_venal > 80000:\n",
        "            carro_caro += 1\n",
        "            soma_ipva += ipva4\n",
        "    elif estado == \"Acre\":\n",
        "        ipva5 = valor_venal * 0.02\n",
        "        print(f\"IPVA = R${ipva5:.2f}\")\n",
        "        if valor_venal > 80000:\n",
        "            carro_caro += 1\n",
        "            soma_ipva += ipva5\n",
        "media = soma_ipva / carro_caro\n",
        "print(f\"A média dos IPVAs dos carros acima de R$80.000,00 é R${media:.2f}\")"
      ],
      "metadata": {
        "id": "swcQbivAvgOr",
        "colab": {
          "base_uri": "https://localhost:8080/"
        },
        "outputId": "ea2e7987-ba6a-4014-9f5a-f9e4d869fd1a"
      },
      "execution_count": null,
      "outputs": [
        {
          "output_type": "stream",
          "name": "stdout",
          "text": [
            "Digite o valor venal do veículo: 35000\n",
            "Digite o estado em que o carro foi registrado: São Paulo\n",
            "IPVA = R$1400.00\n",
            "Digite o valor venal do veículo: 200000\n",
            "Digite o estado em que o carro foi registrado: Acre\n",
            "IPVA = R$4000.00\n",
            "Digite o valor venal do veículo: 55000\n",
            "Digite o estado em que o carro foi registrado: Paraná\n",
            "IPVA = R$1925.00\n",
            "Digite o valor venal do veículo: 150000\n",
            "Digite o estado em que o carro foi registrado: Alagoas\n",
            "IPVA = R$4500.00\n",
            "A média dos IPVAs dos carros acima de R$80.000,00 é R$4250.00\n"
          ]
        }
      ]
    }
  ]
}